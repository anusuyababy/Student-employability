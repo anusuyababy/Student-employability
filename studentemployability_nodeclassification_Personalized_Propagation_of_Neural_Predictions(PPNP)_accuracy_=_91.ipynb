{
  "nbformat": 4,
  "nbformat_minor": 0,
  "metadata": {
    "colab": {
      "provenance": []
    },
    "kernelspec": {
      "name": "python3",
      "display_name": "Python 3"
    },
    "language_info": {
      "name": "python"
    }
  },
  "cells": [
    {
      "cell_type": "code",
      "execution_count": 51,
      "metadata": {
        "colab": {
          "base_uri": "https://localhost:8080/"
        },
        "id": "Cncu-nl9lfoV",
        "outputId": "3cabf06d-446f-4ef8-e6c2-fe10c61459ee"
      },
      "outputs": [
        {
          "output_type": "stream",
          "name": "stdout",
          "text": [
            "Looking in indexes: https://pypi.org/simple, https://us-python.pkg.dev/colab-wheels/public/simple/\n",
            "Requirement already satisfied: stellargraph in /usr/local/lib/python3.8/dist-packages (1.2.1)\n",
            "Requirement already satisfied: tensorflow>=2.1.0 in /usr/local/lib/python3.8/dist-packages (from stellargraph) (2.9.2)\n",
            "Requirement already satisfied: networkx>=2.2 in /usr/local/lib/python3.8/dist-packages (from stellargraph) (2.3)\n",
            "Requirement already satisfied: scipy>=1.1.0 in /usr/local/lib/python3.8/dist-packages (from stellargraph) (1.7.3)\n",
            "Requirement already satisfied: matplotlib>=2.2 in /usr/local/lib/python3.8/dist-packages (from stellargraph) (3.2.2)\n",
            "Requirement already satisfied: scikit-learn>=0.20 in /usr/local/lib/python3.8/dist-packages (from stellargraph) (1.0.2)\n",
            "Requirement already satisfied: pandas>=0.24 in /usr/local/lib/python3.8/dist-packages (from stellargraph) (1.3.5)\n",
            "Requirement already satisfied: numpy>=1.14 in /usr/local/lib/python3.8/dist-packages (from stellargraph) (1.21.6)\n",
            "Requirement already satisfied: gensim>=3.4.0 in /usr/local/lib/python3.8/dist-packages (from stellargraph) (3.6.0)\n",
            "Requirement already satisfied: six>=1.5.0 in /usr/local/lib/python3.8/dist-packages (from gensim>=3.4.0->stellargraph) (1.15.0)\n",
            "Requirement already satisfied: smart-open>=1.2.1 in /usr/local/lib/python3.8/dist-packages (from gensim>=3.4.0->stellargraph) (6.3.0)\n",
            "Requirement already satisfied: cycler>=0.10 in /usr/local/lib/python3.8/dist-packages (from matplotlib>=2.2->stellargraph) (0.11.0)\n",
            "Requirement already satisfied: python-dateutil>=2.1 in /usr/local/lib/python3.8/dist-packages (from matplotlib>=2.2->stellargraph) (2.8.2)\n",
            "Requirement already satisfied: kiwisolver>=1.0.1 in /usr/local/lib/python3.8/dist-packages (from matplotlib>=2.2->stellargraph) (1.4.4)\n",
            "Requirement already satisfied: pyparsing!=2.0.4,!=2.1.2,!=2.1.6,>=2.0.1 in /usr/local/lib/python3.8/dist-packages (from matplotlib>=2.2->stellargraph) (3.0.9)\n",
            "Requirement already satisfied: decorator>=4.3.0 in /usr/local/lib/python3.8/dist-packages (from networkx>=2.2->stellargraph) (4.4.2)\n",
            "Requirement already satisfied: pytz>=2017.3 in /usr/local/lib/python3.8/dist-packages (from pandas>=0.24->stellargraph) (2022.7)\n",
            "Requirement already satisfied: joblib>=0.11 in /usr/local/lib/python3.8/dist-packages (from scikit-learn>=0.20->stellargraph) (1.2.0)\n",
            "Requirement already satisfied: threadpoolctl>=2.0.0 in /usr/local/lib/python3.8/dist-packages (from scikit-learn>=0.20->stellargraph) (3.1.0)\n",
            "Requirement already satisfied: grpcio<2.0,>=1.24.3 in /usr/local/lib/python3.8/dist-packages (from tensorflow>=2.1.0->stellargraph) (1.51.1)\n",
            "Requirement already satisfied: astunparse>=1.6.0 in /usr/local/lib/python3.8/dist-packages (from tensorflow>=2.1.0->stellargraph) (1.6.3)\n",
            "Requirement already satisfied: keras<2.10.0,>=2.9.0rc0 in /usr/local/lib/python3.8/dist-packages (from tensorflow>=2.1.0->stellargraph) (2.9.0)\n",
            "Requirement already satisfied: libclang>=13.0.0 in /usr/local/lib/python3.8/dist-packages (from tensorflow>=2.1.0->stellargraph) (15.0.6.1)\n",
            "Requirement already satisfied: protobuf<3.20,>=3.9.2 in /usr/local/lib/python3.8/dist-packages (from tensorflow>=2.1.0->stellargraph) (3.19.6)\n",
            "Requirement already satisfied: tensorflow-estimator<2.10.0,>=2.9.0rc0 in /usr/local/lib/python3.8/dist-packages (from tensorflow>=2.1.0->stellargraph) (2.9.0)\n",
            "Requirement already satisfied: setuptools in /usr/local/lib/python3.8/dist-packages (from tensorflow>=2.1.0->stellargraph) (57.4.0)\n",
            "Requirement already satisfied: tensorboard<2.10,>=2.9 in /usr/local/lib/python3.8/dist-packages (from tensorflow>=2.1.0->stellargraph) (2.9.1)\n",
            "Requirement already satisfied: opt-einsum>=2.3.2 in /usr/local/lib/python3.8/dist-packages (from tensorflow>=2.1.0->stellargraph) (3.3.0)\n",
            "Requirement already satisfied: tensorflow-io-gcs-filesystem>=0.23.1 in /usr/local/lib/python3.8/dist-packages (from tensorflow>=2.1.0->stellargraph) (0.29.0)\n",
            "Requirement already satisfied: typing-extensions>=3.6.6 in /usr/local/lib/python3.8/dist-packages (from tensorflow>=2.1.0->stellargraph) (4.4.0)\n",
            "Requirement already satisfied: keras-preprocessing>=1.1.1 in /usr/local/lib/python3.8/dist-packages (from tensorflow>=2.1.0->stellargraph) (1.1.2)\n",
            "Requirement already satisfied: wrapt>=1.11.0 in /usr/local/lib/python3.8/dist-packages (from tensorflow>=2.1.0->stellargraph) (1.14.1)\n",
            "Requirement already satisfied: gast<=0.4.0,>=0.2.1 in /usr/local/lib/python3.8/dist-packages (from tensorflow>=2.1.0->stellargraph) (0.4.0)\n",
            "Requirement already satisfied: packaging in /usr/local/lib/python3.8/dist-packages (from tensorflow>=2.1.0->stellargraph) (21.3)\n",
            "Requirement already satisfied: termcolor>=1.1.0 in /usr/local/lib/python3.8/dist-packages (from tensorflow>=2.1.0->stellargraph) (2.2.0)\n",
            "Requirement already satisfied: google-pasta>=0.1.1 in /usr/local/lib/python3.8/dist-packages (from tensorflow>=2.1.0->stellargraph) (0.2.0)\n",
            "Requirement already satisfied: absl-py>=1.0.0 in /usr/local/lib/python3.8/dist-packages (from tensorflow>=2.1.0->stellargraph) (1.3.0)\n",
            "Requirement already satisfied: h5py>=2.9.0 in /usr/local/lib/python3.8/dist-packages (from tensorflow>=2.1.0->stellargraph) (3.1.0)\n",
            "Requirement already satisfied: flatbuffers<2,>=1.12 in /usr/local/lib/python3.8/dist-packages (from tensorflow>=2.1.0->stellargraph) (1.12)\n",
            "Requirement already satisfied: wheel<1.0,>=0.23.0 in /usr/local/lib/python3.8/dist-packages (from astunparse>=1.6.0->tensorflow>=2.1.0->stellargraph) (0.38.4)\n",
            "Requirement already satisfied: markdown>=2.6.8 in /usr/local/lib/python3.8/dist-packages (from tensorboard<2.10,>=2.9->tensorflow>=2.1.0->stellargraph) (3.4.1)\n",
            "Requirement already satisfied: werkzeug>=1.0.1 in /usr/local/lib/python3.8/dist-packages (from tensorboard<2.10,>=2.9->tensorflow>=2.1.0->stellargraph) (1.0.1)\n",
            "Requirement already satisfied: tensorboard-data-server<0.7.0,>=0.6.0 in /usr/local/lib/python3.8/dist-packages (from tensorboard<2.10,>=2.9->tensorflow>=2.1.0->stellargraph) (0.6.1)\n",
            "Requirement already satisfied: tensorboard-plugin-wit>=1.6.0 in /usr/local/lib/python3.8/dist-packages (from tensorboard<2.10,>=2.9->tensorflow>=2.1.0->stellargraph) (1.8.1)\n",
            "Requirement already satisfied: google-auth-oauthlib<0.5,>=0.4.1 in /usr/local/lib/python3.8/dist-packages (from tensorboard<2.10,>=2.9->tensorflow>=2.1.0->stellargraph) (0.4.6)\n",
            "Requirement already satisfied: requests<3,>=2.21.0 in /usr/local/lib/python3.8/dist-packages (from tensorboard<2.10,>=2.9->tensorflow>=2.1.0->stellargraph) (2.25.1)\n",
            "Requirement already satisfied: google-auth<3,>=1.6.3 in /usr/local/lib/python3.8/dist-packages (from tensorboard<2.10,>=2.9->tensorflow>=2.1.0->stellargraph) (2.16.0)\n",
            "Requirement already satisfied: pyasn1-modules>=0.2.1 in /usr/local/lib/python3.8/dist-packages (from google-auth<3,>=1.6.3->tensorboard<2.10,>=2.9->tensorflow>=2.1.0->stellargraph) (0.2.8)\n",
            "Requirement already satisfied: rsa<5,>=3.1.4 in /usr/local/lib/python3.8/dist-packages (from google-auth<3,>=1.6.3->tensorboard<2.10,>=2.9->tensorflow>=2.1.0->stellargraph) (4.9)\n",
            "Requirement already satisfied: cachetools<6.0,>=2.0.0 in /usr/local/lib/python3.8/dist-packages (from google-auth<3,>=1.6.3->tensorboard<2.10,>=2.9->tensorflow>=2.1.0->stellargraph) (5.2.1)\n",
            "Requirement already satisfied: requests-oauthlib>=0.7.0 in /usr/local/lib/python3.8/dist-packages (from google-auth-oauthlib<0.5,>=0.4.1->tensorboard<2.10,>=2.9->tensorflow>=2.1.0->stellargraph) (1.3.1)\n",
            "Requirement already satisfied: importlib-metadata>=4.4 in /usr/local/lib/python3.8/dist-packages (from markdown>=2.6.8->tensorboard<2.10,>=2.9->tensorflow>=2.1.0->stellargraph) (6.0.0)\n",
            "Requirement already satisfied: idna<3,>=2.5 in /usr/local/lib/python3.8/dist-packages (from requests<3,>=2.21.0->tensorboard<2.10,>=2.9->tensorflow>=2.1.0->stellargraph) (2.10)\n",
            "Requirement already satisfied: chardet<5,>=3.0.2 in /usr/local/lib/python3.8/dist-packages (from requests<3,>=2.21.0->tensorboard<2.10,>=2.9->tensorflow>=2.1.0->stellargraph) (4.0.0)\n",
            "Requirement already satisfied: urllib3<1.27,>=1.21.1 in /usr/local/lib/python3.8/dist-packages (from requests<3,>=2.21.0->tensorboard<2.10,>=2.9->tensorflow>=2.1.0->stellargraph) (1.24.3)\n",
            "Requirement already satisfied: certifi>=2017.4.17 in /usr/local/lib/python3.8/dist-packages (from requests<3,>=2.21.0->tensorboard<2.10,>=2.9->tensorflow>=2.1.0->stellargraph) (2022.12.7)\n",
            "Requirement already satisfied: zipp>=0.5 in /usr/local/lib/python3.8/dist-packages (from importlib-metadata>=4.4->markdown>=2.6.8->tensorboard<2.10,>=2.9->tensorflow>=2.1.0->stellargraph) (3.11.0)\n",
            "Requirement already satisfied: pyasn1<0.5.0,>=0.4.6 in /usr/local/lib/python3.8/dist-packages (from pyasn1-modules>=0.2.1->google-auth<3,>=1.6.3->tensorboard<2.10,>=2.9->tensorflow>=2.1.0->stellargraph) (0.4.8)\n",
            "Requirement already satisfied: oauthlib>=3.0.0 in /usr/local/lib/python3.8/dist-packages (from requests-oauthlib>=0.7.0->google-auth-oauthlib<0.5,>=0.4.1->tensorboard<2.10,>=2.9->tensorflow>=2.1.0->stellargraph) (3.2.2)\n"
          ]
        }
      ],
      "source": [
        "!pip install stellargraph"
      ]
    },
    {
      "cell_type": "code",
      "source": [
        "!pip install networkx==2.3"
      ],
      "metadata": {
        "colab": {
          "base_uri": "https://localhost:8080/"
        },
        "id": "xXohTyuW0S3L",
        "outputId": "f8d1c7dd-3f74-4151-e576-e66d66de9bbc"
      },
      "execution_count": 52,
      "outputs": [
        {
          "output_type": "stream",
          "name": "stdout",
          "text": [
            "Looking in indexes: https://pypi.org/simple, https://us-python.pkg.dev/colab-wheels/public/simple/\n",
            "Requirement already satisfied: networkx==2.3 in /usr/local/lib/python3.8/dist-packages (2.3)\n",
            "Requirement already satisfied: decorator>=4.3.0 in /usr/local/lib/python3.8/dist-packages (from networkx==2.3) (4.4.2)\n"
          ]
        }
      ]
    },
    {
      "cell_type": "code",
      "source": [
        "# importing all necessary libraries\n",
        "import networkx as nx\n",
        "import pandas as pd\n",
        "import numpy as np\n",
        "import matplotlib.pyplot as plt\n",
        "import seaborn as sns\n",
        "import string\n",
        "import os\n",
        "import networkx as nx\n",
        "import stellargraph as sg\n",
        "from stellargraph import StellarGraph\n",
        "from sklearn import preprocessing, model_selection\n",
        "from IPython.display import display, HTML\n",
        "import matplotlib.pyplot as plt\n",
        "from sklearn.decomposition import PCA\n",
        "#from node2vec import Node2Vec as n2v\n",
        "sns.set()\n",
        "\n",
        "%matplotlib inline"
      ],
      "metadata": {
        "id": "gR5IuYl2ljDG"
      },
      "execution_count": 53,
      "outputs": []
    },
    {
      "cell_type": "code",
      "source": [
        "df = pd.read_csv('Student-Employability-Dataset.csv')\n",
        "df.head()\n",
        "# Dataset is now stored in a Pandas Dataframe"
      ],
      "metadata": {
        "id": "nOzycvYGljGI",
        "colab": {
          "base_uri": "https://localhost:8080/",
          "height": 206
        },
        "outputId": "3a14ded3-2e83-48b6-fa73-eaceaec06f4e"
      },
      "execution_count": 54,
      "outputs": [
        {
          "output_type": "execute_result",
          "data": {
            "text/plain": [
              "   GENERAL APPEARANCE  MANNER OF SPEAKING  PHYSICAL CONDITION  \\\n",
              "0                   4                   5                   4   \n",
              "1                   4                   4                   4   \n",
              "2                   4                   3                   3   \n",
              "3                   3                   3                   3   \n",
              "4                   4                   4                   3   \n",
              "\n",
              "   MENTAL ALERTNESS  SELF-CONFIDENCE  ABILITY TO PRESENT IDEAS  \\\n",
              "0                 5                5                         5   \n",
              "1                 4                4                         4   \n",
              "2                 3                3                         3   \n",
              "3                 2                3                         3   \n",
              "4                 3                4                         4   \n",
              "\n",
              "   COMMUNICATION SKILLS  Student Performance Rating           CLASS  \n",
              "0                     5                           5      Employable  \n",
              "1                     3                           5      Employable  \n",
              "2                     2                           5  LessEmployable  \n",
              "3                     3                           5  LessEmployable  \n",
              "4                     3                           5      Employable  "
            ],
            "text/html": [
              "\n",
              "  <div id=\"df-ef2db341-2284-49b0-9039-573fe6b42b61\">\n",
              "    <div class=\"colab-df-container\">\n",
              "      <div>\n",
              "<style scoped>\n",
              "    .dataframe tbody tr th:only-of-type {\n",
              "        vertical-align: middle;\n",
              "    }\n",
              "\n",
              "    .dataframe tbody tr th {\n",
              "        vertical-align: top;\n",
              "    }\n",
              "\n",
              "    .dataframe thead th {\n",
              "        text-align: right;\n",
              "    }\n",
              "</style>\n",
              "<table border=\"1\" class=\"dataframe\">\n",
              "  <thead>\n",
              "    <tr style=\"text-align: right;\">\n",
              "      <th></th>\n",
              "      <th>GENERAL APPEARANCE</th>\n",
              "      <th>MANNER OF SPEAKING</th>\n",
              "      <th>PHYSICAL CONDITION</th>\n",
              "      <th>MENTAL ALERTNESS</th>\n",
              "      <th>SELF-CONFIDENCE</th>\n",
              "      <th>ABILITY TO PRESENT IDEAS</th>\n",
              "      <th>COMMUNICATION SKILLS</th>\n",
              "      <th>Student Performance Rating</th>\n",
              "      <th>CLASS</th>\n",
              "    </tr>\n",
              "  </thead>\n",
              "  <tbody>\n",
              "    <tr>\n",
              "      <th>0</th>\n",
              "      <td>4</td>\n",
              "      <td>5</td>\n",
              "      <td>4</td>\n",
              "      <td>5</td>\n",
              "      <td>5</td>\n",
              "      <td>5</td>\n",
              "      <td>5</td>\n",
              "      <td>5</td>\n",
              "      <td>Employable</td>\n",
              "    </tr>\n",
              "    <tr>\n",
              "      <th>1</th>\n",
              "      <td>4</td>\n",
              "      <td>4</td>\n",
              "      <td>4</td>\n",
              "      <td>4</td>\n",
              "      <td>4</td>\n",
              "      <td>4</td>\n",
              "      <td>3</td>\n",
              "      <td>5</td>\n",
              "      <td>Employable</td>\n",
              "    </tr>\n",
              "    <tr>\n",
              "      <th>2</th>\n",
              "      <td>4</td>\n",
              "      <td>3</td>\n",
              "      <td>3</td>\n",
              "      <td>3</td>\n",
              "      <td>3</td>\n",
              "      <td>3</td>\n",
              "      <td>2</td>\n",
              "      <td>5</td>\n",
              "      <td>LessEmployable</td>\n",
              "    </tr>\n",
              "    <tr>\n",
              "      <th>3</th>\n",
              "      <td>3</td>\n",
              "      <td>3</td>\n",
              "      <td>3</td>\n",
              "      <td>2</td>\n",
              "      <td>3</td>\n",
              "      <td>3</td>\n",
              "      <td>3</td>\n",
              "      <td>5</td>\n",
              "      <td>LessEmployable</td>\n",
              "    </tr>\n",
              "    <tr>\n",
              "      <th>4</th>\n",
              "      <td>4</td>\n",
              "      <td>4</td>\n",
              "      <td>3</td>\n",
              "      <td>3</td>\n",
              "      <td>4</td>\n",
              "      <td>4</td>\n",
              "      <td>3</td>\n",
              "      <td>5</td>\n",
              "      <td>Employable</td>\n",
              "    </tr>\n",
              "  </tbody>\n",
              "</table>\n",
              "</div>\n",
              "      <button class=\"colab-df-convert\" onclick=\"convertToInteractive('df-ef2db341-2284-49b0-9039-573fe6b42b61')\"\n",
              "              title=\"Convert this dataframe to an interactive table.\"\n",
              "              style=\"display:none;\">\n",
              "        \n",
              "  <svg xmlns=\"http://www.w3.org/2000/svg\" height=\"24px\"viewBox=\"0 0 24 24\"\n",
              "       width=\"24px\">\n",
              "    <path d=\"M0 0h24v24H0V0z\" fill=\"none\"/>\n",
              "    <path d=\"M18.56 5.44l.94 2.06.94-2.06 2.06-.94-2.06-.94-.94-2.06-.94 2.06-2.06.94zm-11 1L8.5 8.5l.94-2.06 2.06-.94-2.06-.94L8.5 2.5l-.94 2.06-2.06.94zm10 10l.94 2.06.94-2.06 2.06-.94-2.06-.94-.94-2.06-.94 2.06-2.06.94z\"/><path d=\"M17.41 7.96l-1.37-1.37c-.4-.4-.92-.59-1.43-.59-.52 0-1.04.2-1.43.59L10.3 9.45l-7.72 7.72c-.78.78-.78 2.05 0 2.83L4 21.41c.39.39.9.59 1.41.59.51 0 1.02-.2 1.41-.59l7.78-7.78 2.81-2.81c.8-.78.8-2.07 0-2.86zM5.41 20L4 18.59l7.72-7.72 1.47 1.35L5.41 20z\"/>\n",
              "  </svg>\n",
              "      </button>\n",
              "      \n",
              "  <style>\n",
              "    .colab-df-container {\n",
              "      display:flex;\n",
              "      flex-wrap:wrap;\n",
              "      gap: 12px;\n",
              "    }\n",
              "\n",
              "    .colab-df-convert {\n",
              "      background-color: #E8F0FE;\n",
              "      border: none;\n",
              "      border-radius: 50%;\n",
              "      cursor: pointer;\n",
              "      display: none;\n",
              "      fill: #1967D2;\n",
              "      height: 32px;\n",
              "      padding: 0 0 0 0;\n",
              "      width: 32px;\n",
              "    }\n",
              "\n",
              "    .colab-df-convert:hover {\n",
              "      background-color: #E2EBFA;\n",
              "      box-shadow: 0px 1px 2px rgba(60, 64, 67, 0.3), 0px 1px 3px 1px rgba(60, 64, 67, 0.15);\n",
              "      fill: #174EA6;\n",
              "    }\n",
              "\n",
              "    [theme=dark] .colab-df-convert {\n",
              "      background-color: #3B4455;\n",
              "      fill: #D2E3FC;\n",
              "    }\n",
              "\n",
              "    [theme=dark] .colab-df-convert:hover {\n",
              "      background-color: #434B5C;\n",
              "      box-shadow: 0px 1px 3px 1px rgba(0, 0, 0, 0.15);\n",
              "      filter: drop-shadow(0px 1px 2px rgba(0, 0, 0, 0.3));\n",
              "      fill: #FFFFFF;\n",
              "    }\n",
              "  </style>\n",
              "\n",
              "      <script>\n",
              "        const buttonEl =\n",
              "          document.querySelector('#df-ef2db341-2284-49b0-9039-573fe6b42b61 button.colab-df-convert');\n",
              "        buttonEl.style.display =\n",
              "          google.colab.kernel.accessAllowed ? 'block' : 'none';\n",
              "\n",
              "        async function convertToInteractive(key) {\n",
              "          const element = document.querySelector('#df-ef2db341-2284-49b0-9039-573fe6b42b61');\n",
              "          const dataTable =\n",
              "            await google.colab.kernel.invokeFunction('convertToInteractive',\n",
              "                                                     [key], {});\n",
              "          if (!dataTable) return;\n",
              "\n",
              "          const docLinkHtml = 'Like what you see? Visit the ' +\n",
              "            '<a target=\"_blank\" href=https://colab.research.google.com/notebooks/data_table.ipynb>data table notebook</a>'\n",
              "            + ' to learn more about interactive tables.';\n",
              "          element.innerHTML = '';\n",
              "          dataTable['output_type'] = 'display_data';\n",
              "          await google.colab.output.renderOutput(dataTable, element);\n",
              "          const docLink = document.createElement('div');\n",
              "          docLink.innerHTML = docLinkHtml;\n",
              "          element.appendChild(docLink);\n",
              "        }\n",
              "      </script>\n",
              "    </div>\n",
              "  </div>\n",
              "  "
            ]
          },
          "metadata": {},
          "execution_count": 54
        }
      ]
    },
    {
      "cell_type": "code",
      "source": [
        "df.shape"
      ],
      "metadata": {
        "colab": {
          "base_uri": "https://localhost:8080/"
        },
        "id": "MWhNFwemmeQ7",
        "outputId": "8bb1cbb2-77e3-4a8f-c116-270a1550964c"
      },
      "execution_count": 55,
      "outputs": [
        {
          "output_type": "execute_result",
          "data": {
            "text/plain": [
              "(2982, 9)"
            ]
          },
          "metadata": {},
          "execution_count": 55
        }
      ]
    },
    {
      "cell_type": "code",
      "source": [
        "df['CLASS'].value_counts()"
      ],
      "metadata": {
        "colab": {
          "base_uri": "https://localhost:8080/"
        },
        "id": "d3Ce8z5lnxAu",
        "outputId": "7723d362-de43-4f18-b68a-99a4db86e738"
      },
      "execution_count": 56,
      "outputs": [
        {
          "output_type": "execute_result",
          "data": {
            "text/plain": [
              "Employable        1729\n",
              "LessEmployable    1253\n",
              "Name: CLASS, dtype: int64"
            ]
          },
          "metadata": {},
          "execution_count": 56
        }
      ]
    },
    {
      "cell_type": "code",
      "source": [
        "z = {'Employable' : 1, 'LessEmployable' : 0}\n",
        "df['CLASS'] = df['CLASS'].map(z)\n",
        "df.head()"
      ],
      "metadata": {
        "colab": {
          "base_uri": "https://localhost:8080/",
          "height": 206
        },
        "id": "zecQWODIjag1",
        "outputId": "fed838f7-fa95-4750-ed67-d20d58e86c62"
      },
      "execution_count": 57,
      "outputs": [
        {
          "output_type": "execute_result",
          "data": {
            "text/plain": [
              "   GENERAL APPEARANCE  MANNER OF SPEAKING  PHYSICAL CONDITION  \\\n",
              "0                   4                   5                   4   \n",
              "1                   4                   4                   4   \n",
              "2                   4                   3                   3   \n",
              "3                   3                   3                   3   \n",
              "4                   4                   4                   3   \n",
              "\n",
              "   MENTAL ALERTNESS  SELF-CONFIDENCE  ABILITY TO PRESENT IDEAS  \\\n",
              "0                 5                5                         5   \n",
              "1                 4                4                         4   \n",
              "2                 3                3                         3   \n",
              "3                 2                3                         3   \n",
              "4                 3                4                         4   \n",
              "\n",
              "   COMMUNICATION SKILLS  Student Performance Rating  CLASS  \n",
              "0                     5                           5      1  \n",
              "1                     3                           5      1  \n",
              "2                     2                           5      0  \n",
              "3                     3                           5      0  \n",
              "4                     3                           5      1  "
            ],
            "text/html": [
              "\n",
              "  <div id=\"df-12aa188f-80ad-4f8c-ad94-b01e89494703\">\n",
              "    <div class=\"colab-df-container\">\n",
              "      <div>\n",
              "<style scoped>\n",
              "    .dataframe tbody tr th:only-of-type {\n",
              "        vertical-align: middle;\n",
              "    }\n",
              "\n",
              "    .dataframe tbody tr th {\n",
              "        vertical-align: top;\n",
              "    }\n",
              "\n",
              "    .dataframe thead th {\n",
              "        text-align: right;\n",
              "    }\n",
              "</style>\n",
              "<table border=\"1\" class=\"dataframe\">\n",
              "  <thead>\n",
              "    <tr style=\"text-align: right;\">\n",
              "      <th></th>\n",
              "      <th>GENERAL APPEARANCE</th>\n",
              "      <th>MANNER OF SPEAKING</th>\n",
              "      <th>PHYSICAL CONDITION</th>\n",
              "      <th>MENTAL ALERTNESS</th>\n",
              "      <th>SELF-CONFIDENCE</th>\n",
              "      <th>ABILITY TO PRESENT IDEAS</th>\n",
              "      <th>COMMUNICATION SKILLS</th>\n",
              "      <th>Student Performance Rating</th>\n",
              "      <th>CLASS</th>\n",
              "    </tr>\n",
              "  </thead>\n",
              "  <tbody>\n",
              "    <tr>\n",
              "      <th>0</th>\n",
              "      <td>4</td>\n",
              "      <td>5</td>\n",
              "      <td>4</td>\n",
              "      <td>5</td>\n",
              "      <td>5</td>\n",
              "      <td>5</td>\n",
              "      <td>5</td>\n",
              "      <td>5</td>\n",
              "      <td>1</td>\n",
              "    </tr>\n",
              "    <tr>\n",
              "      <th>1</th>\n",
              "      <td>4</td>\n",
              "      <td>4</td>\n",
              "      <td>4</td>\n",
              "      <td>4</td>\n",
              "      <td>4</td>\n",
              "      <td>4</td>\n",
              "      <td>3</td>\n",
              "      <td>5</td>\n",
              "      <td>1</td>\n",
              "    </tr>\n",
              "    <tr>\n",
              "      <th>2</th>\n",
              "      <td>4</td>\n",
              "      <td>3</td>\n",
              "      <td>3</td>\n",
              "      <td>3</td>\n",
              "      <td>3</td>\n",
              "      <td>3</td>\n",
              "      <td>2</td>\n",
              "      <td>5</td>\n",
              "      <td>0</td>\n",
              "    </tr>\n",
              "    <tr>\n",
              "      <th>3</th>\n",
              "      <td>3</td>\n",
              "      <td>3</td>\n",
              "      <td>3</td>\n",
              "      <td>2</td>\n",
              "      <td>3</td>\n",
              "      <td>3</td>\n",
              "      <td>3</td>\n",
              "      <td>5</td>\n",
              "      <td>0</td>\n",
              "    </tr>\n",
              "    <tr>\n",
              "      <th>4</th>\n",
              "      <td>4</td>\n",
              "      <td>4</td>\n",
              "      <td>3</td>\n",
              "      <td>3</td>\n",
              "      <td>4</td>\n",
              "      <td>4</td>\n",
              "      <td>3</td>\n",
              "      <td>5</td>\n",
              "      <td>1</td>\n",
              "    </tr>\n",
              "  </tbody>\n",
              "</table>\n",
              "</div>\n",
              "      <button class=\"colab-df-convert\" onclick=\"convertToInteractive('df-12aa188f-80ad-4f8c-ad94-b01e89494703')\"\n",
              "              title=\"Convert this dataframe to an interactive table.\"\n",
              "              style=\"display:none;\">\n",
              "        \n",
              "  <svg xmlns=\"http://www.w3.org/2000/svg\" height=\"24px\"viewBox=\"0 0 24 24\"\n",
              "       width=\"24px\">\n",
              "    <path d=\"M0 0h24v24H0V0z\" fill=\"none\"/>\n",
              "    <path d=\"M18.56 5.44l.94 2.06.94-2.06 2.06-.94-2.06-.94-.94-2.06-.94 2.06-2.06.94zm-11 1L8.5 8.5l.94-2.06 2.06-.94-2.06-.94L8.5 2.5l-.94 2.06-2.06.94zm10 10l.94 2.06.94-2.06 2.06-.94-2.06-.94-.94-2.06-.94 2.06-2.06.94z\"/><path d=\"M17.41 7.96l-1.37-1.37c-.4-.4-.92-.59-1.43-.59-.52 0-1.04.2-1.43.59L10.3 9.45l-7.72 7.72c-.78.78-.78 2.05 0 2.83L4 21.41c.39.39.9.59 1.41.59.51 0 1.02-.2 1.41-.59l7.78-7.78 2.81-2.81c.8-.78.8-2.07 0-2.86zM5.41 20L4 18.59l7.72-7.72 1.47 1.35L5.41 20z\"/>\n",
              "  </svg>\n",
              "      </button>\n",
              "      \n",
              "  <style>\n",
              "    .colab-df-container {\n",
              "      display:flex;\n",
              "      flex-wrap:wrap;\n",
              "      gap: 12px;\n",
              "    }\n",
              "\n",
              "    .colab-df-convert {\n",
              "      background-color: #E8F0FE;\n",
              "      border: none;\n",
              "      border-radius: 50%;\n",
              "      cursor: pointer;\n",
              "      display: none;\n",
              "      fill: #1967D2;\n",
              "      height: 32px;\n",
              "      padding: 0 0 0 0;\n",
              "      width: 32px;\n",
              "    }\n",
              "\n",
              "    .colab-df-convert:hover {\n",
              "      background-color: #E2EBFA;\n",
              "      box-shadow: 0px 1px 2px rgba(60, 64, 67, 0.3), 0px 1px 3px 1px rgba(60, 64, 67, 0.15);\n",
              "      fill: #174EA6;\n",
              "    }\n",
              "\n",
              "    [theme=dark] .colab-df-convert {\n",
              "      background-color: #3B4455;\n",
              "      fill: #D2E3FC;\n",
              "    }\n",
              "\n",
              "    [theme=dark] .colab-df-convert:hover {\n",
              "      background-color: #434B5C;\n",
              "      box-shadow: 0px 1px 3px 1px rgba(0, 0, 0, 0.15);\n",
              "      filter: drop-shadow(0px 1px 2px rgba(0, 0, 0, 0.3));\n",
              "      fill: #FFFFFF;\n",
              "    }\n",
              "  </style>\n",
              "\n",
              "      <script>\n",
              "        const buttonEl =\n",
              "          document.querySelector('#df-12aa188f-80ad-4f8c-ad94-b01e89494703 button.colab-df-convert');\n",
              "        buttonEl.style.display =\n",
              "          google.colab.kernel.accessAllowed ? 'block' : 'none';\n",
              "\n",
              "        async function convertToInteractive(key) {\n",
              "          const element = document.querySelector('#df-12aa188f-80ad-4f8c-ad94-b01e89494703');\n",
              "          const dataTable =\n",
              "            await google.colab.kernel.invokeFunction('convertToInteractive',\n",
              "                                                     [key], {});\n",
              "          if (!dataTable) return;\n",
              "\n",
              "          const docLinkHtml = 'Like what you see? Visit the ' +\n",
              "            '<a target=\"_blank\" href=https://colab.research.google.com/notebooks/data_table.ipynb>data table notebook</a>'\n",
              "            + ' to learn more about interactive tables.';\n",
              "          element.innerHTML = '';\n",
              "          dataTable['output_type'] = 'display_data';\n",
              "          await google.colab.output.renderOutput(dataTable, element);\n",
              "          const docLink = document.createElement('div');\n",
              "          docLink.innerHTML = docLinkHtml;\n",
              "          element.appendChild(docLink);\n",
              "        }\n",
              "      </script>\n",
              "    </div>\n",
              "  </div>\n",
              "  "
            ]
          },
          "metadata": {},
          "execution_count": 57
        }
      ]
    },
    {
      "cell_type": "code",
      "source": [
        "#node_Class\n",
        "node_Class = df[\"CLASS\"]"
      ],
      "metadata": {
        "id": "tlYy11i7meUP"
      },
      "execution_count": 58,
      "outputs": []
    },
    {
      "cell_type": "code",
      "source": [
        "u3=df.drop(['CLASS'], axis=1)\n",
        "u3.head()"
      ],
      "metadata": {
        "id": "ec_H82x-n5lO",
        "colab": {
          "base_uri": "https://localhost:8080/",
          "height": 206
        },
        "outputId": "851e6c82-c193-4949-c6b0-8b43dc63b7d3"
      },
      "execution_count": 59,
      "outputs": [
        {
          "output_type": "execute_result",
          "data": {
            "text/plain": [
              "   GENERAL APPEARANCE  MANNER OF SPEAKING  PHYSICAL CONDITION  \\\n",
              "0                   4                   5                   4   \n",
              "1                   4                   4                   4   \n",
              "2                   4                   3                   3   \n",
              "3                   3                   3                   3   \n",
              "4                   4                   4                   3   \n",
              "\n",
              "   MENTAL ALERTNESS  SELF-CONFIDENCE  ABILITY TO PRESENT IDEAS  \\\n",
              "0                 5                5                         5   \n",
              "1                 4                4                         4   \n",
              "2                 3                3                         3   \n",
              "3                 2                3                         3   \n",
              "4                 3                4                         4   \n",
              "\n",
              "   COMMUNICATION SKILLS  Student Performance Rating  \n",
              "0                     5                           5  \n",
              "1                     3                           5  \n",
              "2                     2                           5  \n",
              "3                     3                           5  \n",
              "4                     3                           5  "
            ],
            "text/html": [
              "\n",
              "  <div id=\"df-48eeb1a8-89f9-4279-86fe-f0a02b37451f\">\n",
              "    <div class=\"colab-df-container\">\n",
              "      <div>\n",
              "<style scoped>\n",
              "    .dataframe tbody tr th:only-of-type {\n",
              "        vertical-align: middle;\n",
              "    }\n",
              "\n",
              "    .dataframe tbody tr th {\n",
              "        vertical-align: top;\n",
              "    }\n",
              "\n",
              "    .dataframe thead th {\n",
              "        text-align: right;\n",
              "    }\n",
              "</style>\n",
              "<table border=\"1\" class=\"dataframe\">\n",
              "  <thead>\n",
              "    <tr style=\"text-align: right;\">\n",
              "      <th></th>\n",
              "      <th>GENERAL APPEARANCE</th>\n",
              "      <th>MANNER OF SPEAKING</th>\n",
              "      <th>PHYSICAL CONDITION</th>\n",
              "      <th>MENTAL ALERTNESS</th>\n",
              "      <th>SELF-CONFIDENCE</th>\n",
              "      <th>ABILITY TO PRESENT IDEAS</th>\n",
              "      <th>COMMUNICATION SKILLS</th>\n",
              "      <th>Student Performance Rating</th>\n",
              "    </tr>\n",
              "  </thead>\n",
              "  <tbody>\n",
              "    <tr>\n",
              "      <th>0</th>\n",
              "      <td>4</td>\n",
              "      <td>5</td>\n",
              "      <td>4</td>\n",
              "      <td>5</td>\n",
              "      <td>5</td>\n",
              "      <td>5</td>\n",
              "      <td>5</td>\n",
              "      <td>5</td>\n",
              "    </tr>\n",
              "    <tr>\n",
              "      <th>1</th>\n",
              "      <td>4</td>\n",
              "      <td>4</td>\n",
              "      <td>4</td>\n",
              "      <td>4</td>\n",
              "      <td>4</td>\n",
              "      <td>4</td>\n",
              "      <td>3</td>\n",
              "      <td>5</td>\n",
              "    </tr>\n",
              "    <tr>\n",
              "      <th>2</th>\n",
              "      <td>4</td>\n",
              "      <td>3</td>\n",
              "      <td>3</td>\n",
              "      <td>3</td>\n",
              "      <td>3</td>\n",
              "      <td>3</td>\n",
              "      <td>2</td>\n",
              "      <td>5</td>\n",
              "    </tr>\n",
              "    <tr>\n",
              "      <th>3</th>\n",
              "      <td>3</td>\n",
              "      <td>3</td>\n",
              "      <td>3</td>\n",
              "      <td>2</td>\n",
              "      <td>3</td>\n",
              "      <td>3</td>\n",
              "      <td>3</td>\n",
              "      <td>5</td>\n",
              "    </tr>\n",
              "    <tr>\n",
              "      <th>4</th>\n",
              "      <td>4</td>\n",
              "      <td>4</td>\n",
              "      <td>3</td>\n",
              "      <td>3</td>\n",
              "      <td>4</td>\n",
              "      <td>4</td>\n",
              "      <td>3</td>\n",
              "      <td>5</td>\n",
              "    </tr>\n",
              "  </tbody>\n",
              "</table>\n",
              "</div>\n",
              "      <button class=\"colab-df-convert\" onclick=\"convertToInteractive('df-48eeb1a8-89f9-4279-86fe-f0a02b37451f')\"\n",
              "              title=\"Convert this dataframe to an interactive table.\"\n",
              "              style=\"display:none;\">\n",
              "        \n",
              "  <svg xmlns=\"http://www.w3.org/2000/svg\" height=\"24px\"viewBox=\"0 0 24 24\"\n",
              "       width=\"24px\">\n",
              "    <path d=\"M0 0h24v24H0V0z\" fill=\"none\"/>\n",
              "    <path d=\"M18.56 5.44l.94 2.06.94-2.06 2.06-.94-2.06-.94-.94-2.06-.94 2.06-2.06.94zm-11 1L8.5 8.5l.94-2.06 2.06-.94-2.06-.94L8.5 2.5l-.94 2.06-2.06.94zm10 10l.94 2.06.94-2.06 2.06-.94-2.06-.94-.94-2.06-.94 2.06-2.06.94z\"/><path d=\"M17.41 7.96l-1.37-1.37c-.4-.4-.92-.59-1.43-.59-.52 0-1.04.2-1.43.59L10.3 9.45l-7.72 7.72c-.78.78-.78 2.05 0 2.83L4 21.41c.39.39.9.59 1.41.59.51 0 1.02-.2 1.41-.59l7.78-7.78 2.81-2.81c.8-.78.8-2.07 0-2.86zM5.41 20L4 18.59l7.72-7.72 1.47 1.35L5.41 20z\"/>\n",
              "  </svg>\n",
              "      </button>\n",
              "      \n",
              "  <style>\n",
              "    .colab-df-container {\n",
              "      display:flex;\n",
              "      flex-wrap:wrap;\n",
              "      gap: 12px;\n",
              "    }\n",
              "\n",
              "    .colab-df-convert {\n",
              "      background-color: #E8F0FE;\n",
              "      border: none;\n",
              "      border-radius: 50%;\n",
              "      cursor: pointer;\n",
              "      display: none;\n",
              "      fill: #1967D2;\n",
              "      height: 32px;\n",
              "      padding: 0 0 0 0;\n",
              "      width: 32px;\n",
              "    }\n",
              "\n",
              "    .colab-df-convert:hover {\n",
              "      background-color: #E2EBFA;\n",
              "      box-shadow: 0px 1px 2px rgba(60, 64, 67, 0.3), 0px 1px 3px 1px rgba(60, 64, 67, 0.15);\n",
              "      fill: #174EA6;\n",
              "    }\n",
              "\n",
              "    [theme=dark] .colab-df-convert {\n",
              "      background-color: #3B4455;\n",
              "      fill: #D2E3FC;\n",
              "    }\n",
              "\n",
              "    [theme=dark] .colab-df-convert:hover {\n",
              "      background-color: #434B5C;\n",
              "      box-shadow: 0px 1px 3px 1px rgba(0, 0, 0, 0.15);\n",
              "      filter: drop-shadow(0px 1px 2px rgba(0, 0, 0, 0.3));\n",
              "      fill: #FFFFFF;\n",
              "    }\n",
              "  </style>\n",
              "\n",
              "      <script>\n",
              "        const buttonEl =\n",
              "          document.querySelector('#df-48eeb1a8-89f9-4279-86fe-f0a02b37451f button.colab-df-convert');\n",
              "        buttonEl.style.display =\n",
              "          google.colab.kernel.accessAllowed ? 'block' : 'none';\n",
              "\n",
              "        async function convertToInteractive(key) {\n",
              "          const element = document.querySelector('#df-48eeb1a8-89f9-4279-86fe-f0a02b37451f');\n",
              "          const dataTable =\n",
              "            await google.colab.kernel.invokeFunction('convertToInteractive',\n",
              "                                                     [key], {});\n",
              "          if (!dataTable) return;\n",
              "\n",
              "          const docLinkHtml = 'Like what you see? Visit the ' +\n",
              "            '<a target=\"_blank\" href=https://colab.research.google.com/notebooks/data_table.ipynb>data table notebook</a>'\n",
              "            + ' to learn more about interactive tables.';\n",
              "          element.innerHTML = '';\n",
              "          dataTable['output_type'] = 'display_data';\n",
              "          await google.colab.output.renderOutput(dataTable, element);\n",
              "          const docLink = document.createElement('div');\n",
              "          docLink.innerHTML = docLinkHtml;\n",
              "          element.appendChild(docLink);\n",
              "        }\n",
              "      </script>\n",
              "    </div>\n",
              "  </div>\n",
              "  "
            ]
          },
          "metadata": {},
          "execution_count": 59
        }
      ]
    },
    {
      "cell_type": "markdown",
      "source": [
        "### Distance calculation for creating adjacency matrix\n"
      ],
      "metadata": {
        "id": "ZLv7lbrF4lo4"
      }
    },
    {
      "cell_type": "code",
      "source": [
        "from scipy.spatial.distance import cdist\n",
        "s = cdist(u3, u3, 'cosine')\n",
        "s"
      ],
      "metadata": {
        "id": "ykcfyEHVtr1_",
        "colab": {
          "base_uri": "https://localhost:8080/"
        },
        "outputId": "d5ebd163-750b-4c69-a3ac-2130eb51c4f9"
      },
      "execution_count": 60,
      "outputs": [
        {
          "output_type": "execute_result",
          "data": {
            "text/plain": [
              "array([[0.00000000e+00, 1.18196406e-02, 3.89451766e-02, ...,\n",
              "        5.70574961e-03, 1.75078592e-02, 1.18196406e-02],\n",
              "       [1.18196406e-02, 0.00000000e+00, 1.07846501e-02, ...,\n",
              "        6.69736532e-03, 3.57110435e-03, 7.69230769e-03],\n",
              "       [3.89451766e-02, 1.07846501e-02, 0.00000000e+00, ...,\n",
              "        2.63323597e-02, 1.15390226e-02, 2.00296533e-02],\n",
              "       ...,\n",
              "       [5.70574961e-03, 6.69736532e-03, 2.63323597e-02, ...,\n",
              "        0.00000000e+00, 1.50356688e-02, 6.69736532e-03],\n",
              "       [1.75078592e-02, 3.57110435e-03, 1.15390226e-02, ...,\n",
              "        1.50356688e-02, 1.11022302e-16, 1.14792702e-02],\n",
              "       [1.18196406e-02, 7.69230769e-03, 2.00296533e-02, ...,\n",
              "        6.69736532e-03, 1.14792702e-02, 0.00000000e+00]])"
            ]
          },
          "metadata": {},
          "execution_count": 60
        }
      ]
    },
    {
      "cell_type": "code",
      "source": [
        "X1=pd.DataFrame(s)\n",
        "X1"
      ],
      "metadata": {
        "id": "iJ61mEGstr5_",
        "colab": {
          "base_uri": "https://localhost:8080/",
          "height": 661
        },
        "outputId": "fbbc81af-5673-4dfe-97fe-f65d82b15608"
      },
      "execution_count": 61,
      "outputs": [
        {
          "output_type": "execute_result",
          "data": {
            "text/plain": [
              "          0         1         2         3         4         5         6     \\\n",
              "0     0.000000  0.011820  0.038945  0.031784  0.015827  0.023852  0.023828   \n",
              "1     0.011820  0.000000  0.010785  0.018050  0.006520  0.010005  0.017776   \n",
              "2     0.038945  0.010785  0.000000  0.016536  0.011513  0.008478  0.038122   \n",
              "3     0.031784  0.018050  0.016536  0.000000  0.011438  0.010986  0.043910   \n",
              "4     0.015827  0.006520  0.011513  0.011438  0.000000  0.007125  0.027587   \n",
              "...        ...       ...       ...       ...       ...       ...       ...   \n",
              "2977  0.038945  0.010785  0.000000  0.016536  0.011513  0.008478  0.038122   \n",
              "2978  0.005318  0.007692  0.029275  0.018050  0.014663  0.018689  0.026871   \n",
              "2979  0.005706  0.006697  0.026332  0.030187  0.015583  0.013821  0.017178   \n",
              "2980  0.017508  0.003571  0.011539  0.010289  0.003757  0.009008  0.018263   \n",
              "2981  0.011820  0.007692  0.020030  0.018050  0.014663  0.010005  0.017776   \n",
              "\n",
              "          7         8         9     ...      2972      2973      2974  \\\n",
              "0     0.036119  0.005732  0.010824  ...  0.055234  0.021551  0.015827   \n",
              "1     0.017689  0.003403  0.011479  ...  0.039031  0.008924  0.006520   \n",
              "2     0.009505  0.018376  0.021043  ...  0.021836  0.019694  0.011513   \n",
              "3     0.031092  0.015332  0.020186  ...  0.030511  0.023098  0.021630   \n",
              "4     0.021789  0.008436  0.012128  ...  0.034596  0.015815  0.008621   \n",
              "...        ...       ...       ...  ...       ...       ...       ...   \n",
              "2977  0.009505  0.018376  0.021043  ...  0.021836  0.019694  0.011513   \n",
              "2978  0.034339  0.003403  0.011479  ...  0.048837  0.017695  0.014663   \n",
              "2979  0.024151  0.004957  0.007793  ...  0.039112  0.020072  0.008125   \n",
              "2980  0.024357  0.006251  0.016260  ...  0.042308  0.008163  0.012128   \n",
              "2981  0.017689  0.003403  0.003571  ...  0.029225  0.017695  0.006520   \n",
              "\n",
              "          2975      2976      2977      2978      2979          2980      2981  \n",
              "0     0.022710  0.031191  0.038945  0.005318  0.005706  1.750786e-02  0.011820  \n",
              "1     0.006520  0.018689  0.010785  0.007692  0.006697  3.571104e-03  0.007692  \n",
              "2     0.011513  0.018915  0.000000  0.029275  0.026332  1.153902e-02  0.020030  \n",
              "3     0.021630  0.043591  0.016536  0.018050  0.030187  1.028900e-02  0.018050  \n",
              "4     0.017241  0.025511  0.011513  0.014663  0.015583  3.756706e-03  0.014663  \n",
              "...        ...       ...       ...       ...       ...           ...       ...  \n",
              "2977  0.011513  0.018915  0.000000  0.029275  0.026332  1.153902e-02  0.020030  \n",
              "2978  0.014663  0.036057  0.029275  0.000000  0.006697  1.147927e-02  0.007692  \n",
              "2979  0.008125  0.021774  0.026332  0.006697  0.000000  1.503567e-02  0.006697  \n",
              "2980  0.012128  0.026863  0.011539  0.011479  0.015036  1.110223e-16  0.011479  \n",
              "2981  0.006520  0.018689  0.020030  0.007692  0.006697  1.147927e-02  0.000000  \n",
              "\n",
              "[2982 rows x 2982 columns]"
            ],
            "text/html": [
              "\n",
              "  <div id=\"df-098c80ad-af58-4f76-9820-62805a5c35bd\">\n",
              "    <div class=\"colab-df-container\">\n",
              "      <div>\n",
              "<style scoped>\n",
              "    .dataframe tbody tr th:only-of-type {\n",
              "        vertical-align: middle;\n",
              "    }\n",
              "\n",
              "    .dataframe tbody tr th {\n",
              "        vertical-align: top;\n",
              "    }\n",
              "\n",
              "    .dataframe thead th {\n",
              "        text-align: right;\n",
              "    }\n",
              "</style>\n",
              "<table border=\"1\" class=\"dataframe\">\n",
              "  <thead>\n",
              "    <tr style=\"text-align: right;\">\n",
              "      <th></th>\n",
              "      <th>0</th>\n",
              "      <th>1</th>\n",
              "      <th>2</th>\n",
              "      <th>3</th>\n",
              "      <th>4</th>\n",
              "      <th>5</th>\n",
              "      <th>6</th>\n",
              "      <th>7</th>\n",
              "      <th>8</th>\n",
              "      <th>9</th>\n",
              "      <th>...</th>\n",
              "      <th>2972</th>\n",
              "      <th>2973</th>\n",
              "      <th>2974</th>\n",
              "      <th>2975</th>\n",
              "      <th>2976</th>\n",
              "      <th>2977</th>\n",
              "      <th>2978</th>\n",
              "      <th>2979</th>\n",
              "      <th>2980</th>\n",
              "      <th>2981</th>\n",
              "    </tr>\n",
              "  </thead>\n",
              "  <tbody>\n",
              "    <tr>\n",
              "      <th>0</th>\n",
              "      <td>0.000000</td>\n",
              "      <td>0.011820</td>\n",
              "      <td>0.038945</td>\n",
              "      <td>0.031784</td>\n",
              "      <td>0.015827</td>\n",
              "      <td>0.023852</td>\n",
              "      <td>0.023828</td>\n",
              "      <td>0.036119</td>\n",
              "      <td>0.005732</td>\n",
              "      <td>0.010824</td>\n",
              "      <td>...</td>\n",
              "      <td>0.055234</td>\n",
              "      <td>0.021551</td>\n",
              "      <td>0.015827</td>\n",
              "      <td>0.022710</td>\n",
              "      <td>0.031191</td>\n",
              "      <td>0.038945</td>\n",
              "      <td>0.005318</td>\n",
              "      <td>0.005706</td>\n",
              "      <td>1.750786e-02</td>\n",
              "      <td>0.011820</td>\n",
              "    </tr>\n",
              "    <tr>\n",
              "      <th>1</th>\n",
              "      <td>0.011820</td>\n",
              "      <td>0.000000</td>\n",
              "      <td>0.010785</td>\n",
              "      <td>0.018050</td>\n",
              "      <td>0.006520</td>\n",
              "      <td>0.010005</td>\n",
              "      <td>0.017776</td>\n",
              "      <td>0.017689</td>\n",
              "      <td>0.003403</td>\n",
              "      <td>0.011479</td>\n",
              "      <td>...</td>\n",
              "      <td>0.039031</td>\n",
              "      <td>0.008924</td>\n",
              "      <td>0.006520</td>\n",
              "      <td>0.006520</td>\n",
              "      <td>0.018689</td>\n",
              "      <td>0.010785</td>\n",
              "      <td>0.007692</td>\n",
              "      <td>0.006697</td>\n",
              "      <td>3.571104e-03</td>\n",
              "      <td>0.007692</td>\n",
              "    </tr>\n",
              "    <tr>\n",
              "      <th>2</th>\n",
              "      <td>0.038945</td>\n",
              "      <td>0.010785</td>\n",
              "      <td>0.000000</td>\n",
              "      <td>0.016536</td>\n",
              "      <td>0.011513</td>\n",
              "      <td>0.008478</td>\n",
              "      <td>0.038122</td>\n",
              "      <td>0.009505</td>\n",
              "      <td>0.018376</td>\n",
              "      <td>0.021043</td>\n",
              "      <td>...</td>\n",
              "      <td>0.021836</td>\n",
              "      <td>0.019694</td>\n",
              "      <td>0.011513</td>\n",
              "      <td>0.011513</td>\n",
              "      <td>0.018915</td>\n",
              "      <td>0.000000</td>\n",
              "      <td>0.029275</td>\n",
              "      <td>0.026332</td>\n",
              "      <td>1.153902e-02</td>\n",
              "      <td>0.020030</td>\n",
              "    </tr>\n",
              "    <tr>\n",
              "      <th>3</th>\n",
              "      <td>0.031784</td>\n",
              "      <td>0.018050</td>\n",
              "      <td>0.016536</td>\n",
              "      <td>0.000000</td>\n",
              "      <td>0.011438</td>\n",
              "      <td>0.010986</td>\n",
              "      <td>0.043910</td>\n",
              "      <td>0.031092</td>\n",
              "      <td>0.015332</td>\n",
              "      <td>0.020186</td>\n",
              "      <td>...</td>\n",
              "      <td>0.030511</td>\n",
              "      <td>0.023098</td>\n",
              "      <td>0.021630</td>\n",
              "      <td>0.021630</td>\n",
              "      <td>0.043591</td>\n",
              "      <td>0.016536</td>\n",
              "      <td>0.018050</td>\n",
              "      <td>0.030187</td>\n",
              "      <td>1.028900e-02</td>\n",
              "      <td>0.018050</td>\n",
              "    </tr>\n",
              "    <tr>\n",
              "      <th>4</th>\n",
              "      <td>0.015827</td>\n",
              "      <td>0.006520</td>\n",
              "      <td>0.011513</td>\n",
              "      <td>0.011438</td>\n",
              "      <td>0.000000</td>\n",
              "      <td>0.007125</td>\n",
              "      <td>0.027587</td>\n",
              "      <td>0.021789</td>\n",
              "      <td>0.008436</td>\n",
              "      <td>0.012128</td>\n",
              "      <td>...</td>\n",
              "      <td>0.034596</td>\n",
              "      <td>0.015815</td>\n",
              "      <td>0.008621</td>\n",
              "      <td>0.017241</td>\n",
              "      <td>0.025511</td>\n",
              "      <td>0.011513</td>\n",
              "      <td>0.014663</td>\n",
              "      <td>0.015583</td>\n",
              "      <td>3.756706e-03</td>\n",
              "      <td>0.014663</td>\n",
              "    </tr>\n",
              "    <tr>\n",
              "      <th>...</th>\n",
              "      <td>...</td>\n",
              "      <td>...</td>\n",
              "      <td>...</td>\n",
              "      <td>...</td>\n",
              "      <td>...</td>\n",
              "      <td>...</td>\n",
              "      <td>...</td>\n",
              "      <td>...</td>\n",
              "      <td>...</td>\n",
              "      <td>...</td>\n",
              "      <td>...</td>\n",
              "      <td>...</td>\n",
              "      <td>...</td>\n",
              "      <td>...</td>\n",
              "      <td>...</td>\n",
              "      <td>...</td>\n",
              "      <td>...</td>\n",
              "      <td>...</td>\n",
              "      <td>...</td>\n",
              "      <td>...</td>\n",
              "      <td>...</td>\n",
              "    </tr>\n",
              "    <tr>\n",
              "      <th>2977</th>\n",
              "      <td>0.038945</td>\n",
              "      <td>0.010785</td>\n",
              "      <td>0.000000</td>\n",
              "      <td>0.016536</td>\n",
              "      <td>0.011513</td>\n",
              "      <td>0.008478</td>\n",
              "      <td>0.038122</td>\n",
              "      <td>0.009505</td>\n",
              "      <td>0.018376</td>\n",
              "      <td>0.021043</td>\n",
              "      <td>...</td>\n",
              "      <td>0.021836</td>\n",
              "      <td>0.019694</td>\n",
              "      <td>0.011513</td>\n",
              "      <td>0.011513</td>\n",
              "      <td>0.018915</td>\n",
              "      <td>0.000000</td>\n",
              "      <td>0.029275</td>\n",
              "      <td>0.026332</td>\n",
              "      <td>1.153902e-02</td>\n",
              "      <td>0.020030</td>\n",
              "    </tr>\n",
              "    <tr>\n",
              "      <th>2978</th>\n",
              "      <td>0.005318</td>\n",
              "      <td>0.007692</td>\n",
              "      <td>0.029275</td>\n",
              "      <td>0.018050</td>\n",
              "      <td>0.014663</td>\n",
              "      <td>0.018689</td>\n",
              "      <td>0.026871</td>\n",
              "      <td>0.034339</td>\n",
              "      <td>0.003403</td>\n",
              "      <td>0.011479</td>\n",
              "      <td>...</td>\n",
              "      <td>0.048837</td>\n",
              "      <td>0.017695</td>\n",
              "      <td>0.014663</td>\n",
              "      <td>0.014663</td>\n",
              "      <td>0.036057</td>\n",
              "      <td>0.029275</td>\n",
              "      <td>0.000000</td>\n",
              "      <td>0.006697</td>\n",
              "      <td>1.147927e-02</td>\n",
              "      <td>0.007692</td>\n",
              "    </tr>\n",
              "    <tr>\n",
              "      <th>2979</th>\n",
              "      <td>0.005706</td>\n",
              "      <td>0.006697</td>\n",
              "      <td>0.026332</td>\n",
              "      <td>0.030187</td>\n",
              "      <td>0.015583</td>\n",
              "      <td>0.013821</td>\n",
              "      <td>0.017178</td>\n",
              "      <td>0.024151</td>\n",
              "      <td>0.004957</td>\n",
              "      <td>0.007793</td>\n",
              "      <td>...</td>\n",
              "      <td>0.039112</td>\n",
              "      <td>0.020072</td>\n",
              "      <td>0.008125</td>\n",
              "      <td>0.008125</td>\n",
              "      <td>0.021774</td>\n",
              "      <td>0.026332</td>\n",
              "      <td>0.006697</td>\n",
              "      <td>0.000000</td>\n",
              "      <td>1.503567e-02</td>\n",
              "      <td>0.006697</td>\n",
              "    </tr>\n",
              "    <tr>\n",
              "      <th>2980</th>\n",
              "      <td>0.017508</td>\n",
              "      <td>0.003571</td>\n",
              "      <td>0.011539</td>\n",
              "      <td>0.010289</td>\n",
              "      <td>0.003757</td>\n",
              "      <td>0.009008</td>\n",
              "      <td>0.018263</td>\n",
              "      <td>0.024357</td>\n",
              "      <td>0.006251</td>\n",
              "      <td>0.016260</td>\n",
              "      <td>...</td>\n",
              "      <td>0.042308</td>\n",
              "      <td>0.008163</td>\n",
              "      <td>0.012128</td>\n",
              "      <td>0.012128</td>\n",
              "      <td>0.026863</td>\n",
              "      <td>0.011539</td>\n",
              "      <td>0.011479</td>\n",
              "      <td>0.015036</td>\n",
              "      <td>1.110223e-16</td>\n",
              "      <td>0.011479</td>\n",
              "    </tr>\n",
              "    <tr>\n",
              "      <th>2981</th>\n",
              "      <td>0.011820</td>\n",
              "      <td>0.007692</td>\n",
              "      <td>0.020030</td>\n",
              "      <td>0.018050</td>\n",
              "      <td>0.014663</td>\n",
              "      <td>0.010005</td>\n",
              "      <td>0.017776</td>\n",
              "      <td>0.017689</td>\n",
              "      <td>0.003403</td>\n",
              "      <td>0.003571</td>\n",
              "      <td>...</td>\n",
              "      <td>0.029225</td>\n",
              "      <td>0.017695</td>\n",
              "      <td>0.006520</td>\n",
              "      <td>0.006520</td>\n",
              "      <td>0.018689</td>\n",
              "      <td>0.020030</td>\n",
              "      <td>0.007692</td>\n",
              "      <td>0.006697</td>\n",
              "      <td>1.147927e-02</td>\n",
              "      <td>0.000000</td>\n",
              "    </tr>\n",
              "  </tbody>\n",
              "</table>\n",
              "<p>2982 rows × 2982 columns</p>\n",
              "</div>\n",
              "      <button class=\"colab-df-convert\" onclick=\"convertToInteractive('df-098c80ad-af58-4f76-9820-62805a5c35bd')\"\n",
              "              title=\"Convert this dataframe to an interactive table.\"\n",
              "              style=\"display:none;\">\n",
              "        \n",
              "  <svg xmlns=\"http://www.w3.org/2000/svg\" height=\"24px\"viewBox=\"0 0 24 24\"\n",
              "       width=\"24px\">\n",
              "    <path d=\"M0 0h24v24H0V0z\" fill=\"none\"/>\n",
              "    <path d=\"M18.56 5.44l.94 2.06.94-2.06 2.06-.94-2.06-.94-.94-2.06-.94 2.06-2.06.94zm-11 1L8.5 8.5l.94-2.06 2.06-.94-2.06-.94L8.5 2.5l-.94 2.06-2.06.94zm10 10l.94 2.06.94-2.06 2.06-.94-2.06-.94-.94-2.06-.94 2.06-2.06.94z\"/><path d=\"M17.41 7.96l-1.37-1.37c-.4-.4-.92-.59-1.43-.59-.52 0-1.04.2-1.43.59L10.3 9.45l-7.72 7.72c-.78.78-.78 2.05 0 2.83L4 21.41c.39.39.9.59 1.41.59.51 0 1.02-.2 1.41-.59l7.78-7.78 2.81-2.81c.8-.78.8-2.07 0-2.86zM5.41 20L4 18.59l7.72-7.72 1.47 1.35L5.41 20z\"/>\n",
              "  </svg>\n",
              "      </button>\n",
              "      \n",
              "  <style>\n",
              "    .colab-df-container {\n",
              "      display:flex;\n",
              "      flex-wrap:wrap;\n",
              "      gap: 12px;\n",
              "    }\n",
              "\n",
              "    .colab-df-convert {\n",
              "      background-color: #E8F0FE;\n",
              "      border: none;\n",
              "      border-radius: 50%;\n",
              "      cursor: pointer;\n",
              "      display: none;\n",
              "      fill: #1967D2;\n",
              "      height: 32px;\n",
              "      padding: 0 0 0 0;\n",
              "      width: 32px;\n",
              "    }\n",
              "\n",
              "    .colab-df-convert:hover {\n",
              "      background-color: #E2EBFA;\n",
              "      box-shadow: 0px 1px 2px rgba(60, 64, 67, 0.3), 0px 1px 3px 1px rgba(60, 64, 67, 0.15);\n",
              "      fill: #174EA6;\n",
              "    }\n",
              "\n",
              "    [theme=dark] .colab-df-convert {\n",
              "      background-color: #3B4455;\n",
              "      fill: #D2E3FC;\n",
              "    }\n",
              "\n",
              "    [theme=dark] .colab-df-convert:hover {\n",
              "      background-color: #434B5C;\n",
              "      box-shadow: 0px 1px 3px 1px rgba(0, 0, 0, 0.15);\n",
              "      filter: drop-shadow(0px 1px 2px rgba(0, 0, 0, 0.3));\n",
              "      fill: #FFFFFF;\n",
              "    }\n",
              "  </style>\n",
              "\n",
              "      <script>\n",
              "        const buttonEl =\n",
              "          document.querySelector('#df-098c80ad-af58-4f76-9820-62805a5c35bd button.colab-df-convert');\n",
              "        buttonEl.style.display =\n",
              "          google.colab.kernel.accessAllowed ? 'block' : 'none';\n",
              "\n",
              "        async function convertToInteractive(key) {\n",
              "          const element = document.querySelector('#df-098c80ad-af58-4f76-9820-62805a5c35bd');\n",
              "          const dataTable =\n",
              "            await google.colab.kernel.invokeFunction('convertToInteractive',\n",
              "                                                     [key], {});\n",
              "          if (!dataTable) return;\n",
              "\n",
              "          const docLinkHtml = 'Like what you see? Visit the ' +\n",
              "            '<a target=\"_blank\" href=https://colab.research.google.com/notebooks/data_table.ipynb>data table notebook</a>'\n",
              "            + ' to learn more about interactive tables.';\n",
              "          element.innerHTML = '';\n",
              "          dataTable['output_type'] = 'display_data';\n",
              "          await google.colab.output.renderOutput(dataTable, element);\n",
              "          const docLink = document.createElement('div');\n",
              "          docLink.innerHTML = docLinkHtml;\n",
              "          element.appendChild(docLink);\n",
              "        }\n",
              "      </script>\n",
              "    </div>\n",
              "  </div>\n",
              "  "
            ]
          },
          "metadata": {},
          "execution_count": 61
        }
      ]
    },
    {
      "cell_type": "code",
      "source": [
        "# taking average of the hamming distance matrix\n",
        "y = np.average(X1)\n",
        "y"
      ],
      "metadata": {
        "id": "UQs3yiDPlop3",
        "colab": {
          "base_uri": "https://localhost:8080/"
        },
        "outputId": "c0335fb6-9245-463c-a3b9-044ccb4be7f4"
      },
      "execution_count": 62,
      "outputs": [
        {
          "output_type": "execute_result",
          "data": {
            "text/plain": [
              "0.01856620671593297"
            ]
          },
          "metadata": {},
          "execution_count": 62
        }
      ]
    },
    {
      "cell_type": "code",
      "source": [
        "adjmat_df=X1.copy()"
      ],
      "metadata": {
        "id": "o2zLWcNflosv"
      },
      "execution_count": 63,
      "outputs": []
    },
    {
      "cell_type": "code",
      "source": [
        "# setting threshold value as mean of hamming matrix\n",
        "adjmat_df[adjmat_df < y]=0\n",
        "adjmat_df[adjmat_df >= y]=1"
      ],
      "metadata": {
        "id": "ctydp1FtloyL"
      },
      "execution_count": 64,
      "outputs": []
    },
    {
      "cell_type": "code",
      "source": [
        "# adjacency matrix\n",
        "adjmat_df"
      ],
      "metadata": {
        "colab": {
          "base_uri": "https://localhost:8080/",
          "height": 424
        },
        "id": "96zM2mImivyQ",
        "outputId": "93bddae6-7d11-488f-c518-42422327c2a3"
      },
      "execution_count": 65,
      "outputs": [
        {
          "output_type": "execute_result",
          "data": {
            "text/plain": [
              "      0     1     2     3     4     5     6     7     8     9     ...  2972  \\\n",
              "0      0.0   0.0   1.0   1.0   0.0   1.0   1.0   1.0   0.0   0.0  ...   1.0   \n",
              "1      0.0   0.0   0.0   0.0   0.0   0.0   0.0   0.0   0.0   0.0  ...   1.0   \n",
              "2      1.0   0.0   0.0   0.0   0.0   0.0   1.0   0.0   0.0   1.0  ...   1.0   \n",
              "3      1.0   0.0   0.0   0.0   0.0   0.0   1.0   1.0   0.0   1.0  ...   1.0   \n",
              "4      0.0   0.0   0.0   0.0   0.0   0.0   1.0   1.0   0.0   0.0  ...   1.0   \n",
              "...    ...   ...   ...   ...   ...   ...   ...   ...   ...   ...  ...   ...   \n",
              "2977   1.0   0.0   0.0   0.0   0.0   0.0   1.0   0.0   0.0   1.0  ...   1.0   \n",
              "2978   0.0   0.0   1.0   0.0   0.0   1.0   1.0   1.0   0.0   0.0  ...   1.0   \n",
              "2979   0.0   0.0   1.0   1.0   0.0   0.0   0.0   1.0   0.0   0.0  ...   1.0   \n",
              "2980   0.0   0.0   0.0   0.0   0.0   0.0   0.0   1.0   0.0   0.0  ...   1.0   \n",
              "2981   0.0   0.0   1.0   0.0   0.0   0.0   0.0   0.0   0.0   0.0  ...   1.0   \n",
              "\n",
              "      2973  2974  2975  2976  2977  2978  2979  2980  2981  \n",
              "0      1.0   0.0   1.0   1.0   1.0   0.0   0.0   0.0   0.0  \n",
              "1      0.0   0.0   0.0   1.0   0.0   0.0   0.0   0.0   0.0  \n",
              "2      1.0   0.0   0.0   1.0   0.0   1.0   1.0   0.0   1.0  \n",
              "3      1.0   1.0   1.0   1.0   0.0   0.0   1.0   0.0   0.0  \n",
              "4      0.0   0.0   0.0   1.0   0.0   0.0   0.0   0.0   0.0  \n",
              "...    ...   ...   ...   ...   ...   ...   ...   ...   ...  \n",
              "2977   1.0   0.0   0.0   1.0   0.0   1.0   1.0   0.0   1.0  \n",
              "2978   0.0   0.0   0.0   1.0   1.0   0.0   0.0   0.0   0.0  \n",
              "2979   1.0   0.0   0.0   1.0   1.0   0.0   0.0   0.0   0.0  \n",
              "2980   0.0   0.0   0.0   1.0   0.0   0.0   0.0   0.0   0.0  \n",
              "2981   0.0   0.0   0.0   1.0   1.0   0.0   0.0   0.0   0.0  \n",
              "\n",
              "[2982 rows x 2982 columns]"
            ],
            "text/html": [
              "\n",
              "  <div id=\"df-12cdc834-6624-4ef6-be38-61a93c96b645\">\n",
              "    <div class=\"colab-df-container\">\n",
              "      <div>\n",
              "<style scoped>\n",
              "    .dataframe tbody tr th:only-of-type {\n",
              "        vertical-align: middle;\n",
              "    }\n",
              "\n",
              "    .dataframe tbody tr th {\n",
              "        vertical-align: top;\n",
              "    }\n",
              "\n",
              "    .dataframe thead th {\n",
              "        text-align: right;\n",
              "    }\n",
              "</style>\n",
              "<table border=\"1\" class=\"dataframe\">\n",
              "  <thead>\n",
              "    <tr style=\"text-align: right;\">\n",
              "      <th></th>\n",
              "      <th>0</th>\n",
              "      <th>1</th>\n",
              "      <th>2</th>\n",
              "      <th>3</th>\n",
              "      <th>4</th>\n",
              "      <th>5</th>\n",
              "      <th>6</th>\n",
              "      <th>7</th>\n",
              "      <th>8</th>\n",
              "      <th>9</th>\n",
              "      <th>...</th>\n",
              "      <th>2972</th>\n",
              "      <th>2973</th>\n",
              "      <th>2974</th>\n",
              "      <th>2975</th>\n",
              "      <th>2976</th>\n",
              "      <th>2977</th>\n",
              "      <th>2978</th>\n",
              "      <th>2979</th>\n",
              "      <th>2980</th>\n",
              "      <th>2981</th>\n",
              "    </tr>\n",
              "  </thead>\n",
              "  <tbody>\n",
              "    <tr>\n",
              "      <th>0</th>\n",
              "      <td>0.0</td>\n",
              "      <td>0.0</td>\n",
              "      <td>1.0</td>\n",
              "      <td>1.0</td>\n",
              "      <td>0.0</td>\n",
              "      <td>1.0</td>\n",
              "      <td>1.0</td>\n",
              "      <td>1.0</td>\n",
              "      <td>0.0</td>\n",
              "      <td>0.0</td>\n",
              "      <td>...</td>\n",
              "      <td>1.0</td>\n",
              "      <td>1.0</td>\n",
              "      <td>0.0</td>\n",
              "      <td>1.0</td>\n",
              "      <td>1.0</td>\n",
              "      <td>1.0</td>\n",
              "      <td>0.0</td>\n",
              "      <td>0.0</td>\n",
              "      <td>0.0</td>\n",
              "      <td>0.0</td>\n",
              "    </tr>\n",
              "    <tr>\n",
              "      <th>1</th>\n",
              "      <td>0.0</td>\n",
              "      <td>0.0</td>\n",
              "      <td>0.0</td>\n",
              "      <td>0.0</td>\n",
              "      <td>0.0</td>\n",
              "      <td>0.0</td>\n",
              "      <td>0.0</td>\n",
              "      <td>0.0</td>\n",
              "      <td>0.0</td>\n",
              "      <td>0.0</td>\n",
              "      <td>...</td>\n",
              "      <td>1.0</td>\n",
              "      <td>0.0</td>\n",
              "      <td>0.0</td>\n",
              "      <td>0.0</td>\n",
              "      <td>1.0</td>\n",
              "      <td>0.0</td>\n",
              "      <td>0.0</td>\n",
              "      <td>0.0</td>\n",
              "      <td>0.0</td>\n",
              "      <td>0.0</td>\n",
              "    </tr>\n",
              "    <tr>\n",
              "      <th>2</th>\n",
              "      <td>1.0</td>\n",
              "      <td>0.0</td>\n",
              "      <td>0.0</td>\n",
              "      <td>0.0</td>\n",
              "      <td>0.0</td>\n",
              "      <td>0.0</td>\n",
              "      <td>1.0</td>\n",
              "      <td>0.0</td>\n",
              "      <td>0.0</td>\n",
              "      <td>1.0</td>\n",
              "      <td>...</td>\n",
              "      <td>1.0</td>\n",
              "      <td>1.0</td>\n",
              "      <td>0.0</td>\n",
              "      <td>0.0</td>\n",
              "      <td>1.0</td>\n",
              "      <td>0.0</td>\n",
              "      <td>1.0</td>\n",
              "      <td>1.0</td>\n",
              "      <td>0.0</td>\n",
              "      <td>1.0</td>\n",
              "    </tr>\n",
              "    <tr>\n",
              "      <th>3</th>\n",
              "      <td>1.0</td>\n",
              "      <td>0.0</td>\n",
              "      <td>0.0</td>\n",
              "      <td>0.0</td>\n",
              "      <td>0.0</td>\n",
              "      <td>0.0</td>\n",
              "      <td>1.0</td>\n",
              "      <td>1.0</td>\n",
              "      <td>0.0</td>\n",
              "      <td>1.0</td>\n",
              "      <td>...</td>\n",
              "      <td>1.0</td>\n",
              "      <td>1.0</td>\n",
              "      <td>1.0</td>\n",
              "      <td>1.0</td>\n",
              "      <td>1.0</td>\n",
              "      <td>0.0</td>\n",
              "      <td>0.0</td>\n",
              "      <td>1.0</td>\n",
              "      <td>0.0</td>\n",
              "      <td>0.0</td>\n",
              "    </tr>\n",
              "    <tr>\n",
              "      <th>4</th>\n",
              "      <td>0.0</td>\n",
              "      <td>0.0</td>\n",
              "      <td>0.0</td>\n",
              "      <td>0.0</td>\n",
              "      <td>0.0</td>\n",
              "      <td>0.0</td>\n",
              "      <td>1.0</td>\n",
              "      <td>1.0</td>\n",
              "      <td>0.0</td>\n",
              "      <td>0.0</td>\n",
              "      <td>...</td>\n",
              "      <td>1.0</td>\n",
              "      <td>0.0</td>\n",
              "      <td>0.0</td>\n",
              "      <td>0.0</td>\n",
              "      <td>1.0</td>\n",
              "      <td>0.0</td>\n",
              "      <td>0.0</td>\n",
              "      <td>0.0</td>\n",
              "      <td>0.0</td>\n",
              "      <td>0.0</td>\n",
              "    </tr>\n",
              "    <tr>\n",
              "      <th>...</th>\n",
              "      <td>...</td>\n",
              "      <td>...</td>\n",
              "      <td>...</td>\n",
              "      <td>...</td>\n",
              "      <td>...</td>\n",
              "      <td>...</td>\n",
              "      <td>...</td>\n",
              "      <td>...</td>\n",
              "      <td>...</td>\n",
              "      <td>...</td>\n",
              "      <td>...</td>\n",
              "      <td>...</td>\n",
              "      <td>...</td>\n",
              "      <td>...</td>\n",
              "      <td>...</td>\n",
              "      <td>...</td>\n",
              "      <td>...</td>\n",
              "      <td>...</td>\n",
              "      <td>...</td>\n",
              "      <td>...</td>\n",
              "      <td>...</td>\n",
              "    </tr>\n",
              "    <tr>\n",
              "      <th>2977</th>\n",
              "      <td>1.0</td>\n",
              "      <td>0.0</td>\n",
              "      <td>0.0</td>\n",
              "      <td>0.0</td>\n",
              "      <td>0.0</td>\n",
              "      <td>0.0</td>\n",
              "      <td>1.0</td>\n",
              "      <td>0.0</td>\n",
              "      <td>0.0</td>\n",
              "      <td>1.0</td>\n",
              "      <td>...</td>\n",
              "      <td>1.0</td>\n",
              "      <td>1.0</td>\n",
              "      <td>0.0</td>\n",
              "      <td>0.0</td>\n",
              "      <td>1.0</td>\n",
              "      <td>0.0</td>\n",
              "      <td>1.0</td>\n",
              "      <td>1.0</td>\n",
              "      <td>0.0</td>\n",
              "      <td>1.0</td>\n",
              "    </tr>\n",
              "    <tr>\n",
              "      <th>2978</th>\n",
              "      <td>0.0</td>\n",
              "      <td>0.0</td>\n",
              "      <td>1.0</td>\n",
              "      <td>0.0</td>\n",
              "      <td>0.0</td>\n",
              "      <td>1.0</td>\n",
              "      <td>1.0</td>\n",
              "      <td>1.0</td>\n",
              "      <td>0.0</td>\n",
              "      <td>0.0</td>\n",
              "      <td>...</td>\n",
              "      <td>1.0</td>\n",
              "      <td>0.0</td>\n",
              "      <td>0.0</td>\n",
              "      <td>0.0</td>\n",
              "      <td>1.0</td>\n",
              "      <td>1.0</td>\n",
              "      <td>0.0</td>\n",
              "      <td>0.0</td>\n",
              "      <td>0.0</td>\n",
              "      <td>0.0</td>\n",
              "    </tr>\n",
              "    <tr>\n",
              "      <th>2979</th>\n",
              "      <td>0.0</td>\n",
              "      <td>0.0</td>\n",
              "      <td>1.0</td>\n",
              "      <td>1.0</td>\n",
              "      <td>0.0</td>\n",
              "      <td>0.0</td>\n",
              "      <td>0.0</td>\n",
              "      <td>1.0</td>\n",
              "      <td>0.0</td>\n",
              "      <td>0.0</td>\n",
              "      <td>...</td>\n",
              "      <td>1.0</td>\n",
              "      <td>1.0</td>\n",
              "      <td>0.0</td>\n",
              "      <td>0.0</td>\n",
              "      <td>1.0</td>\n",
              "      <td>1.0</td>\n",
              "      <td>0.0</td>\n",
              "      <td>0.0</td>\n",
              "      <td>0.0</td>\n",
              "      <td>0.0</td>\n",
              "    </tr>\n",
              "    <tr>\n",
              "      <th>2980</th>\n",
              "      <td>0.0</td>\n",
              "      <td>0.0</td>\n",
              "      <td>0.0</td>\n",
              "      <td>0.0</td>\n",
              "      <td>0.0</td>\n",
              "      <td>0.0</td>\n",
              "      <td>0.0</td>\n",
              "      <td>1.0</td>\n",
              "      <td>0.0</td>\n",
              "      <td>0.0</td>\n",
              "      <td>...</td>\n",
              "      <td>1.0</td>\n",
              "      <td>0.0</td>\n",
              "      <td>0.0</td>\n",
              "      <td>0.0</td>\n",
              "      <td>1.0</td>\n",
              "      <td>0.0</td>\n",
              "      <td>0.0</td>\n",
              "      <td>0.0</td>\n",
              "      <td>0.0</td>\n",
              "      <td>0.0</td>\n",
              "    </tr>\n",
              "    <tr>\n",
              "      <th>2981</th>\n",
              "      <td>0.0</td>\n",
              "      <td>0.0</td>\n",
              "      <td>1.0</td>\n",
              "      <td>0.0</td>\n",
              "      <td>0.0</td>\n",
              "      <td>0.0</td>\n",
              "      <td>0.0</td>\n",
              "      <td>0.0</td>\n",
              "      <td>0.0</td>\n",
              "      <td>0.0</td>\n",
              "      <td>...</td>\n",
              "      <td>1.0</td>\n",
              "      <td>0.0</td>\n",
              "      <td>0.0</td>\n",
              "      <td>0.0</td>\n",
              "      <td>1.0</td>\n",
              "      <td>1.0</td>\n",
              "      <td>0.0</td>\n",
              "      <td>0.0</td>\n",
              "      <td>0.0</td>\n",
              "      <td>0.0</td>\n",
              "    </tr>\n",
              "  </tbody>\n",
              "</table>\n",
              "<p>2982 rows × 2982 columns</p>\n",
              "</div>\n",
              "      <button class=\"colab-df-convert\" onclick=\"convertToInteractive('df-12cdc834-6624-4ef6-be38-61a93c96b645')\"\n",
              "              title=\"Convert this dataframe to an interactive table.\"\n",
              "              style=\"display:none;\">\n",
              "        \n",
              "  <svg xmlns=\"http://www.w3.org/2000/svg\" height=\"24px\"viewBox=\"0 0 24 24\"\n",
              "       width=\"24px\">\n",
              "    <path d=\"M0 0h24v24H0V0z\" fill=\"none\"/>\n",
              "    <path d=\"M18.56 5.44l.94 2.06.94-2.06 2.06-.94-2.06-.94-.94-2.06-.94 2.06-2.06.94zm-11 1L8.5 8.5l.94-2.06 2.06-.94-2.06-.94L8.5 2.5l-.94 2.06-2.06.94zm10 10l.94 2.06.94-2.06 2.06-.94-2.06-.94-.94-2.06-.94 2.06-2.06.94z\"/><path d=\"M17.41 7.96l-1.37-1.37c-.4-.4-.92-.59-1.43-.59-.52 0-1.04.2-1.43.59L10.3 9.45l-7.72 7.72c-.78.78-.78 2.05 0 2.83L4 21.41c.39.39.9.59 1.41.59.51 0 1.02-.2 1.41-.59l7.78-7.78 2.81-2.81c.8-.78.8-2.07 0-2.86zM5.41 20L4 18.59l7.72-7.72 1.47 1.35L5.41 20z\"/>\n",
              "  </svg>\n",
              "      </button>\n",
              "      \n",
              "  <style>\n",
              "    .colab-df-container {\n",
              "      display:flex;\n",
              "      flex-wrap:wrap;\n",
              "      gap: 12px;\n",
              "    }\n",
              "\n",
              "    .colab-df-convert {\n",
              "      background-color: #E8F0FE;\n",
              "      border: none;\n",
              "      border-radius: 50%;\n",
              "      cursor: pointer;\n",
              "      display: none;\n",
              "      fill: #1967D2;\n",
              "      height: 32px;\n",
              "      padding: 0 0 0 0;\n",
              "      width: 32px;\n",
              "    }\n",
              "\n",
              "    .colab-df-convert:hover {\n",
              "      background-color: #E2EBFA;\n",
              "      box-shadow: 0px 1px 2px rgba(60, 64, 67, 0.3), 0px 1px 3px 1px rgba(60, 64, 67, 0.15);\n",
              "      fill: #174EA6;\n",
              "    }\n",
              "\n",
              "    [theme=dark] .colab-df-convert {\n",
              "      background-color: #3B4455;\n",
              "      fill: #D2E3FC;\n",
              "    }\n",
              "\n",
              "    [theme=dark] .colab-df-convert:hover {\n",
              "      background-color: #434B5C;\n",
              "      box-shadow: 0px 1px 3px 1px rgba(0, 0, 0, 0.15);\n",
              "      filter: drop-shadow(0px 1px 2px rgba(0, 0, 0, 0.3));\n",
              "      fill: #FFFFFF;\n",
              "    }\n",
              "  </style>\n",
              "\n",
              "      <script>\n",
              "        const buttonEl =\n",
              "          document.querySelector('#df-12cdc834-6624-4ef6-be38-61a93c96b645 button.colab-df-convert');\n",
              "        buttonEl.style.display =\n",
              "          google.colab.kernel.accessAllowed ? 'block' : 'none';\n",
              "\n",
              "        async function convertToInteractive(key) {\n",
              "          const element = document.querySelector('#df-12cdc834-6624-4ef6-be38-61a93c96b645');\n",
              "          const dataTable =\n",
              "            await google.colab.kernel.invokeFunction('convertToInteractive',\n",
              "                                                     [key], {});\n",
              "          if (!dataTable) return;\n",
              "\n",
              "          const docLinkHtml = 'Like what you see? Visit the ' +\n",
              "            '<a target=\"_blank\" href=https://colab.research.google.com/notebooks/data_table.ipynb>data table notebook</a>'\n",
              "            + ' to learn more about interactive tables.';\n",
              "          element.innerHTML = '';\n",
              "          dataTable['output_type'] = 'display_data';\n",
              "          await google.colab.output.renderOutput(dataTable, element);\n",
              "          const docLink = document.createElement('div');\n",
              "          docLink.innerHTML = docLinkHtml;\n",
              "          element.appendChild(docLink);\n",
              "        }\n",
              "      </script>\n",
              "    </div>\n",
              "  </div>\n",
              "  "
            ]
          },
          "metadata": {},
          "execution_count": 65
        }
      ]
    },
    {
      "cell_type": "code",
      "source": [
        "G = nx.from_numpy_matrix(np.array(adjmat_df))\n",
        "G"
      ],
      "metadata": {
        "colab": {
          "base_uri": "https://localhost:8080/"
        },
        "id": "TTd5fl42ivz8",
        "outputId": "dc2bf06f-6580-44b8-c09a-915814369842"
      },
      "execution_count": 66,
      "outputs": [
        {
          "output_type": "execute_result",
          "data": {
            "text/plain": [
              "<networkx.classes.graph.Graph at 0x7f99a55f3130>"
            ]
          },
          "metadata": {},
          "execution_count": 66
        }
      ]
    },
    {
      "cell_type": "code",
      "source": [
        "A=nx.to_numpy_matrix(G)\n",
        "##Creating graph from adjacency matrix\n",
        "H=nx.from_numpy_matrix(A)"
      ],
      "metadata": {
        "id": "vm_vIlpNiv4S"
      },
      "execution_count": 67,
      "outputs": []
    },
    {
      "cell_type": "markdown",
      "source": [
        "### Construct a graph using stellargraph"
      ],
      "metadata": {
        "id": "qIxeFMjSi6KT"
      }
    },
    {
      "cell_type": "code",
      "source": [
        "square_feature_dataframe = StellarGraph.from_networkx(H, node_features=adjmat_df)\n",
        "print(square_feature_dataframe.info())"
      ],
      "metadata": {
        "colab": {
          "base_uri": "https://localhost:8080/"
        },
        "id": "LiD0zna5tFfp",
        "outputId": "4d5b313d-865c-4e93-e68d-9e4a7b9b7f4a"
      },
      "execution_count": 68,
      "outputs": [
        {
          "output_type": "stream",
          "name": "stdout",
          "text": [
            "StellarGraph: Undirected multigraph\n",
            " Nodes: 2982, Edges: 1793526\n",
            "\n",
            " Node types:\n",
            "  default: [2982]\n",
            "    Features: float32 vector, length 2982\n",
            "    Edge types: default-default->default\n",
            "\n",
            " Edge types:\n",
            "    default-default->default: [1793526]\n",
            "        Weights: all 1 (default)\n",
            "        Features: none\n"
          ]
        }
      ]
    },
    {
      "cell_type": "code",
      "source": [
        "from stellargraph.mapper import (\n",
        "    CorruptedGenerator,\n",
        "    FullBatchNodeGenerator,\n",
        "    GraphSAGENodeGenerator,\n",
        "    HinSAGENodeGenerator,\n",
        "    ClusterNodeGenerator,\n",
        ")\n",
        "from stellargraph import StellarGraph\n",
        "from stellargraph.layer import GCN, DeepGraphInfomax, GraphSAGE, GAT, APPNP, HinSAGE\n",
        "from stellargraph.mapper import FullBatchNodeGenerator\n",
        "from stellargraph.layer.ppnp import PPNP\n",
        "from stellargraph.layer.appnp import APPNP\n",
        "from stellargraph.mapper import ClusterNodeGenerator\n",
        "from stellargraph import datasets\n",
        "from stellargraph.utils import plot_history\n",
        "from tensorflow.keras import layers, optimizers, losses, metrics, Model, regularizers\n",
        "import pandas as pd\n",
        "from matplotlib import pyplot as plt\n",
        "from sklearn import model_selection\n",
        "from sklearn.linear_model import LogisticRegression\n",
        "from sklearn.manifold import TSNE\n",
        "from IPython.display import display, HTML\n",
        "\n",
        "from tensorflow.keras.optimizers import Adam\n",
        "from tensorflow.keras.callbacks import EarlyStopping\n",
        "import tensorflow as tf\n",
        "from tensorflow.keras import Model"
      ],
      "metadata": {
        "id": "zFYxEqBOl_i5"
      },
      "execution_count": 69,
      "outputs": []
    },
    {
      "cell_type": "markdown",
      "source": [
        "### Node Generator"
      ],
      "metadata": {
        "id": "v53x4L-czdMy"
      }
    },
    {
      "cell_type": "code",
      "source": [
        "generator = FullBatchNodeGenerator(square_feature_dataframe, method=\"ppnp\", sparse=False, teleport_probability=0.1)\n",
        "generator "
      ],
      "metadata": {
        "id": "d_LprBFBzgW0",
        "colab": {
          "base_uri": "https://localhost:8080/"
        },
        "outputId": "bab9bd12-411c-438f-c282-0eae476471b3"
      },
      "execution_count": 70,
      "outputs": [
        {
          "output_type": "execute_result",
          "data": {
            "text/plain": [
              "<stellargraph.mapper.full_batch_generators.FullBatchNodeGenerator at 0x7f99a5614eb0>"
            ]
          },
          "metadata": {},
          "execution_count": 70
        }
      ]
    },
    {
      "cell_type": "code",
      "source": [
        "target_encoding = preprocessing.LabelBinarizer()\n",
        "\n",
        "targets = target_encoding.fit_transform(df['CLASS'])\n",
        "targets"
      ],
      "metadata": {
        "colab": {
          "base_uri": "https://localhost:8080/"
        },
        "id": "OCoCgvF4bk3T",
        "outputId": "961dfcaf-1ee1-40fa-f1a9-6e1aa37140c9"
      },
      "execution_count": 71,
      "outputs": [
        {
          "output_type": "execute_result",
          "data": {
            "text/plain": [
              "array([[1],\n",
              "       [1],\n",
              "       [0],\n",
              "       ...,\n",
              "       [1],\n",
              "       [0],\n",
              "       [1]])"
            ]
          },
          "metadata": {},
          "execution_count": 71
        }
      ]
    },
    {
      "cell_type": "code",
      "source": [
        "targets.shape[1]"
      ],
      "metadata": {
        "id": "yyLUOC5DvPzN",
        "colab": {
          "base_uri": "https://localhost:8080/"
        },
        "outputId": "7715ce41-4409-415b-917f-6badfce3d6d5"
      },
      "execution_count": 72,
      "outputs": [
        {
          "output_type": "execute_result",
          "data": {
            "text/plain": [
              "1"
            ]
          },
          "metadata": {},
          "execution_count": 72
        }
      ]
    },
    {
      "cell_type": "code",
      "source": [
        "from tensorflow import keras\n",
        "ppnp = PPNP(\n",
        "    layer_sizes=[32, 32, 32],\n",
        "    activations=[\"relu\", \"relu\", \"softmax\"],\n",
        "    generator=generator,\n",
        "    dropout=0.5,\n",
        "    kernel_regularizer=keras.regularizers.l2(0.001),\n",
        ")\n",
        "ppnp"
      ],
      "metadata": {
        "colab": {
          "base_uri": "https://localhost:8080/"
        },
        "id": "vP4MwWtiOZje",
        "outputId": "9a7d7568-b796-4c4f-d0fe-d8754b58f699"
      },
      "execution_count": 73,
      "outputs": [
        {
          "output_type": "execute_result",
          "data": {
            "text/plain": [
              "<stellargraph.layer.ppnp.PPNP at 0x7f99a5614d90>"
            ]
          },
          "metadata": {},
          "execution_count": 73
        }
      ]
    },
    {
      "cell_type": "code",
      "source": [
        "# Expose the input and output tensors of the ppnp model for node prediction,\n",
        "# via GCN.in_out_tensors() method:\n",
        "x_inp, x_out = ppnp.in_out_tensors()"
      ],
      "metadata": {
        "id": "Lb-YwqDTDpCY"
      },
      "execution_count": 74,
      "outputs": []
    },
    {
      "cell_type": "code",
      "source": [
        "x_inp"
      ],
      "metadata": {
        "id": "unARj_UuZXfQ",
        "colab": {
          "base_uri": "https://localhost:8080/"
        },
        "outputId": "8ee2dc9a-016c-4902-8b61-964fcc08e12c"
      },
      "execution_count": 75,
      "outputs": [
        {
          "output_type": "execute_result",
          "data": {
            "text/plain": [
              "[<KerasTensor: shape=(1, 2982, 2982) dtype=float32 (created by layer 'input_5')>,\n",
              " <KerasTensor: shape=(1, None) dtype=int32 (created by layer 'input_6')>,\n",
              " <KerasTensor: shape=(1, 2982, 2982) dtype=float32 (created by layer 'input_7')>]"
            ]
          },
          "metadata": {},
          "execution_count": 75
        }
      ]
    },
    {
      "cell_type": "code",
      "source": [
        "x_out"
      ],
      "metadata": {
        "colab": {
          "base_uri": "https://localhost:8080/"
        },
        "id": "ig818jdUhCtc",
        "outputId": "13ce54d5-3152-419a-a491-d8f61325d953"
      },
      "execution_count": 76,
      "outputs": [
        {
          "output_type": "execute_result",
          "data": {
            "text/plain": [
              "<KerasTensor: shape=(1, None, 32) dtype=float32 (created by layer 'gather_indices_1')>"
            ]
          },
          "metadata": {},
          "execution_count": 76
        }
      ]
    },
    {
      "cell_type": "code",
      "source": [
        "predictions = keras.layers.Softmax()(x_out)\n",
        "predictions"
      ],
      "metadata": {
        "colab": {
          "base_uri": "https://localhost:8080/"
        },
        "id": "PcByAIVUOsBF",
        "outputId": "1d0ffa52-65fb-4e0c-a21b-0c063af77592"
      },
      "execution_count": 77,
      "outputs": [
        {
          "output_type": "execute_result",
          "data": {
            "text/plain": [
              "<KerasTensor: shape=(1, None, 32) dtype=float32 (created by layer 'softmax')>"
            ]
          },
          "metadata": {},
          "execution_count": 77
        }
      ]
    },
    {
      "cell_type": "code",
      "source": [
        "model = Model(inputs=x_inp, outputs=predictions)"
      ],
      "metadata": {
        "id": "mK3VLFXfOtdU"
      },
      "execution_count": 78,
      "outputs": []
    },
    {
      "cell_type": "code",
      "source": [
        "#model = Model(inputs=x_inp, outputs=x_out)"
      ],
      "metadata": {
        "id": "XJhNqmR6DuWX"
      },
      "execution_count": 79,
      "outputs": []
    },
    {
      "cell_type": "markdown",
      "source": [
        "### Node embeddings"
      ],
      "metadata": {
        "id": "WNDIeDrCEGQG"
      }
    },
    {
      "cell_type": "code",
      "source": [
        "all_nodes = df['CLASS'].index\n",
        "all_nodes"
      ],
      "metadata": {
        "colab": {
          "base_uri": "https://localhost:8080/"
        },
        "id": "hHFRo5AlzuPL",
        "outputId": "294deb4a-3837-4c62-8fbf-1779e610cdb4"
      },
      "execution_count": 80,
      "outputs": [
        {
          "output_type": "execute_result",
          "data": {
            "text/plain": [
              "RangeIndex(start=0, stop=2982, step=1)"
            ]
          },
          "metadata": {},
          "execution_count": 80
        }
      ]
    },
    {
      "cell_type": "code",
      "source": [
        "all_gen = generator.flow(all_nodes)\n",
        "all_gen"
      ],
      "metadata": {
        "colab": {
          "base_uri": "https://localhost:8080/"
        },
        "id": "3C7vlocKzxXr",
        "outputId": "0b65018a-0c9f-486c-fd5d-4b957e0b87db"
      },
      "execution_count": 81,
      "outputs": [
        {
          "output_type": "execute_result",
          "data": {
            "text/plain": [
              "<stellargraph.mapper.sequences.FullBatchSequence at 0x7f99a56d9c10>"
            ]
          },
          "metadata": {},
          "execution_count": 81
        }
      ]
    },
    {
      "cell_type": "code",
      "source": [
        "emb = model.predict(all_gen)\n",
        "emb.shape"
      ],
      "metadata": {
        "id": "QskkrWasz1C7",
        "colab": {
          "base_uri": "https://localhost:8080/"
        },
        "outputId": "60ce2451-5649-414f-f4fd-63f938847bfb"
      },
      "execution_count": 82,
      "outputs": [
        {
          "output_type": "stream",
          "name": "stdout",
          "text": [
            "1/1 [==============================] - 0s 148ms/step\n"
          ]
        },
        {
          "output_type": "execute_result",
          "data": {
            "text/plain": [
              "(1, 2982, 32)"
            ]
          },
          "metadata": {},
          "execution_count": 82
        }
      ]
    },
    {
      "cell_type": "code",
      "source": [
        "emb"
      ],
      "metadata": {
        "colab": {
          "base_uri": "https://localhost:8080/"
        },
        "id": "cUazaJ2vAJQT",
        "outputId": "7535de0d-a3d8-446a-f909-d4b63de56af4"
      },
      "execution_count": 83,
      "outputs": [
        {
          "output_type": "execute_result",
          "data": {
            "text/plain": [
              "array([[[0.03164475, 0.03150815, 0.03116417, ..., 0.03113127,\n",
              "         0.0307456 , 0.03222492],\n",
              "        [0.0315432 , 0.03141576, 0.03121219, ..., 0.0311375 ,\n",
              "         0.03095048, 0.03186817],\n",
              "        [0.03176034, 0.03163778, 0.03112304, ..., 0.03102976,\n",
              "         0.03063453, 0.03253619],\n",
              "        ...,\n",
              "        [0.03164616, 0.03144648, 0.03118033, ..., 0.03112351,\n",
              "         0.03083704, 0.03205561],\n",
              "        [0.0315801 , 0.03143486, 0.03122676, ..., 0.03109059,\n",
              "         0.03087626, 0.03200551],\n",
              "        [0.03158804, 0.03148124, 0.03117698, ..., 0.03110063,\n",
              "         0.0308781 , 0.03198106]]], dtype=float32)"
            ]
          },
          "metadata": {},
          "execution_count": 83
        }
      ]
    },
    {
      "cell_type": "code",
      "source": [
        "w = emb.squeeze()"
      ],
      "metadata": {
        "id": "HX9ikhjrEOve"
      },
      "execution_count": 84,
      "outputs": []
    },
    {
      "cell_type": "code",
      "source": [
        "node_emb = pd.DataFrame(w)"
      ],
      "metadata": {
        "id": "tmQzLVunAMJL"
      },
      "execution_count": 85,
      "outputs": []
    },
    {
      "cell_type": "code",
      "source": [
        "y = df['CLASS']\n",
        "y"
      ],
      "metadata": {
        "colab": {
          "base_uri": "https://localhost:8080/"
        },
        "id": "gkvPeWqq0KbE",
        "outputId": "8f60e71e-d50b-4c98-a600-dea9f3c9e5fd"
      },
      "execution_count": 86,
      "outputs": [
        {
          "output_type": "execute_result",
          "data": {
            "text/plain": [
              "0       1\n",
              "1       1\n",
              "2       0\n",
              "3       0\n",
              "4       1\n",
              "       ..\n",
              "2977    1\n",
              "2978    1\n",
              "2979    1\n",
              "2980    0\n",
              "2981    1\n",
              "Name: CLASS, Length: 2982, dtype: int64"
            ]
          },
          "metadata": {},
          "execution_count": 86
        }
      ]
    },
    {
      "cell_type": "code",
      "source": [
        "node_emb['Class']=y"
      ],
      "metadata": {
        "id": "guDE3SEKAogq"
      },
      "execution_count": 87,
      "outputs": []
    },
    {
      "cell_type": "code",
      "source": [
        "node_emb"
      ],
      "metadata": {
        "colab": {
          "base_uri": "https://localhost:8080/",
          "height": 488
        },
        "id": "EslfixqoAoiW",
        "outputId": "216f5526-c2d8-4c91-b20c-a306d069bb13"
      },
      "execution_count": 88,
      "outputs": [
        {
          "output_type": "execute_result",
          "data": {
            "text/plain": [
              "             0         1         2         3         4         5         6  \\\n",
              "0     0.031645  0.031508  0.031164  0.030698  0.031804  0.031177  0.030686   \n",
              "1     0.031543  0.031416  0.031212  0.030879  0.031656  0.031253  0.030875   \n",
              "2     0.031760  0.031638  0.031123  0.030544  0.032020  0.031184  0.030556   \n",
              "3     0.031793  0.031662  0.031098  0.030484  0.032048  0.031170  0.030494   \n",
              "4     0.031706  0.031506  0.031184  0.030711  0.031835  0.031220  0.030703   \n",
              "...        ...       ...       ...       ...       ...       ...       ...   \n",
              "2977  0.031760  0.031638  0.031123  0.030544  0.032020  0.031184  0.030556   \n",
              "2978  0.031701  0.031529  0.031178  0.030735  0.031788  0.031257  0.030739   \n",
              "2979  0.031646  0.031446  0.031180  0.030751  0.031742  0.031238  0.030743   \n",
              "2980  0.031580  0.031435  0.031227  0.030817  0.031692  0.031235  0.030813   \n",
              "2981  0.031588  0.031481  0.031177  0.030809  0.031744  0.031252  0.030814   \n",
              "\n",
              "             7         8         9  ...        23        24        25  \\\n",
              "0     0.031603  0.030921  0.031754  ...  0.031413  0.031218  0.031107   \n",
              "1     0.031478  0.031057  0.031556  ...  0.031352  0.031224  0.031171   \n",
              "2     0.031710  0.030888  0.031927  ...  0.031443  0.031210  0.031080   \n",
              "3     0.031713  0.030803  0.032011  ...  0.031471  0.031199  0.031061   \n",
              "4     0.031628  0.030986  0.031744  ...  0.031432  0.031214  0.031151   \n",
              "...        ...       ...       ...  ...       ...       ...       ...   \n",
              "2977  0.031710  0.030888  0.031927  ...  0.031443  0.031210  0.031080   \n",
              "2978  0.031575  0.030984  0.031698  ...  0.031404  0.031222  0.031126   \n",
              "2979  0.031542  0.030958  0.031675  ...  0.031393  0.031196  0.031122   \n",
              "2980  0.031551  0.031028  0.031613  ...  0.031396  0.031220  0.031177   \n",
              "2981  0.031544  0.031012  0.031631  ...  0.031363  0.031236  0.031140   \n",
              "\n",
              "            26        27        28        29        30        31  Class  \n",
              "0     0.030955  0.030576  0.031095  0.031131  0.030746  0.032225      1  \n",
              "1     0.031045  0.030811  0.031156  0.031138  0.030950  0.031868      1  \n",
              "2     0.030840  0.030421  0.031036  0.031030  0.030635  0.032536      0  \n",
              "3     0.030808  0.030338  0.031033  0.031022  0.030575  0.032679      0  \n",
              "4     0.030952  0.030621  0.031116  0.031057  0.030785  0.032203      1  \n",
              "...        ...       ...       ...       ...       ...       ...    ...  \n",
              "2977  0.030840  0.030421  0.031036  0.031030  0.030635  0.032536      1  \n",
              "2978  0.030967  0.030651  0.031106  0.031079  0.030825  0.032114      1  \n",
              "2979  0.030970  0.030656  0.031130  0.031124  0.030837  0.032056      1  \n",
              "2980  0.031001  0.030743  0.031159  0.031091  0.030876  0.032006      0  \n",
              "2981  0.030991  0.030743  0.031140  0.031101  0.030878  0.031981      1  \n",
              "\n",
              "[2982 rows x 33 columns]"
            ],
            "text/html": [
              "\n",
              "  <div id=\"df-d7949aeb-9def-4655-8ef2-87304927fe5a\">\n",
              "    <div class=\"colab-df-container\">\n",
              "      <div>\n",
              "<style scoped>\n",
              "    .dataframe tbody tr th:only-of-type {\n",
              "        vertical-align: middle;\n",
              "    }\n",
              "\n",
              "    .dataframe tbody tr th {\n",
              "        vertical-align: top;\n",
              "    }\n",
              "\n",
              "    .dataframe thead th {\n",
              "        text-align: right;\n",
              "    }\n",
              "</style>\n",
              "<table border=\"1\" class=\"dataframe\">\n",
              "  <thead>\n",
              "    <tr style=\"text-align: right;\">\n",
              "      <th></th>\n",
              "      <th>0</th>\n",
              "      <th>1</th>\n",
              "      <th>2</th>\n",
              "      <th>3</th>\n",
              "      <th>4</th>\n",
              "      <th>5</th>\n",
              "      <th>6</th>\n",
              "      <th>7</th>\n",
              "      <th>8</th>\n",
              "      <th>9</th>\n",
              "      <th>...</th>\n",
              "      <th>23</th>\n",
              "      <th>24</th>\n",
              "      <th>25</th>\n",
              "      <th>26</th>\n",
              "      <th>27</th>\n",
              "      <th>28</th>\n",
              "      <th>29</th>\n",
              "      <th>30</th>\n",
              "      <th>31</th>\n",
              "      <th>Class</th>\n",
              "    </tr>\n",
              "  </thead>\n",
              "  <tbody>\n",
              "    <tr>\n",
              "      <th>0</th>\n",
              "      <td>0.031645</td>\n",
              "      <td>0.031508</td>\n",
              "      <td>0.031164</td>\n",
              "      <td>0.030698</td>\n",
              "      <td>0.031804</td>\n",
              "      <td>0.031177</td>\n",
              "      <td>0.030686</td>\n",
              "      <td>0.031603</td>\n",
              "      <td>0.030921</td>\n",
              "      <td>0.031754</td>\n",
              "      <td>...</td>\n",
              "      <td>0.031413</td>\n",
              "      <td>0.031218</td>\n",
              "      <td>0.031107</td>\n",
              "      <td>0.030955</td>\n",
              "      <td>0.030576</td>\n",
              "      <td>0.031095</td>\n",
              "      <td>0.031131</td>\n",
              "      <td>0.030746</td>\n",
              "      <td>0.032225</td>\n",
              "      <td>1</td>\n",
              "    </tr>\n",
              "    <tr>\n",
              "      <th>1</th>\n",
              "      <td>0.031543</td>\n",
              "      <td>0.031416</td>\n",
              "      <td>0.031212</td>\n",
              "      <td>0.030879</td>\n",
              "      <td>0.031656</td>\n",
              "      <td>0.031253</td>\n",
              "      <td>0.030875</td>\n",
              "      <td>0.031478</td>\n",
              "      <td>0.031057</td>\n",
              "      <td>0.031556</td>\n",
              "      <td>...</td>\n",
              "      <td>0.031352</td>\n",
              "      <td>0.031224</td>\n",
              "      <td>0.031171</td>\n",
              "      <td>0.031045</td>\n",
              "      <td>0.030811</td>\n",
              "      <td>0.031156</td>\n",
              "      <td>0.031138</td>\n",
              "      <td>0.030950</td>\n",
              "      <td>0.031868</td>\n",
              "      <td>1</td>\n",
              "    </tr>\n",
              "    <tr>\n",
              "      <th>2</th>\n",
              "      <td>0.031760</td>\n",
              "      <td>0.031638</td>\n",
              "      <td>0.031123</td>\n",
              "      <td>0.030544</td>\n",
              "      <td>0.032020</td>\n",
              "      <td>0.031184</td>\n",
              "      <td>0.030556</td>\n",
              "      <td>0.031710</td>\n",
              "      <td>0.030888</td>\n",
              "      <td>0.031927</td>\n",
              "      <td>...</td>\n",
              "      <td>0.031443</td>\n",
              "      <td>0.031210</td>\n",
              "      <td>0.031080</td>\n",
              "      <td>0.030840</td>\n",
              "      <td>0.030421</td>\n",
              "      <td>0.031036</td>\n",
              "      <td>0.031030</td>\n",
              "      <td>0.030635</td>\n",
              "      <td>0.032536</td>\n",
              "      <td>0</td>\n",
              "    </tr>\n",
              "    <tr>\n",
              "      <th>3</th>\n",
              "      <td>0.031793</td>\n",
              "      <td>0.031662</td>\n",
              "      <td>0.031098</td>\n",
              "      <td>0.030484</td>\n",
              "      <td>0.032048</td>\n",
              "      <td>0.031170</td>\n",
              "      <td>0.030494</td>\n",
              "      <td>0.031713</td>\n",
              "      <td>0.030803</td>\n",
              "      <td>0.032011</td>\n",
              "      <td>...</td>\n",
              "      <td>0.031471</td>\n",
              "      <td>0.031199</td>\n",
              "      <td>0.031061</td>\n",
              "      <td>0.030808</td>\n",
              "      <td>0.030338</td>\n",
              "      <td>0.031033</td>\n",
              "      <td>0.031022</td>\n",
              "      <td>0.030575</td>\n",
              "      <td>0.032679</td>\n",
              "      <td>0</td>\n",
              "    </tr>\n",
              "    <tr>\n",
              "      <th>4</th>\n",
              "      <td>0.031706</td>\n",
              "      <td>0.031506</td>\n",
              "      <td>0.031184</td>\n",
              "      <td>0.030711</td>\n",
              "      <td>0.031835</td>\n",
              "      <td>0.031220</td>\n",
              "      <td>0.030703</td>\n",
              "      <td>0.031628</td>\n",
              "      <td>0.030986</td>\n",
              "      <td>0.031744</td>\n",
              "      <td>...</td>\n",
              "      <td>0.031432</td>\n",
              "      <td>0.031214</td>\n",
              "      <td>0.031151</td>\n",
              "      <td>0.030952</td>\n",
              "      <td>0.030621</td>\n",
              "      <td>0.031116</td>\n",
              "      <td>0.031057</td>\n",
              "      <td>0.030785</td>\n",
              "      <td>0.032203</td>\n",
              "      <td>1</td>\n",
              "    </tr>\n",
              "    <tr>\n",
              "      <th>...</th>\n",
              "      <td>...</td>\n",
              "      <td>...</td>\n",
              "      <td>...</td>\n",
              "      <td>...</td>\n",
              "      <td>...</td>\n",
              "      <td>...</td>\n",
              "      <td>...</td>\n",
              "      <td>...</td>\n",
              "      <td>...</td>\n",
              "      <td>...</td>\n",
              "      <td>...</td>\n",
              "      <td>...</td>\n",
              "      <td>...</td>\n",
              "      <td>...</td>\n",
              "      <td>...</td>\n",
              "      <td>...</td>\n",
              "      <td>...</td>\n",
              "      <td>...</td>\n",
              "      <td>...</td>\n",
              "      <td>...</td>\n",
              "      <td>...</td>\n",
              "    </tr>\n",
              "    <tr>\n",
              "      <th>2977</th>\n",
              "      <td>0.031760</td>\n",
              "      <td>0.031638</td>\n",
              "      <td>0.031123</td>\n",
              "      <td>0.030544</td>\n",
              "      <td>0.032020</td>\n",
              "      <td>0.031184</td>\n",
              "      <td>0.030556</td>\n",
              "      <td>0.031710</td>\n",
              "      <td>0.030888</td>\n",
              "      <td>0.031927</td>\n",
              "      <td>...</td>\n",
              "      <td>0.031443</td>\n",
              "      <td>0.031210</td>\n",
              "      <td>0.031080</td>\n",
              "      <td>0.030840</td>\n",
              "      <td>0.030421</td>\n",
              "      <td>0.031036</td>\n",
              "      <td>0.031030</td>\n",
              "      <td>0.030635</td>\n",
              "      <td>0.032536</td>\n",
              "      <td>1</td>\n",
              "    </tr>\n",
              "    <tr>\n",
              "      <th>2978</th>\n",
              "      <td>0.031701</td>\n",
              "      <td>0.031529</td>\n",
              "      <td>0.031178</td>\n",
              "      <td>0.030735</td>\n",
              "      <td>0.031788</td>\n",
              "      <td>0.031257</td>\n",
              "      <td>0.030739</td>\n",
              "      <td>0.031575</td>\n",
              "      <td>0.030984</td>\n",
              "      <td>0.031698</td>\n",
              "      <td>...</td>\n",
              "      <td>0.031404</td>\n",
              "      <td>0.031222</td>\n",
              "      <td>0.031126</td>\n",
              "      <td>0.030967</td>\n",
              "      <td>0.030651</td>\n",
              "      <td>0.031106</td>\n",
              "      <td>0.031079</td>\n",
              "      <td>0.030825</td>\n",
              "      <td>0.032114</td>\n",
              "      <td>1</td>\n",
              "    </tr>\n",
              "    <tr>\n",
              "      <th>2979</th>\n",
              "      <td>0.031646</td>\n",
              "      <td>0.031446</td>\n",
              "      <td>0.031180</td>\n",
              "      <td>0.030751</td>\n",
              "      <td>0.031742</td>\n",
              "      <td>0.031238</td>\n",
              "      <td>0.030743</td>\n",
              "      <td>0.031542</td>\n",
              "      <td>0.030958</td>\n",
              "      <td>0.031675</td>\n",
              "      <td>...</td>\n",
              "      <td>0.031393</td>\n",
              "      <td>0.031196</td>\n",
              "      <td>0.031122</td>\n",
              "      <td>0.030970</td>\n",
              "      <td>0.030656</td>\n",
              "      <td>0.031130</td>\n",
              "      <td>0.031124</td>\n",
              "      <td>0.030837</td>\n",
              "      <td>0.032056</td>\n",
              "      <td>1</td>\n",
              "    </tr>\n",
              "    <tr>\n",
              "      <th>2980</th>\n",
              "      <td>0.031580</td>\n",
              "      <td>0.031435</td>\n",
              "      <td>0.031227</td>\n",
              "      <td>0.030817</td>\n",
              "      <td>0.031692</td>\n",
              "      <td>0.031235</td>\n",
              "      <td>0.030813</td>\n",
              "      <td>0.031551</td>\n",
              "      <td>0.031028</td>\n",
              "      <td>0.031613</td>\n",
              "      <td>...</td>\n",
              "      <td>0.031396</td>\n",
              "      <td>0.031220</td>\n",
              "      <td>0.031177</td>\n",
              "      <td>0.031001</td>\n",
              "      <td>0.030743</td>\n",
              "      <td>0.031159</td>\n",
              "      <td>0.031091</td>\n",
              "      <td>0.030876</td>\n",
              "      <td>0.032006</td>\n",
              "      <td>0</td>\n",
              "    </tr>\n",
              "    <tr>\n",
              "      <th>2981</th>\n",
              "      <td>0.031588</td>\n",
              "      <td>0.031481</td>\n",
              "      <td>0.031177</td>\n",
              "      <td>0.030809</td>\n",
              "      <td>0.031744</td>\n",
              "      <td>0.031252</td>\n",
              "      <td>0.030814</td>\n",
              "      <td>0.031544</td>\n",
              "      <td>0.031012</td>\n",
              "      <td>0.031631</td>\n",
              "      <td>...</td>\n",
              "      <td>0.031363</td>\n",
              "      <td>0.031236</td>\n",
              "      <td>0.031140</td>\n",
              "      <td>0.030991</td>\n",
              "      <td>0.030743</td>\n",
              "      <td>0.031140</td>\n",
              "      <td>0.031101</td>\n",
              "      <td>0.030878</td>\n",
              "      <td>0.031981</td>\n",
              "      <td>1</td>\n",
              "    </tr>\n",
              "  </tbody>\n",
              "</table>\n",
              "<p>2982 rows × 33 columns</p>\n",
              "</div>\n",
              "      <button class=\"colab-df-convert\" onclick=\"convertToInteractive('df-d7949aeb-9def-4655-8ef2-87304927fe5a')\"\n",
              "              title=\"Convert this dataframe to an interactive table.\"\n",
              "              style=\"display:none;\">\n",
              "        \n",
              "  <svg xmlns=\"http://www.w3.org/2000/svg\" height=\"24px\"viewBox=\"0 0 24 24\"\n",
              "       width=\"24px\">\n",
              "    <path d=\"M0 0h24v24H0V0z\" fill=\"none\"/>\n",
              "    <path d=\"M18.56 5.44l.94 2.06.94-2.06 2.06-.94-2.06-.94-.94-2.06-.94 2.06-2.06.94zm-11 1L8.5 8.5l.94-2.06 2.06-.94-2.06-.94L8.5 2.5l-.94 2.06-2.06.94zm10 10l.94 2.06.94-2.06 2.06-.94-2.06-.94-.94-2.06-.94 2.06-2.06.94z\"/><path d=\"M17.41 7.96l-1.37-1.37c-.4-.4-.92-.59-1.43-.59-.52 0-1.04.2-1.43.59L10.3 9.45l-7.72 7.72c-.78.78-.78 2.05 0 2.83L4 21.41c.39.39.9.59 1.41.59.51 0 1.02-.2 1.41-.59l7.78-7.78 2.81-2.81c.8-.78.8-2.07 0-2.86zM5.41 20L4 18.59l7.72-7.72 1.47 1.35L5.41 20z\"/>\n",
              "  </svg>\n",
              "      </button>\n",
              "      \n",
              "  <style>\n",
              "    .colab-df-container {\n",
              "      display:flex;\n",
              "      flex-wrap:wrap;\n",
              "      gap: 12px;\n",
              "    }\n",
              "\n",
              "    .colab-df-convert {\n",
              "      background-color: #E8F0FE;\n",
              "      border: none;\n",
              "      border-radius: 50%;\n",
              "      cursor: pointer;\n",
              "      display: none;\n",
              "      fill: #1967D2;\n",
              "      height: 32px;\n",
              "      padding: 0 0 0 0;\n",
              "      width: 32px;\n",
              "    }\n",
              "\n",
              "    .colab-df-convert:hover {\n",
              "      background-color: #E2EBFA;\n",
              "      box-shadow: 0px 1px 2px rgba(60, 64, 67, 0.3), 0px 1px 3px 1px rgba(60, 64, 67, 0.15);\n",
              "      fill: #174EA6;\n",
              "    }\n",
              "\n",
              "    [theme=dark] .colab-df-convert {\n",
              "      background-color: #3B4455;\n",
              "      fill: #D2E3FC;\n",
              "    }\n",
              "\n",
              "    [theme=dark] .colab-df-convert:hover {\n",
              "      background-color: #434B5C;\n",
              "      box-shadow: 0px 1px 3px 1px rgba(0, 0, 0, 0.15);\n",
              "      filter: drop-shadow(0px 1px 2px rgba(0, 0, 0, 0.3));\n",
              "      fill: #FFFFFF;\n",
              "    }\n",
              "  </style>\n",
              "\n",
              "      <script>\n",
              "        const buttonEl =\n",
              "          document.querySelector('#df-d7949aeb-9def-4655-8ef2-87304927fe5a button.colab-df-convert');\n",
              "        buttonEl.style.display =\n",
              "          google.colab.kernel.accessAllowed ? 'block' : 'none';\n",
              "\n",
              "        async function convertToInteractive(key) {\n",
              "          const element = document.querySelector('#df-d7949aeb-9def-4655-8ef2-87304927fe5a');\n",
              "          const dataTable =\n",
              "            await google.colab.kernel.invokeFunction('convertToInteractive',\n",
              "                                                     [key], {});\n",
              "          if (!dataTable) return;\n",
              "\n",
              "          const docLinkHtml = 'Like what you see? Visit the ' +\n",
              "            '<a target=\"_blank\" href=https://colab.research.google.com/notebooks/data_table.ipynb>data table notebook</a>'\n",
              "            + ' to learn more about interactive tables.';\n",
              "          element.innerHTML = '';\n",
              "          dataTable['output_type'] = 'display_data';\n",
              "          await google.colab.output.renderOutput(dataTable, element);\n",
              "          const docLink = document.createElement('div');\n",
              "          docLink.innerHTML = docLinkHtml;\n",
              "          element.appendChild(docLink);\n",
              "        }\n",
              "      </script>\n",
              "    </div>\n",
              "  </div>\n",
              "  "
            ]
          },
          "metadata": {},
          "execution_count": 88
        }
      ]
    },
    {
      "cell_type": "code",
      "source": [
        "X=node_emb.drop(['Class'],axis=1)\n",
        "Y=node_emb['Class']"
      ],
      "metadata": {
        "id": "r8wO9PWSAomL"
      },
      "execution_count": 89,
      "outputs": []
    },
    {
      "cell_type": "code",
      "source": [
        "from sklearn.model_selection import train_test_split\n",
        "from sklearn import tree\n",
        "from sklearn.metrics import classification_report,accuracy_score\n",
        "from sklearn import preprocessing\n",
        "from sklearn.linear_model import LogisticRegression\n",
        "from sklearn.linear_model import LinearRegression\n",
        "from sklearn.svm import SVC\n",
        "from sklearn.svm import LinearSVC\n",
        "from sklearn import metrics\n",
        "\n",
        "from sklearn.ensemble import RandomForestClassifier\n",
        "from sklearn.tree import DecisionTreeClassifier\n",
        "from sklearn.naive_bayes import MultinomialNB\n",
        "from sklearn.svm import LinearSVC\n",
        "from xgboost import XGBClassifier\n",
        "from xgboost import XGBRegressor\n",
        "from sklearn.metrics import confusion_matrix, recall_score, precision_score,f1_score\n",
        "import seaborn as sns\n",
        "from sklearn.model_selection import KFold\n",
        "from sklearn.model_selection import StratifiedKFold\n",
        "from sklearn.model_selection import cross_val_score"
      ],
      "metadata": {
        "id": "mqxQzX9FA0td"
      },
      "execution_count": 90,
      "outputs": []
    },
    {
      "cell_type": "code",
      "source": [
        "from sklearn.svm import LinearSVC\n",
        "models = LinearSVC()\n",
        "folds = StratifiedKFold(n_splits=10, shuffle=True, random_state=1)\n",
        "y_pred = []\n",
        "y_exp = []\n",
        "\n",
        "for train_index, test_index in folds.split(X, Y):\n",
        "    x_train, x_test = X.iloc[train_index], X.iloc[test_index]\n",
        "    y_train, y_test = Y[train_index], Y[test_index]\n",
        "    models.fit(x_train, y_train)\n",
        "    # store result from classification\n",
        "    y_pred.extend(models.predict(x_test))\n",
        "    # store expected result for this specific fold\n",
        "    y_exp.extend(y_test)\n",
        "\n",
        "print(\"Accuracy: \",  accuracy_score(y_exp, y_pred))\n",
        "print(classification_report(y_exp, y_pred))\n",
        "print(\"Confusion matrix: \", confusion_matrix(y_exp, y_pred))"
      ],
      "metadata": {
        "colab": {
          "base_uri": "https://localhost:8080/"
        },
        "id": "hSup6r_MA0vK",
        "outputId": "e7d88317-f3c4-4e2a-bdd4-638817d80d16"
      },
      "execution_count": 91,
      "outputs": [
        {
          "output_type": "stream",
          "name": "stdout",
          "text": [
            "Accuracy:  0.57981220657277\n",
            "              precision    recall  f1-score   support\n",
            "\n",
            "           0       0.00      0.00      0.00      1253\n",
            "           1       0.58      1.00      0.73      1729\n",
            "\n",
            "    accuracy                           0.58      2982\n",
            "   macro avg       0.29      0.50      0.37      2982\n",
            "weighted avg       0.34      0.58      0.43      2982\n",
            "\n",
            "Confusion matrix:  [[   0 1253]\n",
            " [   0 1729]]\n"
          ]
        },
        {
          "output_type": "stream",
          "name": "stderr",
          "text": [
            "/usr/local/lib/python3.8/dist-packages/sklearn/metrics/_classification.py:1318: UndefinedMetricWarning: Precision and F-score are ill-defined and being set to 0.0 in labels with no predicted samples. Use `zero_division` parameter to control this behavior.\n",
            "  _warn_prf(average, modifier, msg_start, len(result))\n",
            "/usr/local/lib/python3.8/dist-packages/sklearn/metrics/_classification.py:1318: UndefinedMetricWarning: Precision and F-score are ill-defined and being set to 0.0 in labels with no predicted samples. Use `zero_division` parameter to control this behavior.\n",
            "  _warn_prf(average, modifier, msg_start, len(result))\n",
            "/usr/local/lib/python3.8/dist-packages/sklearn/metrics/_classification.py:1318: UndefinedMetricWarning: Precision and F-score are ill-defined and being set to 0.0 in labels with no predicted samples. Use `zero_division` parameter to control this behavior.\n",
            "  _warn_prf(average, modifier, msg_start, len(result))\n"
          ]
        }
      ]
    },
    {
      "cell_type": "code",
      "source": [
        "from sklearn.linear_model import LogisticRegression\n",
        "lr = LogisticRegression(max_iter=10000) \n",
        "folds = StratifiedKFold(n_splits=10, shuffle=True, random_state=1)\n",
        "y_pred = []\n",
        "y_exp = []\n",
        "\n",
        "for train_index, test_index in folds.split(X, Y):\n",
        "    x_train, x_test = X.iloc[train_index], X.iloc[test_index]\n",
        "    y_train, y_test = Y[train_index], Y[test_index]\n",
        "    lr.fit(x_train, y_train)\n",
        "    # store result from classification\n",
        "    y_pred.extend(lr.predict(x_test))\n",
        "    # store expected result for this specific fold\n",
        "    y_exp.extend(y_test)\n",
        "\n",
        "print(\"Accuracy: \",  accuracy_score(y_exp, y_pred))\n",
        "print(classification_report(y_exp, y_pred))\n",
        "print(\"Confusion matrix: \", confusion_matrix(y_exp, y_pred))"
      ],
      "metadata": {
        "colab": {
          "base_uri": "https://localhost:8080/"
        },
        "id": "3JmLnogUA0yf",
        "outputId": "97476d1f-2965-460c-f9df-4e51c1da9062"
      },
      "execution_count": 92,
      "outputs": [
        {
          "output_type": "stream",
          "name": "stdout",
          "text": [
            "Accuracy:  0.57981220657277\n",
            "              precision    recall  f1-score   support\n",
            "\n",
            "           0       0.00      0.00      0.00      1253\n",
            "           1       0.58      1.00      0.73      1729\n",
            "\n",
            "    accuracy                           0.58      2982\n",
            "   macro avg       0.29      0.50      0.37      2982\n",
            "weighted avg       0.34      0.58      0.43      2982\n",
            "\n",
            "Confusion matrix:  [[   0 1253]\n",
            " [   0 1729]]\n"
          ]
        },
        {
          "output_type": "stream",
          "name": "stderr",
          "text": [
            "/usr/local/lib/python3.8/dist-packages/sklearn/metrics/_classification.py:1318: UndefinedMetricWarning: Precision and F-score are ill-defined and being set to 0.0 in labels with no predicted samples. Use `zero_division` parameter to control this behavior.\n",
            "  _warn_prf(average, modifier, msg_start, len(result))\n",
            "/usr/local/lib/python3.8/dist-packages/sklearn/metrics/_classification.py:1318: UndefinedMetricWarning: Precision and F-score are ill-defined and being set to 0.0 in labels with no predicted samples. Use `zero_division` parameter to control this behavior.\n",
            "  _warn_prf(average, modifier, msg_start, len(result))\n",
            "/usr/local/lib/python3.8/dist-packages/sklearn/metrics/_classification.py:1318: UndefinedMetricWarning: Precision and F-score are ill-defined and being set to 0.0 in labels with no predicted samples. Use `zero_division` parameter to control this behavior.\n",
            "  _warn_prf(average, modifier, msg_start, len(result))\n"
          ]
        }
      ]
    },
    {
      "cell_type": "code",
      "source": [
        "from sklearn.ensemble import RandomForestClassifier, GradientBoostingClassifier, AdaBoostClassifier\n",
        "rf = RandomForestClassifier(n_estimators=300)\n",
        "folds = StratifiedKFold(n_splits=10, shuffle=True, random_state=1)\n",
        "y_pred = []\n",
        "y_exp = []\n",
        "\n",
        "for train_index, test_index in folds.split(X, Y):\n",
        "    x_train, x_test = X.iloc[train_index], X.iloc[test_index]\n",
        "    y_train, y_test = Y[train_index], Y[test_index]\n",
        "    rf.fit(x_train, y_train)\n",
        "    # store result from classification\n",
        "    y_pred.extend(rf.predict(x_test))\n",
        "    # store expected result for this specific fold\n",
        "    y_exp.extend(y_test)\n",
        "\n",
        "print(\"Accuracy: \",  accuracy_score(y_exp, y_pred))\n",
        "print(classification_report(y_exp, y_pred))\n",
        "print(\"Confusion matrix: \", confusion_matrix(y_exp, y_pred))"
      ],
      "metadata": {
        "colab": {
          "base_uri": "https://localhost:8080/"
        },
        "id": "ltoNHdaPA01l",
        "outputId": "993223b1-d981-489e-d36f-387b0edf44f3"
      },
      "execution_count": 93,
      "outputs": [
        {
          "output_type": "stream",
          "name": "stdout",
          "text": [
            "Accuracy:  0.9010731052984574\n",
            "              precision    recall  f1-score   support\n",
            "\n",
            "           0       0.90      0.86      0.88      1253\n",
            "           1       0.90      0.93      0.92      1729\n",
            "\n",
            "    accuracy                           0.90      2982\n",
            "   macro avg       0.90      0.90      0.90      2982\n",
            "weighted avg       0.90      0.90      0.90      2982\n",
            "\n",
            "Confusion matrix:  [[1083  170]\n",
            " [ 125 1604]]\n"
          ]
        }
      ]
    },
    {
      "cell_type": "code",
      "source": [
        "gbc = GradientBoostingClassifier(n_estimators=300)\n",
        "folds = StratifiedKFold(n_splits=10, shuffle=True, random_state=7)\n",
        "y_pred = []\n",
        "y_exp = []\n",
        "\n",
        "for train_index, test_index in folds.split(X, Y):\n",
        "    x_train, x_test = X.iloc[train_index], X.iloc[test_index]\n",
        "    y_train, y_test = Y[train_index], Y[test_index]\n",
        "    gbc.fit(x_train, y_train)\n",
        "    # store result from classification\n",
        "    y_pred.extend(gbc.predict(x_test))\n",
        "    # store expected result for this specific fold\n",
        "    y_exp.extend(y_test)\n",
        "\n",
        "print(\"Accuracy: \",  accuracy_score(y_exp, y_pred))\n",
        "print(classification_report(y_exp, y_pred))\n",
        "print(\"Confusion matrix: \", confusion_matrix(y_exp, y_pred))"
      ],
      "metadata": {
        "colab": {
          "base_uri": "https://localhost:8080/"
        },
        "id": "8MiwjMT7A06L",
        "outputId": "4fe98444-b86b-434f-df4a-92ab4ba622b9"
      },
      "execution_count": 94,
      "outputs": [
        {
          "output_type": "stream",
          "name": "stdout",
          "text": [
            "Accuracy:  0.898054996646546\n",
            "              precision    recall  f1-score   support\n",
            "\n",
            "           0       0.90      0.85      0.88      1253\n",
            "           1       0.90      0.93      0.91      1729\n",
            "\n",
            "    accuracy                           0.90      2982\n",
            "   macro avg       0.90      0.89      0.89      2982\n",
            "weighted avg       0.90      0.90      0.90      2982\n",
            "\n",
            "Confusion matrix:  [[1069  184]\n",
            " [ 120 1609]]\n"
          ]
        }
      ]
    },
    {
      "cell_type": "code",
      "source": [
        "import xgboost as xgb\n",
        "xgbc = xgb.XGBClassifier(base_score=0.5, booster='gbtree', colsample_bylevel=1,\n",
        "              colsample_bynode=1, colsample_bytree=1, \n",
        "              gamma=0,  importance_type='gain',\n",
        "              interaction_constraints='', learning_rate=0.300000012,\n",
        "              max_delta_step=0, max_depth=6, min_child_weight=1, \n",
        "             n_estimators=200, n_jobs=16,\n",
        "              num_parallel_tree=1, random_state=0,\n",
        "              reg_alpha=0, reg_lambda=1, subsample=1,\n",
        "              tree_method='exact', use_label_encoder=False\n",
        "              )\n",
        "folds = StratifiedKFold(n_splits=10, shuffle=True, random_state=1)\n",
        "y_pred = []\n",
        "y_exp = []\n",
        "\n",
        "for train_index, test_index in folds.split(X, Y):\n",
        "    x_train, x_test = X.iloc[train_index], X.iloc[test_index]\n",
        "    y_train, y_test = Y[train_index], Y[test_index]\n",
        "    xgbc.fit(x_train, y_train)\n",
        "    # store result from classification\n",
        "    y_pred.extend(xgbc.predict(x_test))\n",
        "    # store expected result for this specific fold\n",
        "    y_exp.extend(y_test)\n",
        "\n",
        "print(\"Accuracy: \",  accuracy_score(y_exp, y_pred))\n",
        "print(classification_report(y_exp, y_pred))\n",
        "print(\"Confusion matrix: \", confusion_matrix(y_exp, y_pred))"
      ],
      "metadata": {
        "colab": {
          "base_uri": "https://localhost:8080/"
        },
        "id": "uJz6qiuQA076",
        "outputId": "87849e1a-2cdd-4772-c0e3-d274f31eac8a"
      },
      "execution_count": 95,
      "outputs": [
        {
          "output_type": "stream",
          "name": "stdout",
          "text": [
            "Accuracy:  0.9057679409792085\n",
            "              precision    recall  f1-score   support\n",
            "\n",
            "           0       0.90      0.87      0.89      1253\n",
            "           1       0.91      0.93      0.92      1729\n",
            "\n",
            "    accuracy                           0.91      2982\n",
            "   macro avg       0.91      0.90      0.90      2982\n",
            "weighted avg       0.91      0.91      0.91      2982\n",
            "\n",
            "Confusion matrix:  [[1091  162]\n",
            " [ 119 1610]]\n"
          ]
        }
      ]
    },
    {
      "cell_type": "code",
      "source": [
        "import lightgbm as lgb\n",
        "lgb = lgb.LGBMClassifier(boosting_type='gbdt', class_weight=None, colsample_bytree=1.0,\n",
        "               importance_type='split', learning_rate=0.1, max_depth=-1,\n",
        "               min_child_samples=20, min_child_weight=0.001, min_split_gain=0.0,\n",
        "               n_estimators=400, n_jobs=-1, num_leaves=31, objective=None,\n",
        "               random_state=None, reg_alpha=0.0, reg_lambda=0.0, silent=True,\n",
        "               subsample=1.0, subsample_for_bin=200000, subsample_freq=0)\n",
        "folds = StratifiedKFold(n_splits=10, shuffle=True, random_state=1)\n",
        "y_pred = []\n",
        "y_exp = []\n",
        "\n",
        "for train_index, test_index in folds.split(X, Y):\n",
        "    x_train, x_test = X.iloc[train_index], X.iloc[test_index]\n",
        "    y_train, y_test = Y[train_index], Y[test_index]\n",
        "    lgb.fit(x_train, y_train)\n",
        "    # store result from classification\n",
        "    y_pred.extend(lgb.predict(x_test))\n",
        "    # store expected result for this specific fold\n",
        "    y_exp.extend(y_test)\n",
        "\n",
        "print(\"Accuracy: \",  accuracy_score(y_exp, y_pred))\n",
        "print(classification_report(y_exp, y_pred))\n",
        "print(\"Confusion matrix: \", confusion_matrix(y_exp, y_pred))"
      ],
      "metadata": {
        "colab": {
          "base_uri": "https://localhost:8080/"
        },
        "id": "q0uI-sW0A0_y",
        "outputId": "124ee360-afcf-4204-826e-c41b4a4b66dc"
      },
      "execution_count": 96,
      "outputs": [
        {
          "output_type": "stream",
          "name": "stdout",
          "text": [
            "Accuracy:  0.9071093226022804\n",
            "              precision    recall  f1-score   support\n",
            "\n",
            "           0       0.90      0.88      0.89      1253\n",
            "           1       0.91      0.93      0.92      1729\n",
            "\n",
            "    accuracy                           0.91      2982\n",
            "   macro avg       0.91      0.90      0.90      2982\n",
            "weighted avg       0.91      0.91      0.91      2982\n",
            "\n",
            "Confusion matrix:  [[1103  150]\n",
            " [ 127 1602]]\n"
          ]
        }
      ]
    },
    {
      "cell_type": "code",
      "source": [
        "from sklearn.model_selection import train_test_split\n",
        "x_train, x_test, y_train, y_test = train_test_split(X, Y, test_size=0.2, random_state=7, stratify=Y)"
      ],
      "metadata": {
        "id": "ECWU6-oZA1Cw"
      },
      "execution_count": 97,
      "outputs": []
    },
    {
      "cell_type": "code",
      "source": [
        "from sklearn.linear_model import PassiveAggressiveClassifier\n",
        "pa=PassiveAggressiveClassifier(max_iter=1000, random_state=7, tol=1e-3)\n",
        "pa.fit(x_train, y_train)\n",
        "y_pred=pa.predict(x_test)\n",
        "from sklearn.metrics import confusion_matrix, classification_report, accuracy_score\n",
        "print(confusion_matrix(y_test, y_pred))\n",
        "print(classification_report(y_test, y_pred))\n",
        "print('accuracy_score: ', accuracy_score(y_test, y_pred))"
      ],
      "metadata": {
        "colab": {
          "base_uri": "https://localhost:8080/"
        },
        "id": "DKyRBKolAonx",
        "outputId": "29aaf4c1-366c-4c37-b9dd-e0d6d3804573"
      },
      "execution_count": 98,
      "outputs": [
        {
          "output_type": "stream",
          "name": "stdout",
          "text": [
            "[[251   0]\n",
            " [346   0]]\n",
            "              precision    recall  f1-score   support\n",
            "\n",
            "           0       0.42      1.00      0.59       251\n",
            "           1       0.00      0.00      0.00       346\n",
            "\n",
            "    accuracy                           0.42       597\n",
            "   macro avg       0.21      0.50      0.30       597\n",
            "weighted avg       0.18      0.42      0.25       597\n",
            "\n",
            "accuracy_score:  0.4204355108877722\n"
          ]
        },
        {
          "output_type": "stream",
          "name": "stderr",
          "text": [
            "/usr/local/lib/python3.8/dist-packages/sklearn/metrics/_classification.py:1318: UndefinedMetricWarning: Precision and F-score are ill-defined and being set to 0.0 in labels with no predicted samples. Use `zero_division` parameter to control this behavior.\n",
            "  _warn_prf(average, modifier, msg_start, len(result))\n",
            "/usr/local/lib/python3.8/dist-packages/sklearn/metrics/_classification.py:1318: UndefinedMetricWarning: Precision and F-score are ill-defined and being set to 0.0 in labels with no predicted samples. Use `zero_division` parameter to control this behavior.\n",
            "  _warn_prf(average, modifier, msg_start, len(result))\n",
            "/usr/local/lib/python3.8/dist-packages/sklearn/metrics/_classification.py:1318: UndefinedMetricWarning: Precision and F-score are ill-defined and being set to 0.0 in labels with no predicted samples. Use `zero_division` parameter to control this behavior.\n",
            "  _warn_prf(average, modifier, msg_start, len(result))\n"
          ]
        }
      ]
    },
    {
      "cell_type": "code",
      "source": [
        "from sklearn.svm import LinearSVC\n",
        "lsvm = LinearSVC()\n",
        "lsvm.fit(x_train, y_train)\n",
        "y_pred=lsvm.predict(x_test)\n",
        "from sklearn.metrics import confusion_matrix, classification_report, accuracy_score\n",
        "print(confusion_matrix(y_test, y_pred))\n",
        "print(classification_report(y_test, y_pred))\n",
        "print('accuracy_score: ', accuracy_score(y_test, y_pred))"
      ],
      "metadata": {
        "colab": {
          "base_uri": "https://localhost:8080/"
        },
        "id": "8MQ9Ri_dAorv",
        "outputId": "3129c07b-de56-4cd3-a301-6f9355e49cad"
      },
      "execution_count": 99,
      "outputs": [
        {
          "output_type": "stream",
          "name": "stdout",
          "text": [
            "[[  0 251]\n",
            " [  0 346]]\n",
            "              precision    recall  f1-score   support\n",
            "\n",
            "           0       0.00      0.00      0.00       251\n",
            "           1       0.58      1.00      0.73       346\n",
            "\n",
            "    accuracy                           0.58       597\n",
            "   macro avg       0.29      0.50      0.37       597\n",
            "weighted avg       0.34      0.58      0.43       597\n",
            "\n",
            "accuracy_score:  0.5795644891122278\n"
          ]
        },
        {
          "output_type": "stream",
          "name": "stderr",
          "text": [
            "/usr/local/lib/python3.8/dist-packages/sklearn/metrics/_classification.py:1318: UndefinedMetricWarning: Precision and F-score are ill-defined and being set to 0.0 in labels with no predicted samples. Use `zero_division` parameter to control this behavior.\n",
            "  _warn_prf(average, modifier, msg_start, len(result))\n",
            "/usr/local/lib/python3.8/dist-packages/sklearn/metrics/_classification.py:1318: UndefinedMetricWarning: Precision and F-score are ill-defined and being set to 0.0 in labels with no predicted samples. Use `zero_division` parameter to control this behavior.\n",
            "  _warn_prf(average, modifier, msg_start, len(result))\n",
            "/usr/local/lib/python3.8/dist-packages/sklearn/metrics/_classification.py:1318: UndefinedMetricWarning: Precision and F-score are ill-defined and being set to 0.0 in labels with no predicted samples. Use `zero_division` parameter to control this behavior.\n",
            "  _warn_prf(average, modifier, msg_start, len(result))\n"
          ]
        }
      ]
    },
    {
      "cell_type": "code",
      "source": [
        "rf = RandomForestClassifier(n_estimators=300)\n",
        "rf.fit(x_train, y_train)\n",
        "y_pred=rf.predict(x_test)\n",
        "from sklearn.metrics import confusion_matrix, classification_report, accuracy_score\n",
        "print(confusion_matrix(y_test, y_pred))\n",
        "print(classification_report(y_test, y_pred))\n",
        "print('accuracy_score: ', accuracy_score(y_test, y_pred))"
      ],
      "metadata": {
        "colab": {
          "base_uri": "https://localhost:8080/"
        },
        "id": "V4IuM01gBVcB",
        "outputId": "10e60fed-ff06-4e87-cc68-99fe9ef847bf"
      },
      "execution_count": 100,
      "outputs": [
        {
          "output_type": "stream",
          "name": "stdout",
          "text": [
            "[[217  34]\n",
            " [ 21 325]]\n",
            "              precision    recall  f1-score   support\n",
            "\n",
            "           0       0.91      0.86      0.89       251\n",
            "           1       0.91      0.94      0.92       346\n",
            "\n",
            "    accuracy                           0.91       597\n",
            "   macro avg       0.91      0.90      0.90       597\n",
            "weighted avg       0.91      0.91      0.91       597\n",
            "\n",
            "accuracy_score:  0.9078726968174204\n"
          ]
        }
      ]
    },
    {
      "cell_type": "code",
      "source": [
        "xgbc = xgb.XGBClassifier(base_score=0.5, booster='gbtree', colsample_bylevel=1,\n",
        "              colsample_bynode=1, colsample_bytree=1, \n",
        "              gamma=0,  importance_type='gain',\n",
        "              interaction_constraints='', learning_rate=0.300000012,\n",
        "              max_delta_step=0, max_depth=6, min_child_weight=1, \n",
        "             n_estimators=200, n_jobs=16,\n",
        "              num_parallel_tree=1, random_state=0,\n",
        "              reg_alpha=0, reg_lambda=1, subsample=1,\n",
        "              tree_method='exact', use_label_encoder=False\n",
        "              )\n",
        "xgbc.fit(x_train, y_train)\n",
        "y_pred=xgbc.predict(x_test)\n",
        "from sklearn.metrics import confusion_matrix, classification_report, accuracy_score\n",
        "print(confusion_matrix(y_test, y_pred))\n",
        "print(classification_report(y_test, y_pred))\n",
        "print('accuracy_score: ', accuracy_score(y_test, y_pred))"
      ],
      "metadata": {
        "colab": {
          "base_uri": "https://localhost:8080/"
        },
        "id": "IrqnvjgjBVde",
        "outputId": "40e46591-2f39-44e9-c6db-2f07ae0aa6fe"
      },
      "execution_count": 101,
      "outputs": [
        {
          "output_type": "stream",
          "name": "stdout",
          "text": [
            "[[217  34]\n",
            " [ 21 325]]\n",
            "              precision    recall  f1-score   support\n",
            "\n",
            "           0       0.91      0.86      0.89       251\n",
            "           1       0.91      0.94      0.92       346\n",
            "\n",
            "    accuracy                           0.91       597\n",
            "   macro avg       0.91      0.90      0.90       597\n",
            "weighted avg       0.91      0.91      0.91       597\n",
            "\n",
            "accuracy_score:  0.9078726968174204\n"
          ]
        }
      ]
    },
    {
      "cell_type": "code",
      "source": [
        "log = LogisticRegression(max_iter=10000) \n",
        "log.fit(x_train, y_train)\n",
        "y_pred=log.predict(x_test)\n",
        "from sklearn.metrics import confusion_matrix, classification_report, accuracy_score\n",
        "print(confusion_matrix(y_test, y_pred))\n",
        "print(classification_report(y_test, y_pred))\n",
        "print('accuracy_score: ', accuracy_score(y_test, y_pred))"
      ],
      "metadata": {
        "colab": {
          "base_uri": "https://localhost:8080/"
        },
        "id": "vkRhrzy-BVhh",
        "outputId": "e10aab3b-e364-4bff-bad8-493f0319f1f1"
      },
      "execution_count": 102,
      "outputs": [
        {
          "output_type": "stream",
          "name": "stdout",
          "text": [
            "[[  0 251]\n",
            " [  0 346]]\n",
            "              precision    recall  f1-score   support\n",
            "\n",
            "           0       0.00      0.00      0.00       251\n",
            "           1       0.58      1.00      0.73       346\n",
            "\n",
            "    accuracy                           0.58       597\n",
            "   macro avg       0.29      0.50      0.37       597\n",
            "weighted avg       0.34      0.58      0.43       597\n",
            "\n",
            "accuracy_score:  0.5795644891122278\n"
          ]
        },
        {
          "output_type": "stream",
          "name": "stderr",
          "text": [
            "/usr/local/lib/python3.8/dist-packages/sklearn/metrics/_classification.py:1318: UndefinedMetricWarning: Precision and F-score are ill-defined and being set to 0.0 in labels with no predicted samples. Use `zero_division` parameter to control this behavior.\n",
            "  _warn_prf(average, modifier, msg_start, len(result))\n",
            "/usr/local/lib/python3.8/dist-packages/sklearn/metrics/_classification.py:1318: UndefinedMetricWarning: Precision and F-score are ill-defined and being set to 0.0 in labels with no predicted samples. Use `zero_division` parameter to control this behavior.\n",
            "  _warn_prf(average, modifier, msg_start, len(result))\n",
            "/usr/local/lib/python3.8/dist-packages/sklearn/metrics/_classification.py:1318: UndefinedMetricWarning: Precision and F-score are ill-defined and being set to 0.0 in labels with no predicted samples. Use `zero_division` parameter to control this behavior.\n",
            "  _warn_prf(average, modifier, msg_start, len(result))\n"
          ]
        }
      ]
    }
  ]
}