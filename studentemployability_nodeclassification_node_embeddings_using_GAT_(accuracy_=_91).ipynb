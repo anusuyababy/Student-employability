{
  "nbformat": 4,
  "nbformat_minor": 0,
  "metadata": {
    "colab": {
      "provenance": []
    },
    "kernelspec": {
      "name": "python3",
      "display_name": "Python 3"
    },
    "language_info": {
      "name": "python"
    }
  },
  "cells": [
    {
      "cell_type": "code",
      "execution_count": 1,
      "metadata": {
        "colab": {
          "base_uri": "https://localhost:8080/"
        },
        "id": "Cncu-nl9lfoV",
        "outputId": "a997e464-e808-4e5c-f07b-4a8874513c6b"
      },
      "outputs": [
        {
          "output_type": "stream",
          "name": "stdout",
          "text": [
            "Looking in indexes: https://pypi.org/simple, https://us-python.pkg.dev/colab-wheels/public/simple/\n",
            "Collecting stellargraph\n",
            "  Downloading stellargraph-1.2.1-py3-none-any.whl (435 kB)\n",
            "\u001b[2K     \u001b[90m━━━━━━━━━━━━━━━━━━━━━━━━━━━━━━━━━━━━━━━\u001b[0m \u001b[32m435.2/435.2 KB\u001b[0m \u001b[31m5.2 MB/s\u001b[0m eta \u001b[36m0:00:00\u001b[0m\n",
            "\u001b[?25hRequirement already satisfied: scipy>=1.1.0 in /usr/local/lib/python3.8/dist-packages (from stellargraph) (1.7.3)\n",
            "Requirement already satisfied: numpy>=1.14 in /usr/local/lib/python3.8/dist-packages (from stellargraph) (1.21.6)\n",
            "Requirement already satisfied: tensorflow>=2.1.0 in /usr/local/lib/python3.8/dist-packages (from stellargraph) (2.9.2)\n",
            "Requirement already satisfied: scikit-learn>=0.20 in /usr/local/lib/python3.8/dist-packages (from stellargraph) (1.0.2)\n",
            "Requirement already satisfied: gensim>=3.4.0 in /usr/local/lib/python3.8/dist-packages (from stellargraph) (3.6.0)\n",
            "Requirement already satisfied: matplotlib>=2.2 in /usr/local/lib/python3.8/dist-packages (from stellargraph) (3.2.2)\n",
            "Requirement already satisfied: pandas>=0.24 in /usr/local/lib/python3.8/dist-packages (from stellargraph) (1.3.5)\n",
            "Requirement already satisfied: networkx>=2.2 in /usr/local/lib/python3.8/dist-packages (from stellargraph) (3.0)\n",
            "Requirement already satisfied: smart-open>=1.2.1 in /usr/local/lib/python3.8/dist-packages (from gensim>=3.4.0->stellargraph) (6.3.0)\n",
            "Requirement already satisfied: six>=1.5.0 in /usr/local/lib/python3.8/dist-packages (from gensim>=3.4.0->stellargraph) (1.15.0)\n",
            "Requirement already satisfied: pyparsing!=2.0.4,!=2.1.2,!=2.1.6,>=2.0.1 in /usr/local/lib/python3.8/dist-packages (from matplotlib>=2.2->stellargraph) (3.0.9)\n",
            "Requirement already satisfied: python-dateutil>=2.1 in /usr/local/lib/python3.8/dist-packages (from matplotlib>=2.2->stellargraph) (2.8.2)\n",
            "Requirement already satisfied: kiwisolver>=1.0.1 in /usr/local/lib/python3.8/dist-packages (from matplotlib>=2.2->stellargraph) (1.4.4)\n",
            "Requirement already satisfied: cycler>=0.10 in /usr/local/lib/python3.8/dist-packages (from matplotlib>=2.2->stellargraph) (0.11.0)\n",
            "Requirement already satisfied: pytz>=2017.3 in /usr/local/lib/python3.8/dist-packages (from pandas>=0.24->stellargraph) (2022.7)\n",
            "Requirement already satisfied: joblib>=0.11 in /usr/local/lib/python3.8/dist-packages (from scikit-learn>=0.20->stellargraph) (1.2.0)\n",
            "Requirement already satisfied: threadpoolctl>=2.0.0 in /usr/local/lib/python3.8/dist-packages (from scikit-learn>=0.20->stellargraph) (3.1.0)\n",
            "Requirement already satisfied: tensorflow-estimator<2.10.0,>=2.9.0rc0 in /usr/local/lib/python3.8/dist-packages (from tensorflow>=2.1.0->stellargraph) (2.9.0)\n",
            "Requirement already satisfied: gast<=0.4.0,>=0.2.1 in /usr/local/lib/python3.8/dist-packages (from tensorflow>=2.1.0->stellargraph) (0.4.0)\n",
            "Requirement already satisfied: typing-extensions>=3.6.6 in /usr/local/lib/python3.8/dist-packages (from tensorflow>=2.1.0->stellargraph) (4.4.0)\n",
            "Requirement already satisfied: google-pasta>=0.1.1 in /usr/local/lib/python3.8/dist-packages (from tensorflow>=2.1.0->stellargraph) (0.2.0)\n",
            "Requirement already satisfied: absl-py>=1.0.0 in /usr/local/lib/python3.8/dist-packages (from tensorflow>=2.1.0->stellargraph) (1.3.0)\n",
            "Requirement already satisfied: flatbuffers<2,>=1.12 in /usr/local/lib/python3.8/dist-packages (from tensorflow>=2.1.0->stellargraph) (1.12)\n",
            "Requirement already satisfied: tensorboard<2.10,>=2.9 in /usr/local/lib/python3.8/dist-packages (from tensorflow>=2.1.0->stellargraph) (2.9.1)\n",
            "Requirement already satisfied: wrapt>=1.11.0 in /usr/local/lib/python3.8/dist-packages (from tensorflow>=2.1.0->stellargraph) (1.14.1)\n",
            "Requirement already satisfied: keras-preprocessing>=1.1.1 in /usr/local/lib/python3.8/dist-packages (from tensorflow>=2.1.0->stellargraph) (1.1.2)\n",
            "Requirement already satisfied: tensorflow-io-gcs-filesystem>=0.23.1 in /usr/local/lib/python3.8/dist-packages (from tensorflow>=2.1.0->stellargraph) (0.29.0)\n",
            "Requirement already satisfied: opt-einsum>=2.3.2 in /usr/local/lib/python3.8/dist-packages (from tensorflow>=2.1.0->stellargraph) (3.3.0)\n",
            "Requirement already satisfied: h5py>=2.9.0 in /usr/local/lib/python3.8/dist-packages (from tensorflow>=2.1.0->stellargraph) (3.1.0)\n",
            "Requirement already satisfied: grpcio<2.0,>=1.24.3 in /usr/local/lib/python3.8/dist-packages (from tensorflow>=2.1.0->stellargraph) (1.51.1)\n",
            "Requirement already satisfied: libclang>=13.0.0 in /usr/local/lib/python3.8/dist-packages (from tensorflow>=2.1.0->stellargraph) (14.0.6)\n",
            "Requirement already satisfied: protobuf<3.20,>=3.9.2 in /usr/local/lib/python3.8/dist-packages (from tensorflow>=2.1.0->stellargraph) (3.19.6)\n",
            "Requirement already satisfied: termcolor>=1.1.0 in /usr/local/lib/python3.8/dist-packages (from tensorflow>=2.1.0->stellargraph) (2.2.0)\n",
            "Requirement already satisfied: keras<2.10.0,>=2.9.0rc0 in /usr/local/lib/python3.8/dist-packages (from tensorflow>=2.1.0->stellargraph) (2.9.0)\n",
            "Requirement already satisfied: astunparse>=1.6.0 in /usr/local/lib/python3.8/dist-packages (from tensorflow>=2.1.0->stellargraph) (1.6.3)\n",
            "Requirement already satisfied: setuptools in /usr/local/lib/python3.8/dist-packages (from tensorflow>=2.1.0->stellargraph) (57.4.0)\n",
            "Requirement already satisfied: packaging in /usr/local/lib/python3.8/dist-packages (from tensorflow>=2.1.0->stellargraph) (21.3)\n",
            "Requirement already satisfied: wheel<1.0,>=0.23.0 in /usr/local/lib/python3.8/dist-packages (from astunparse>=1.6.0->tensorflow>=2.1.0->stellargraph) (0.38.4)\n",
            "Requirement already satisfied: tensorboard-plugin-wit>=1.6.0 in /usr/local/lib/python3.8/dist-packages (from tensorboard<2.10,>=2.9->tensorflow>=2.1.0->stellargraph) (1.8.1)\n",
            "Requirement already satisfied: requests<3,>=2.21.0 in /usr/local/lib/python3.8/dist-packages (from tensorboard<2.10,>=2.9->tensorflow>=2.1.0->stellargraph) (2.25.1)\n",
            "Requirement already satisfied: markdown>=2.6.8 in /usr/local/lib/python3.8/dist-packages (from tensorboard<2.10,>=2.9->tensorflow>=2.1.0->stellargraph) (3.4.1)\n",
            "Requirement already satisfied: google-auth-oauthlib<0.5,>=0.4.1 in /usr/local/lib/python3.8/dist-packages (from tensorboard<2.10,>=2.9->tensorflow>=2.1.0->stellargraph) (0.4.6)\n",
            "Requirement already satisfied: werkzeug>=1.0.1 in /usr/local/lib/python3.8/dist-packages (from tensorboard<2.10,>=2.9->tensorflow>=2.1.0->stellargraph) (1.0.1)\n",
            "Requirement already satisfied: google-auth<3,>=1.6.3 in /usr/local/lib/python3.8/dist-packages (from tensorboard<2.10,>=2.9->tensorflow>=2.1.0->stellargraph) (2.15.0)\n",
            "Requirement already satisfied: tensorboard-data-server<0.7.0,>=0.6.0 in /usr/local/lib/python3.8/dist-packages (from tensorboard<2.10,>=2.9->tensorflow>=2.1.0->stellargraph) (0.6.1)\n",
            "Requirement already satisfied: rsa<5,>=3.1.4 in /usr/local/lib/python3.8/dist-packages (from google-auth<3,>=1.6.3->tensorboard<2.10,>=2.9->tensorflow>=2.1.0->stellargraph) (4.9)\n",
            "Requirement already satisfied: pyasn1-modules>=0.2.1 in /usr/local/lib/python3.8/dist-packages (from google-auth<3,>=1.6.3->tensorboard<2.10,>=2.9->tensorflow>=2.1.0->stellargraph) (0.2.8)\n",
            "Requirement already satisfied: cachetools<6.0,>=2.0.0 in /usr/local/lib/python3.8/dist-packages (from google-auth<3,>=1.6.3->tensorboard<2.10,>=2.9->tensorflow>=2.1.0->stellargraph) (5.2.1)\n",
            "Requirement already satisfied: requests-oauthlib>=0.7.0 in /usr/local/lib/python3.8/dist-packages (from google-auth-oauthlib<0.5,>=0.4.1->tensorboard<2.10,>=2.9->tensorflow>=2.1.0->stellargraph) (1.3.1)\n",
            "Requirement already satisfied: importlib-metadata>=4.4 in /usr/local/lib/python3.8/dist-packages (from markdown>=2.6.8->tensorboard<2.10,>=2.9->tensorflow>=2.1.0->stellargraph) (6.0.0)\n",
            "Requirement already satisfied: urllib3<1.27,>=1.21.1 in /usr/local/lib/python3.8/dist-packages (from requests<3,>=2.21.0->tensorboard<2.10,>=2.9->tensorflow>=2.1.0->stellargraph) (1.24.3)\n",
            "Requirement already satisfied: idna<3,>=2.5 in /usr/local/lib/python3.8/dist-packages (from requests<3,>=2.21.0->tensorboard<2.10,>=2.9->tensorflow>=2.1.0->stellargraph) (2.10)\n",
            "Requirement already satisfied: certifi>=2017.4.17 in /usr/local/lib/python3.8/dist-packages (from requests<3,>=2.21.0->tensorboard<2.10,>=2.9->tensorflow>=2.1.0->stellargraph) (2022.12.7)\n",
            "Requirement already satisfied: chardet<5,>=3.0.2 in /usr/local/lib/python3.8/dist-packages (from requests<3,>=2.21.0->tensorboard<2.10,>=2.9->tensorflow>=2.1.0->stellargraph) (4.0.0)\n",
            "Requirement already satisfied: zipp>=0.5 in /usr/local/lib/python3.8/dist-packages (from importlib-metadata>=4.4->markdown>=2.6.8->tensorboard<2.10,>=2.9->tensorflow>=2.1.0->stellargraph) (3.11.0)\n",
            "Requirement already satisfied: pyasn1<0.5.0,>=0.4.6 in /usr/local/lib/python3.8/dist-packages (from pyasn1-modules>=0.2.1->google-auth<3,>=1.6.3->tensorboard<2.10,>=2.9->tensorflow>=2.1.0->stellargraph) (0.4.8)\n",
            "Requirement already satisfied: oauthlib>=3.0.0 in /usr/local/lib/python3.8/dist-packages (from requests-oauthlib>=0.7.0->google-auth-oauthlib<0.5,>=0.4.1->tensorboard<2.10,>=2.9->tensorflow>=2.1.0->stellargraph) (3.2.2)\n",
            "Installing collected packages: stellargraph\n",
            "Successfully installed stellargraph-1.2.1\n"
          ]
        }
      ],
      "source": [
        "!pip install stellargraph"
      ]
    },
    {
      "cell_type": "code",
      "source": [
        "!pip install networkx==2.3"
      ],
      "metadata": {
        "colab": {
          "base_uri": "https://localhost:8080/"
        },
        "id": "Bqn61TwpYVlY",
        "outputId": "7f97c941-d471-4332-c119-f52fb13a0167"
      },
      "execution_count": 2,
      "outputs": [
        {
          "output_type": "stream",
          "name": "stdout",
          "text": [
            "Looking in indexes: https://pypi.org/simple, https://us-python.pkg.dev/colab-wheels/public/simple/\n",
            "Collecting networkx==2.3\n",
            "  Downloading networkx-2.3.zip (1.7 MB)\n",
            "\u001b[2K     \u001b[90m━━━━━━━━━━━━━━━━━━━━━━━━━━━━━━━━━━━━━━━━\u001b[0m \u001b[32m1.7/1.7 MB\u001b[0m \u001b[31m17.4 MB/s\u001b[0m eta \u001b[36m0:00:00\u001b[0m\n",
            "\u001b[?25h  Preparing metadata (setup.py) ... \u001b[?25l\u001b[?25hdone\n",
            "Requirement already satisfied: decorator>=4.3.0 in /usr/local/lib/python3.8/dist-packages (from networkx==2.3) (4.4.2)\n",
            "Building wheels for collected packages: networkx\n",
            "  Building wheel for networkx (setup.py) ... \u001b[?25l\u001b[?25hdone\n",
            "  Created wheel for networkx: filename=networkx-2.3-py2.py3-none-any.whl size=1556009 sha256=d67cef5cb1d41d4aee2f2dcf12c92489f1fff247a277f8b0dc70a6049b14d3ce\n",
            "  Stored in directory: /root/.cache/pip/wheels/ff/62/9e/0ed2d25fd4f5761e2d19568cda0c32716556dfa682e65ecf64\n",
            "Successfully built networkx\n",
            "Installing collected packages: networkx\n",
            "  Attempting uninstall: networkx\n",
            "    Found existing installation: networkx 3.0\n",
            "    Uninstalling networkx-3.0:\n",
            "      Successfully uninstalled networkx-3.0\n",
            "Successfully installed networkx-2.3\n"
          ]
        }
      ]
    },
    {
      "cell_type": "code",
      "source": [
        "# importing all necessary libraries\n",
        "import networkx as nx\n",
        "import pandas as pd\n",
        "import numpy as np\n",
        "import matplotlib.pyplot as plt\n",
        "import seaborn as sns\n",
        "import string\n",
        "import os\n",
        "import networkx as nx\n",
        "import stellargraph as sg\n",
        "from stellargraph import StellarGraph\n",
        "from sklearn import preprocessing, model_selection\n",
        "from IPython.display import display, HTML\n",
        "import matplotlib.pyplot as plt\n",
        "from sklearn.decomposition import PCA\n",
        "#from node2vec import Node2Vec as n2v\n",
        "sns.set()\n",
        "\n",
        "%matplotlib inline"
      ],
      "metadata": {
        "id": "gR5IuYl2ljDG"
      },
      "execution_count": 3,
      "outputs": []
    },
    {
      "cell_type": "code",
      "source": [
        "from stellargraph.mapper import FullBatchNodeGenerator\n",
        "from stellargraph.layer import GAT\n",
        "\n",
        "from tensorflow.keras import layers, optimizers, losses, metrics, Model\n",
        "from sklearn import preprocessing, feature_extraction, model_selection\n",
        "from stellargraph import datasets\n",
        "from IPython.display import display, HTML\n",
        "import matplotlib.pyplot as plt\n",
        "%matplotlib inline"
      ],
      "metadata": {
        "id": "SLxAMGPOqof6"
      },
      "execution_count": 4,
      "outputs": []
    },
    {
      "cell_type": "code",
      "source": [
        "df = pd.read_csv('Student-Employability-Dataset.csv')\n",
        "df.head()\n",
        "# Dataset is now stored in a Pandas Dataframe"
      ],
      "metadata": {
        "id": "nOzycvYGljGI",
        "colab": {
          "base_uri": "https://localhost:8080/",
          "height": 285
        },
        "outputId": "8881efe7-4763-4758-a8ed-9b34df8c07dd"
      },
      "execution_count": 5,
      "outputs": [
        {
          "output_type": "execute_result",
          "data": {
            "text/plain": [
              "   GENERAL APPEARANCE  MANNER OF SPEAKING  PHYSICAL CONDITION  \\\n",
              "0                   4                   5                   4   \n",
              "1                   4                   4                   4   \n",
              "2                   4                   3                   3   \n",
              "3                   3                   3                   3   \n",
              "4                   4                   4                   3   \n",
              "\n",
              "   MENTAL ALERTNESS  SELF-CONFIDENCE  ABILITY TO PRESENT IDEAS  \\\n",
              "0                 5                5                         5   \n",
              "1                 4                4                         4   \n",
              "2                 3                3                         3   \n",
              "3                 2                3                         3   \n",
              "4                 3                4                         4   \n",
              "\n",
              "   COMMUNICATION SKILLS  Student Performance Rating           CLASS  \n",
              "0                     5                           5      Employable  \n",
              "1                     3                           5      Employable  \n",
              "2                     2                           5  LessEmployable  \n",
              "3                     3                           5  LessEmployable  \n",
              "4                     3                           5      Employable  "
            ],
            "text/html": [
              "\n",
              "  <div id=\"df-1edbb1db-43ba-4eb4-b6bd-03931686cada\">\n",
              "    <div class=\"colab-df-container\">\n",
              "      <div>\n",
              "<style scoped>\n",
              "    .dataframe tbody tr th:only-of-type {\n",
              "        vertical-align: middle;\n",
              "    }\n",
              "\n",
              "    .dataframe tbody tr th {\n",
              "        vertical-align: top;\n",
              "    }\n",
              "\n",
              "    .dataframe thead th {\n",
              "        text-align: right;\n",
              "    }\n",
              "</style>\n",
              "<table border=\"1\" class=\"dataframe\">\n",
              "  <thead>\n",
              "    <tr style=\"text-align: right;\">\n",
              "      <th></th>\n",
              "      <th>GENERAL APPEARANCE</th>\n",
              "      <th>MANNER OF SPEAKING</th>\n",
              "      <th>PHYSICAL CONDITION</th>\n",
              "      <th>MENTAL ALERTNESS</th>\n",
              "      <th>SELF-CONFIDENCE</th>\n",
              "      <th>ABILITY TO PRESENT IDEAS</th>\n",
              "      <th>COMMUNICATION SKILLS</th>\n",
              "      <th>Student Performance Rating</th>\n",
              "      <th>CLASS</th>\n",
              "    </tr>\n",
              "  </thead>\n",
              "  <tbody>\n",
              "    <tr>\n",
              "      <th>0</th>\n",
              "      <td>4</td>\n",
              "      <td>5</td>\n",
              "      <td>4</td>\n",
              "      <td>5</td>\n",
              "      <td>5</td>\n",
              "      <td>5</td>\n",
              "      <td>5</td>\n",
              "      <td>5</td>\n",
              "      <td>Employable</td>\n",
              "    </tr>\n",
              "    <tr>\n",
              "      <th>1</th>\n",
              "      <td>4</td>\n",
              "      <td>4</td>\n",
              "      <td>4</td>\n",
              "      <td>4</td>\n",
              "      <td>4</td>\n",
              "      <td>4</td>\n",
              "      <td>3</td>\n",
              "      <td>5</td>\n",
              "      <td>Employable</td>\n",
              "    </tr>\n",
              "    <tr>\n",
              "      <th>2</th>\n",
              "      <td>4</td>\n",
              "      <td>3</td>\n",
              "      <td>3</td>\n",
              "      <td>3</td>\n",
              "      <td>3</td>\n",
              "      <td>3</td>\n",
              "      <td>2</td>\n",
              "      <td>5</td>\n",
              "      <td>LessEmployable</td>\n",
              "    </tr>\n",
              "    <tr>\n",
              "      <th>3</th>\n",
              "      <td>3</td>\n",
              "      <td>3</td>\n",
              "      <td>3</td>\n",
              "      <td>2</td>\n",
              "      <td>3</td>\n",
              "      <td>3</td>\n",
              "      <td>3</td>\n",
              "      <td>5</td>\n",
              "      <td>LessEmployable</td>\n",
              "    </tr>\n",
              "    <tr>\n",
              "      <th>4</th>\n",
              "      <td>4</td>\n",
              "      <td>4</td>\n",
              "      <td>3</td>\n",
              "      <td>3</td>\n",
              "      <td>4</td>\n",
              "      <td>4</td>\n",
              "      <td>3</td>\n",
              "      <td>5</td>\n",
              "      <td>Employable</td>\n",
              "    </tr>\n",
              "  </tbody>\n",
              "</table>\n",
              "</div>\n",
              "      <button class=\"colab-df-convert\" onclick=\"convertToInteractive('df-1edbb1db-43ba-4eb4-b6bd-03931686cada')\"\n",
              "              title=\"Convert this dataframe to an interactive table.\"\n",
              "              style=\"display:none;\">\n",
              "        \n",
              "  <svg xmlns=\"http://www.w3.org/2000/svg\" height=\"24px\"viewBox=\"0 0 24 24\"\n",
              "       width=\"24px\">\n",
              "    <path d=\"M0 0h24v24H0V0z\" fill=\"none\"/>\n",
              "    <path d=\"M18.56 5.44l.94 2.06.94-2.06 2.06-.94-2.06-.94-.94-2.06-.94 2.06-2.06.94zm-11 1L8.5 8.5l.94-2.06 2.06-.94-2.06-.94L8.5 2.5l-.94 2.06-2.06.94zm10 10l.94 2.06.94-2.06 2.06-.94-2.06-.94-.94-2.06-.94 2.06-2.06.94z\"/><path d=\"M17.41 7.96l-1.37-1.37c-.4-.4-.92-.59-1.43-.59-.52 0-1.04.2-1.43.59L10.3 9.45l-7.72 7.72c-.78.78-.78 2.05 0 2.83L4 21.41c.39.39.9.59 1.41.59.51 0 1.02-.2 1.41-.59l7.78-7.78 2.81-2.81c.8-.78.8-2.07 0-2.86zM5.41 20L4 18.59l7.72-7.72 1.47 1.35L5.41 20z\"/>\n",
              "  </svg>\n",
              "      </button>\n",
              "      \n",
              "  <style>\n",
              "    .colab-df-container {\n",
              "      display:flex;\n",
              "      flex-wrap:wrap;\n",
              "      gap: 12px;\n",
              "    }\n",
              "\n",
              "    .colab-df-convert {\n",
              "      background-color: #E8F0FE;\n",
              "      border: none;\n",
              "      border-radius: 50%;\n",
              "      cursor: pointer;\n",
              "      display: none;\n",
              "      fill: #1967D2;\n",
              "      height: 32px;\n",
              "      padding: 0 0 0 0;\n",
              "      width: 32px;\n",
              "    }\n",
              "\n",
              "    .colab-df-convert:hover {\n",
              "      background-color: #E2EBFA;\n",
              "      box-shadow: 0px 1px 2px rgba(60, 64, 67, 0.3), 0px 1px 3px 1px rgba(60, 64, 67, 0.15);\n",
              "      fill: #174EA6;\n",
              "    }\n",
              "\n",
              "    [theme=dark] .colab-df-convert {\n",
              "      background-color: #3B4455;\n",
              "      fill: #D2E3FC;\n",
              "    }\n",
              "\n",
              "    [theme=dark] .colab-df-convert:hover {\n",
              "      background-color: #434B5C;\n",
              "      box-shadow: 0px 1px 3px 1px rgba(0, 0, 0, 0.15);\n",
              "      filter: drop-shadow(0px 1px 2px rgba(0, 0, 0, 0.3));\n",
              "      fill: #FFFFFF;\n",
              "    }\n",
              "  </style>\n",
              "\n",
              "      <script>\n",
              "        const buttonEl =\n",
              "          document.querySelector('#df-1edbb1db-43ba-4eb4-b6bd-03931686cada button.colab-df-convert');\n",
              "        buttonEl.style.display =\n",
              "          google.colab.kernel.accessAllowed ? 'block' : 'none';\n",
              "\n",
              "        async function convertToInteractive(key) {\n",
              "          const element = document.querySelector('#df-1edbb1db-43ba-4eb4-b6bd-03931686cada');\n",
              "          const dataTable =\n",
              "            await google.colab.kernel.invokeFunction('convertToInteractive',\n",
              "                                                     [key], {});\n",
              "          if (!dataTable) return;\n",
              "\n",
              "          const docLinkHtml = 'Like what you see? Visit the ' +\n",
              "            '<a target=\"_blank\" href=https://colab.research.google.com/notebooks/data_table.ipynb>data table notebook</a>'\n",
              "            + ' to learn more about interactive tables.';\n",
              "          element.innerHTML = '';\n",
              "          dataTable['output_type'] = 'display_data';\n",
              "          await google.colab.output.renderOutput(dataTable, element);\n",
              "          const docLink = document.createElement('div');\n",
              "          docLink.innerHTML = docLinkHtml;\n",
              "          element.appendChild(docLink);\n",
              "        }\n",
              "      </script>\n",
              "    </div>\n",
              "  </div>\n",
              "  "
            ]
          },
          "metadata": {},
          "execution_count": 5
        }
      ]
    },
    {
      "cell_type": "code",
      "source": [
        "df.shape"
      ],
      "metadata": {
        "colab": {
          "base_uri": "https://localhost:8080/"
        },
        "id": "MWhNFwemmeQ7",
        "outputId": "0829f8f2-2ab7-4969-a577-1b6bd2969660"
      },
      "execution_count": 6,
      "outputs": [
        {
          "output_type": "execute_result",
          "data": {
            "text/plain": [
              "(2982, 9)"
            ]
          },
          "metadata": {},
          "execution_count": 6
        }
      ]
    },
    {
      "cell_type": "code",
      "source": [
        "df['CLASS'].value_counts()"
      ],
      "metadata": {
        "colab": {
          "base_uri": "https://localhost:8080/"
        },
        "id": "d3Ce8z5lnxAu",
        "outputId": "1440a708-15e0-4530-beba-48118041aef7"
      },
      "execution_count": 7,
      "outputs": [
        {
          "output_type": "execute_result",
          "data": {
            "text/plain": [
              "Employable        1729\n",
              "LessEmployable    1253\n",
              "Name: CLASS, dtype: int64"
            ]
          },
          "metadata": {},
          "execution_count": 7
        }
      ]
    },
    {
      "cell_type": "code",
      "source": [
        "z = {'Employable' : 1, 'LessEmployable' : 0}\n",
        "df['CLASS'] = df['CLASS'].map(z)\n",
        "df.head()"
      ],
      "metadata": {
        "colab": {
          "base_uri": "https://localhost:8080/",
          "height": 267
        },
        "id": "zecQWODIjag1",
        "outputId": "0115268a-a087-4c41-b443-8e42dbc368e8"
      },
      "execution_count": 8,
      "outputs": [
        {
          "output_type": "execute_result",
          "data": {
            "text/plain": [
              "   GENERAL APPEARANCE  MANNER OF SPEAKING  PHYSICAL CONDITION  \\\n",
              "0                   4                   5                   4   \n",
              "1                   4                   4                   4   \n",
              "2                   4                   3                   3   \n",
              "3                   3                   3                   3   \n",
              "4                   4                   4                   3   \n",
              "\n",
              "   MENTAL ALERTNESS  SELF-CONFIDENCE  ABILITY TO PRESENT IDEAS  \\\n",
              "0                 5                5                         5   \n",
              "1                 4                4                         4   \n",
              "2                 3                3                         3   \n",
              "3                 2                3                         3   \n",
              "4                 3                4                         4   \n",
              "\n",
              "   COMMUNICATION SKILLS  Student Performance Rating  CLASS  \n",
              "0                     5                           5      1  \n",
              "1                     3                           5      1  \n",
              "2                     2                           5      0  \n",
              "3                     3                           5      0  \n",
              "4                     3                           5      1  "
            ],
            "text/html": [
              "\n",
              "  <div id=\"df-d927d378-4336-44ce-a3d4-2507e06ad157\">\n",
              "    <div class=\"colab-df-container\">\n",
              "      <div>\n",
              "<style scoped>\n",
              "    .dataframe tbody tr th:only-of-type {\n",
              "        vertical-align: middle;\n",
              "    }\n",
              "\n",
              "    .dataframe tbody tr th {\n",
              "        vertical-align: top;\n",
              "    }\n",
              "\n",
              "    .dataframe thead th {\n",
              "        text-align: right;\n",
              "    }\n",
              "</style>\n",
              "<table border=\"1\" class=\"dataframe\">\n",
              "  <thead>\n",
              "    <tr style=\"text-align: right;\">\n",
              "      <th></th>\n",
              "      <th>GENERAL APPEARANCE</th>\n",
              "      <th>MANNER OF SPEAKING</th>\n",
              "      <th>PHYSICAL CONDITION</th>\n",
              "      <th>MENTAL ALERTNESS</th>\n",
              "      <th>SELF-CONFIDENCE</th>\n",
              "      <th>ABILITY TO PRESENT IDEAS</th>\n",
              "      <th>COMMUNICATION SKILLS</th>\n",
              "      <th>Student Performance Rating</th>\n",
              "      <th>CLASS</th>\n",
              "    </tr>\n",
              "  </thead>\n",
              "  <tbody>\n",
              "    <tr>\n",
              "      <th>0</th>\n",
              "      <td>4</td>\n",
              "      <td>5</td>\n",
              "      <td>4</td>\n",
              "      <td>5</td>\n",
              "      <td>5</td>\n",
              "      <td>5</td>\n",
              "      <td>5</td>\n",
              "      <td>5</td>\n",
              "      <td>1</td>\n",
              "    </tr>\n",
              "    <tr>\n",
              "      <th>1</th>\n",
              "      <td>4</td>\n",
              "      <td>4</td>\n",
              "      <td>4</td>\n",
              "      <td>4</td>\n",
              "      <td>4</td>\n",
              "      <td>4</td>\n",
              "      <td>3</td>\n",
              "      <td>5</td>\n",
              "      <td>1</td>\n",
              "    </tr>\n",
              "    <tr>\n",
              "      <th>2</th>\n",
              "      <td>4</td>\n",
              "      <td>3</td>\n",
              "      <td>3</td>\n",
              "      <td>3</td>\n",
              "      <td>3</td>\n",
              "      <td>3</td>\n",
              "      <td>2</td>\n",
              "      <td>5</td>\n",
              "      <td>0</td>\n",
              "    </tr>\n",
              "    <tr>\n",
              "      <th>3</th>\n",
              "      <td>3</td>\n",
              "      <td>3</td>\n",
              "      <td>3</td>\n",
              "      <td>2</td>\n",
              "      <td>3</td>\n",
              "      <td>3</td>\n",
              "      <td>3</td>\n",
              "      <td>5</td>\n",
              "      <td>0</td>\n",
              "    </tr>\n",
              "    <tr>\n",
              "      <th>4</th>\n",
              "      <td>4</td>\n",
              "      <td>4</td>\n",
              "      <td>3</td>\n",
              "      <td>3</td>\n",
              "      <td>4</td>\n",
              "      <td>4</td>\n",
              "      <td>3</td>\n",
              "      <td>5</td>\n",
              "      <td>1</td>\n",
              "    </tr>\n",
              "  </tbody>\n",
              "</table>\n",
              "</div>\n",
              "      <button class=\"colab-df-convert\" onclick=\"convertToInteractive('df-d927d378-4336-44ce-a3d4-2507e06ad157')\"\n",
              "              title=\"Convert this dataframe to an interactive table.\"\n",
              "              style=\"display:none;\">\n",
              "        \n",
              "  <svg xmlns=\"http://www.w3.org/2000/svg\" height=\"24px\"viewBox=\"0 0 24 24\"\n",
              "       width=\"24px\">\n",
              "    <path d=\"M0 0h24v24H0V0z\" fill=\"none\"/>\n",
              "    <path d=\"M18.56 5.44l.94 2.06.94-2.06 2.06-.94-2.06-.94-.94-2.06-.94 2.06-2.06.94zm-11 1L8.5 8.5l.94-2.06 2.06-.94-2.06-.94L8.5 2.5l-.94 2.06-2.06.94zm10 10l.94 2.06.94-2.06 2.06-.94-2.06-.94-.94-2.06-.94 2.06-2.06.94z\"/><path d=\"M17.41 7.96l-1.37-1.37c-.4-.4-.92-.59-1.43-.59-.52 0-1.04.2-1.43.59L10.3 9.45l-7.72 7.72c-.78.78-.78 2.05 0 2.83L4 21.41c.39.39.9.59 1.41.59.51 0 1.02-.2 1.41-.59l7.78-7.78 2.81-2.81c.8-.78.8-2.07 0-2.86zM5.41 20L4 18.59l7.72-7.72 1.47 1.35L5.41 20z\"/>\n",
              "  </svg>\n",
              "      </button>\n",
              "      \n",
              "  <style>\n",
              "    .colab-df-container {\n",
              "      display:flex;\n",
              "      flex-wrap:wrap;\n",
              "      gap: 12px;\n",
              "    }\n",
              "\n",
              "    .colab-df-convert {\n",
              "      background-color: #E8F0FE;\n",
              "      border: none;\n",
              "      border-radius: 50%;\n",
              "      cursor: pointer;\n",
              "      display: none;\n",
              "      fill: #1967D2;\n",
              "      height: 32px;\n",
              "      padding: 0 0 0 0;\n",
              "      width: 32px;\n",
              "    }\n",
              "\n",
              "    .colab-df-convert:hover {\n",
              "      background-color: #E2EBFA;\n",
              "      box-shadow: 0px 1px 2px rgba(60, 64, 67, 0.3), 0px 1px 3px 1px rgba(60, 64, 67, 0.15);\n",
              "      fill: #174EA6;\n",
              "    }\n",
              "\n",
              "    [theme=dark] .colab-df-convert {\n",
              "      background-color: #3B4455;\n",
              "      fill: #D2E3FC;\n",
              "    }\n",
              "\n",
              "    [theme=dark] .colab-df-convert:hover {\n",
              "      background-color: #434B5C;\n",
              "      box-shadow: 0px 1px 3px 1px rgba(0, 0, 0, 0.15);\n",
              "      filter: drop-shadow(0px 1px 2px rgba(0, 0, 0, 0.3));\n",
              "      fill: #FFFFFF;\n",
              "    }\n",
              "  </style>\n",
              "\n",
              "      <script>\n",
              "        const buttonEl =\n",
              "          document.querySelector('#df-d927d378-4336-44ce-a3d4-2507e06ad157 button.colab-df-convert');\n",
              "        buttonEl.style.display =\n",
              "          google.colab.kernel.accessAllowed ? 'block' : 'none';\n",
              "\n",
              "        async function convertToInteractive(key) {\n",
              "          const element = document.querySelector('#df-d927d378-4336-44ce-a3d4-2507e06ad157');\n",
              "          const dataTable =\n",
              "            await google.colab.kernel.invokeFunction('convertToInteractive',\n",
              "                                                     [key], {});\n",
              "          if (!dataTable) return;\n",
              "\n",
              "          const docLinkHtml = 'Like what you see? Visit the ' +\n",
              "            '<a target=\"_blank\" href=https://colab.research.google.com/notebooks/data_table.ipynb>data table notebook</a>'\n",
              "            + ' to learn more about interactive tables.';\n",
              "          element.innerHTML = '';\n",
              "          dataTable['output_type'] = 'display_data';\n",
              "          await google.colab.output.renderOutput(dataTable, element);\n",
              "          const docLink = document.createElement('div');\n",
              "          docLink.innerHTML = docLinkHtml;\n",
              "          element.appendChild(docLink);\n",
              "        }\n",
              "      </script>\n",
              "    </div>\n",
              "  </div>\n",
              "  "
            ]
          },
          "metadata": {},
          "execution_count": 8
        }
      ]
    },
    {
      "cell_type": "code",
      "source": [
        "#node_Class\n",
        "node_Class = df[\"CLASS\"]"
      ],
      "metadata": {
        "id": "tlYy11i7meUP"
      },
      "execution_count": 9,
      "outputs": []
    },
    {
      "cell_type": "code",
      "source": [
        "u3=df.drop(['CLASS'], axis=1)\n",
        "u3.head()"
      ],
      "metadata": {
        "id": "ec_H82x-n5lO",
        "colab": {
          "base_uri": "https://localhost:8080/",
          "height": 267
        },
        "outputId": "916e28a4-453c-48f7-8777-b12f88594a72"
      },
      "execution_count": 10,
      "outputs": [
        {
          "output_type": "execute_result",
          "data": {
            "text/plain": [
              "   GENERAL APPEARANCE  MANNER OF SPEAKING  PHYSICAL CONDITION  \\\n",
              "0                   4                   5                   4   \n",
              "1                   4                   4                   4   \n",
              "2                   4                   3                   3   \n",
              "3                   3                   3                   3   \n",
              "4                   4                   4                   3   \n",
              "\n",
              "   MENTAL ALERTNESS  SELF-CONFIDENCE  ABILITY TO PRESENT IDEAS  \\\n",
              "0                 5                5                         5   \n",
              "1                 4                4                         4   \n",
              "2                 3                3                         3   \n",
              "3                 2                3                         3   \n",
              "4                 3                4                         4   \n",
              "\n",
              "   COMMUNICATION SKILLS  Student Performance Rating  \n",
              "0                     5                           5  \n",
              "1                     3                           5  \n",
              "2                     2                           5  \n",
              "3                     3                           5  \n",
              "4                     3                           5  "
            ],
            "text/html": [
              "\n",
              "  <div id=\"df-bcc7f467-567e-4c53-8e8a-0391bab1099a\">\n",
              "    <div class=\"colab-df-container\">\n",
              "      <div>\n",
              "<style scoped>\n",
              "    .dataframe tbody tr th:only-of-type {\n",
              "        vertical-align: middle;\n",
              "    }\n",
              "\n",
              "    .dataframe tbody tr th {\n",
              "        vertical-align: top;\n",
              "    }\n",
              "\n",
              "    .dataframe thead th {\n",
              "        text-align: right;\n",
              "    }\n",
              "</style>\n",
              "<table border=\"1\" class=\"dataframe\">\n",
              "  <thead>\n",
              "    <tr style=\"text-align: right;\">\n",
              "      <th></th>\n",
              "      <th>GENERAL APPEARANCE</th>\n",
              "      <th>MANNER OF SPEAKING</th>\n",
              "      <th>PHYSICAL CONDITION</th>\n",
              "      <th>MENTAL ALERTNESS</th>\n",
              "      <th>SELF-CONFIDENCE</th>\n",
              "      <th>ABILITY TO PRESENT IDEAS</th>\n",
              "      <th>COMMUNICATION SKILLS</th>\n",
              "      <th>Student Performance Rating</th>\n",
              "    </tr>\n",
              "  </thead>\n",
              "  <tbody>\n",
              "    <tr>\n",
              "      <th>0</th>\n",
              "      <td>4</td>\n",
              "      <td>5</td>\n",
              "      <td>4</td>\n",
              "      <td>5</td>\n",
              "      <td>5</td>\n",
              "      <td>5</td>\n",
              "      <td>5</td>\n",
              "      <td>5</td>\n",
              "    </tr>\n",
              "    <tr>\n",
              "      <th>1</th>\n",
              "      <td>4</td>\n",
              "      <td>4</td>\n",
              "      <td>4</td>\n",
              "      <td>4</td>\n",
              "      <td>4</td>\n",
              "      <td>4</td>\n",
              "      <td>3</td>\n",
              "      <td>5</td>\n",
              "    </tr>\n",
              "    <tr>\n",
              "      <th>2</th>\n",
              "      <td>4</td>\n",
              "      <td>3</td>\n",
              "      <td>3</td>\n",
              "      <td>3</td>\n",
              "      <td>3</td>\n",
              "      <td>3</td>\n",
              "      <td>2</td>\n",
              "      <td>5</td>\n",
              "    </tr>\n",
              "    <tr>\n",
              "      <th>3</th>\n",
              "      <td>3</td>\n",
              "      <td>3</td>\n",
              "      <td>3</td>\n",
              "      <td>2</td>\n",
              "      <td>3</td>\n",
              "      <td>3</td>\n",
              "      <td>3</td>\n",
              "      <td>5</td>\n",
              "    </tr>\n",
              "    <tr>\n",
              "      <th>4</th>\n",
              "      <td>4</td>\n",
              "      <td>4</td>\n",
              "      <td>3</td>\n",
              "      <td>3</td>\n",
              "      <td>4</td>\n",
              "      <td>4</td>\n",
              "      <td>3</td>\n",
              "      <td>5</td>\n",
              "    </tr>\n",
              "  </tbody>\n",
              "</table>\n",
              "</div>\n",
              "      <button class=\"colab-df-convert\" onclick=\"convertToInteractive('df-bcc7f467-567e-4c53-8e8a-0391bab1099a')\"\n",
              "              title=\"Convert this dataframe to an interactive table.\"\n",
              "              style=\"display:none;\">\n",
              "        \n",
              "  <svg xmlns=\"http://www.w3.org/2000/svg\" height=\"24px\"viewBox=\"0 0 24 24\"\n",
              "       width=\"24px\">\n",
              "    <path d=\"M0 0h24v24H0V0z\" fill=\"none\"/>\n",
              "    <path d=\"M18.56 5.44l.94 2.06.94-2.06 2.06-.94-2.06-.94-.94-2.06-.94 2.06-2.06.94zm-11 1L8.5 8.5l.94-2.06 2.06-.94-2.06-.94L8.5 2.5l-.94 2.06-2.06.94zm10 10l.94 2.06.94-2.06 2.06-.94-2.06-.94-.94-2.06-.94 2.06-2.06.94z\"/><path d=\"M17.41 7.96l-1.37-1.37c-.4-.4-.92-.59-1.43-.59-.52 0-1.04.2-1.43.59L10.3 9.45l-7.72 7.72c-.78.78-.78 2.05 0 2.83L4 21.41c.39.39.9.59 1.41.59.51 0 1.02-.2 1.41-.59l7.78-7.78 2.81-2.81c.8-.78.8-2.07 0-2.86zM5.41 20L4 18.59l7.72-7.72 1.47 1.35L5.41 20z\"/>\n",
              "  </svg>\n",
              "      </button>\n",
              "      \n",
              "  <style>\n",
              "    .colab-df-container {\n",
              "      display:flex;\n",
              "      flex-wrap:wrap;\n",
              "      gap: 12px;\n",
              "    }\n",
              "\n",
              "    .colab-df-convert {\n",
              "      background-color: #E8F0FE;\n",
              "      border: none;\n",
              "      border-radius: 50%;\n",
              "      cursor: pointer;\n",
              "      display: none;\n",
              "      fill: #1967D2;\n",
              "      height: 32px;\n",
              "      padding: 0 0 0 0;\n",
              "      width: 32px;\n",
              "    }\n",
              "\n",
              "    .colab-df-convert:hover {\n",
              "      background-color: #E2EBFA;\n",
              "      box-shadow: 0px 1px 2px rgba(60, 64, 67, 0.3), 0px 1px 3px 1px rgba(60, 64, 67, 0.15);\n",
              "      fill: #174EA6;\n",
              "    }\n",
              "\n",
              "    [theme=dark] .colab-df-convert {\n",
              "      background-color: #3B4455;\n",
              "      fill: #D2E3FC;\n",
              "    }\n",
              "\n",
              "    [theme=dark] .colab-df-convert:hover {\n",
              "      background-color: #434B5C;\n",
              "      box-shadow: 0px 1px 3px 1px rgba(0, 0, 0, 0.15);\n",
              "      filter: drop-shadow(0px 1px 2px rgba(0, 0, 0, 0.3));\n",
              "      fill: #FFFFFF;\n",
              "    }\n",
              "  </style>\n",
              "\n",
              "      <script>\n",
              "        const buttonEl =\n",
              "          document.querySelector('#df-bcc7f467-567e-4c53-8e8a-0391bab1099a button.colab-df-convert');\n",
              "        buttonEl.style.display =\n",
              "          google.colab.kernel.accessAllowed ? 'block' : 'none';\n",
              "\n",
              "        async function convertToInteractive(key) {\n",
              "          const element = document.querySelector('#df-bcc7f467-567e-4c53-8e8a-0391bab1099a');\n",
              "          const dataTable =\n",
              "            await google.colab.kernel.invokeFunction('convertToInteractive',\n",
              "                                                     [key], {});\n",
              "          if (!dataTable) return;\n",
              "\n",
              "          const docLinkHtml = 'Like what you see? Visit the ' +\n",
              "            '<a target=\"_blank\" href=https://colab.research.google.com/notebooks/data_table.ipynb>data table notebook</a>'\n",
              "            + ' to learn more about interactive tables.';\n",
              "          element.innerHTML = '';\n",
              "          dataTable['output_type'] = 'display_data';\n",
              "          await google.colab.output.renderOutput(dataTable, element);\n",
              "          const docLink = document.createElement('div');\n",
              "          docLink.innerHTML = docLinkHtml;\n",
              "          element.appendChild(docLink);\n",
              "        }\n",
              "      </script>\n",
              "    </div>\n",
              "  </div>\n",
              "  "
            ]
          },
          "metadata": {},
          "execution_count": 10
        }
      ]
    },
    {
      "cell_type": "markdown",
      "source": [
        "### Distance calculation for creating adjacency matrix\n"
      ],
      "metadata": {
        "id": "ZLv7lbrF4lo4"
      }
    },
    {
      "cell_type": "code",
      "source": [
        "from scipy.spatial.distance import cdist\n",
        "s = cdist(u3, u3, 'cosine')\n",
        "s"
      ],
      "metadata": {
        "id": "ykcfyEHVtr1_",
        "colab": {
          "base_uri": "https://localhost:8080/"
        },
        "outputId": "237c39e7-b931-4ed4-b9c2-84f789dcc8ed"
      },
      "execution_count": 11,
      "outputs": [
        {
          "output_type": "execute_result",
          "data": {
            "text/plain": [
              "array([[0.00000000e+00, 1.18196406e-02, 3.89451766e-02, ...,\n",
              "        5.70574961e-03, 1.75078592e-02, 1.18196406e-02],\n",
              "       [1.18196406e-02, 0.00000000e+00, 1.07846501e-02, ...,\n",
              "        6.69736532e-03, 3.57110435e-03, 7.69230769e-03],\n",
              "       [3.89451766e-02, 1.07846501e-02, 0.00000000e+00, ...,\n",
              "        2.63323597e-02, 1.15390226e-02, 2.00296533e-02],\n",
              "       ...,\n",
              "       [5.70574961e-03, 6.69736532e-03, 2.63323597e-02, ...,\n",
              "        0.00000000e+00, 1.50356688e-02, 6.69736532e-03],\n",
              "       [1.75078592e-02, 3.57110435e-03, 1.15390226e-02, ...,\n",
              "        1.50356688e-02, 1.11022302e-16, 1.14792702e-02],\n",
              "       [1.18196406e-02, 7.69230769e-03, 2.00296533e-02, ...,\n",
              "        6.69736532e-03, 1.14792702e-02, 0.00000000e+00]])"
            ]
          },
          "metadata": {},
          "execution_count": 11
        }
      ]
    },
    {
      "cell_type": "code",
      "source": [
        "X1=pd.DataFrame(s)\n",
        "X1"
      ],
      "metadata": {
        "id": "iJ61mEGstr5_",
        "colab": {
          "base_uri": "https://localhost:8080/",
          "height": 661
        },
        "outputId": "7c75d593-38e9-4be5-8e56-57b5c97708ca"
      },
      "execution_count": 12,
      "outputs": [
        {
          "output_type": "execute_result",
          "data": {
            "text/plain": [
              "          0         1         2         3         4         5         6     \\\n",
              "0     0.000000  0.011820  0.038945  0.031784  0.015827  0.023852  0.023828   \n",
              "1     0.011820  0.000000  0.010785  0.018050  0.006520  0.010005  0.017776   \n",
              "2     0.038945  0.010785  0.000000  0.016536  0.011513  0.008478  0.038122   \n",
              "3     0.031784  0.018050  0.016536  0.000000  0.011438  0.010986  0.043910   \n",
              "4     0.015827  0.006520  0.011513  0.011438  0.000000  0.007125  0.027587   \n",
              "...        ...       ...       ...       ...       ...       ...       ...   \n",
              "2977  0.038945  0.010785  0.000000  0.016536  0.011513  0.008478  0.038122   \n",
              "2978  0.005318  0.007692  0.029275  0.018050  0.014663  0.018689  0.026871   \n",
              "2979  0.005706  0.006697  0.026332  0.030187  0.015583  0.013821  0.017178   \n",
              "2980  0.017508  0.003571  0.011539  0.010289  0.003757  0.009008  0.018263   \n",
              "2981  0.011820  0.007692  0.020030  0.018050  0.014663  0.010005  0.017776   \n",
              "\n",
              "          7         8         9     ...      2972      2973      2974  \\\n",
              "0     0.036119  0.005732  0.010824  ...  0.055234  0.021551  0.015827   \n",
              "1     0.017689  0.003403  0.011479  ...  0.039031  0.008924  0.006520   \n",
              "2     0.009505  0.018376  0.021043  ...  0.021836  0.019694  0.011513   \n",
              "3     0.031092  0.015332  0.020186  ...  0.030511  0.023098  0.021630   \n",
              "4     0.021789  0.008436  0.012128  ...  0.034596  0.015815  0.008621   \n",
              "...        ...       ...       ...  ...       ...       ...       ...   \n",
              "2977  0.009505  0.018376  0.021043  ...  0.021836  0.019694  0.011513   \n",
              "2978  0.034339  0.003403  0.011479  ...  0.048837  0.017695  0.014663   \n",
              "2979  0.024151  0.004957  0.007793  ...  0.039112  0.020072  0.008125   \n",
              "2980  0.024357  0.006251  0.016260  ...  0.042308  0.008163  0.012128   \n",
              "2981  0.017689  0.003403  0.003571  ...  0.029225  0.017695  0.006520   \n",
              "\n",
              "          2975      2976      2977      2978      2979          2980      2981  \n",
              "0     0.022710  0.031191  0.038945  0.005318  0.005706  1.750786e-02  0.011820  \n",
              "1     0.006520  0.018689  0.010785  0.007692  0.006697  3.571104e-03  0.007692  \n",
              "2     0.011513  0.018915  0.000000  0.029275  0.026332  1.153902e-02  0.020030  \n",
              "3     0.021630  0.043591  0.016536  0.018050  0.030187  1.028900e-02  0.018050  \n",
              "4     0.017241  0.025511  0.011513  0.014663  0.015583  3.756706e-03  0.014663  \n",
              "...        ...       ...       ...       ...       ...           ...       ...  \n",
              "2977  0.011513  0.018915  0.000000  0.029275  0.026332  1.153902e-02  0.020030  \n",
              "2978  0.014663  0.036057  0.029275  0.000000  0.006697  1.147927e-02  0.007692  \n",
              "2979  0.008125  0.021774  0.026332  0.006697  0.000000  1.503567e-02  0.006697  \n",
              "2980  0.012128  0.026863  0.011539  0.011479  0.015036  1.110223e-16  0.011479  \n",
              "2981  0.006520  0.018689  0.020030  0.007692  0.006697  1.147927e-02  0.000000  \n",
              "\n",
              "[2982 rows x 2982 columns]"
            ],
            "text/html": [
              "\n",
              "  <div id=\"df-9d871984-1106-4a59-972d-2586ca59a274\">\n",
              "    <div class=\"colab-df-container\">\n",
              "      <div>\n",
              "<style scoped>\n",
              "    .dataframe tbody tr th:only-of-type {\n",
              "        vertical-align: middle;\n",
              "    }\n",
              "\n",
              "    .dataframe tbody tr th {\n",
              "        vertical-align: top;\n",
              "    }\n",
              "\n",
              "    .dataframe thead th {\n",
              "        text-align: right;\n",
              "    }\n",
              "</style>\n",
              "<table border=\"1\" class=\"dataframe\">\n",
              "  <thead>\n",
              "    <tr style=\"text-align: right;\">\n",
              "      <th></th>\n",
              "      <th>0</th>\n",
              "      <th>1</th>\n",
              "      <th>2</th>\n",
              "      <th>3</th>\n",
              "      <th>4</th>\n",
              "      <th>5</th>\n",
              "      <th>6</th>\n",
              "      <th>7</th>\n",
              "      <th>8</th>\n",
              "      <th>9</th>\n",
              "      <th>...</th>\n",
              "      <th>2972</th>\n",
              "      <th>2973</th>\n",
              "      <th>2974</th>\n",
              "      <th>2975</th>\n",
              "      <th>2976</th>\n",
              "      <th>2977</th>\n",
              "      <th>2978</th>\n",
              "      <th>2979</th>\n",
              "      <th>2980</th>\n",
              "      <th>2981</th>\n",
              "    </tr>\n",
              "  </thead>\n",
              "  <tbody>\n",
              "    <tr>\n",
              "      <th>0</th>\n",
              "      <td>0.000000</td>\n",
              "      <td>0.011820</td>\n",
              "      <td>0.038945</td>\n",
              "      <td>0.031784</td>\n",
              "      <td>0.015827</td>\n",
              "      <td>0.023852</td>\n",
              "      <td>0.023828</td>\n",
              "      <td>0.036119</td>\n",
              "      <td>0.005732</td>\n",
              "      <td>0.010824</td>\n",
              "      <td>...</td>\n",
              "      <td>0.055234</td>\n",
              "      <td>0.021551</td>\n",
              "      <td>0.015827</td>\n",
              "      <td>0.022710</td>\n",
              "      <td>0.031191</td>\n",
              "      <td>0.038945</td>\n",
              "      <td>0.005318</td>\n",
              "      <td>0.005706</td>\n",
              "      <td>1.750786e-02</td>\n",
              "      <td>0.011820</td>\n",
              "    </tr>\n",
              "    <tr>\n",
              "      <th>1</th>\n",
              "      <td>0.011820</td>\n",
              "      <td>0.000000</td>\n",
              "      <td>0.010785</td>\n",
              "      <td>0.018050</td>\n",
              "      <td>0.006520</td>\n",
              "      <td>0.010005</td>\n",
              "      <td>0.017776</td>\n",
              "      <td>0.017689</td>\n",
              "      <td>0.003403</td>\n",
              "      <td>0.011479</td>\n",
              "      <td>...</td>\n",
              "      <td>0.039031</td>\n",
              "      <td>0.008924</td>\n",
              "      <td>0.006520</td>\n",
              "      <td>0.006520</td>\n",
              "      <td>0.018689</td>\n",
              "      <td>0.010785</td>\n",
              "      <td>0.007692</td>\n",
              "      <td>0.006697</td>\n",
              "      <td>3.571104e-03</td>\n",
              "      <td>0.007692</td>\n",
              "    </tr>\n",
              "    <tr>\n",
              "      <th>2</th>\n",
              "      <td>0.038945</td>\n",
              "      <td>0.010785</td>\n",
              "      <td>0.000000</td>\n",
              "      <td>0.016536</td>\n",
              "      <td>0.011513</td>\n",
              "      <td>0.008478</td>\n",
              "      <td>0.038122</td>\n",
              "      <td>0.009505</td>\n",
              "      <td>0.018376</td>\n",
              "      <td>0.021043</td>\n",
              "      <td>...</td>\n",
              "      <td>0.021836</td>\n",
              "      <td>0.019694</td>\n",
              "      <td>0.011513</td>\n",
              "      <td>0.011513</td>\n",
              "      <td>0.018915</td>\n",
              "      <td>0.000000</td>\n",
              "      <td>0.029275</td>\n",
              "      <td>0.026332</td>\n",
              "      <td>1.153902e-02</td>\n",
              "      <td>0.020030</td>\n",
              "    </tr>\n",
              "    <tr>\n",
              "      <th>3</th>\n",
              "      <td>0.031784</td>\n",
              "      <td>0.018050</td>\n",
              "      <td>0.016536</td>\n",
              "      <td>0.000000</td>\n",
              "      <td>0.011438</td>\n",
              "      <td>0.010986</td>\n",
              "      <td>0.043910</td>\n",
              "      <td>0.031092</td>\n",
              "      <td>0.015332</td>\n",
              "      <td>0.020186</td>\n",
              "      <td>...</td>\n",
              "      <td>0.030511</td>\n",
              "      <td>0.023098</td>\n",
              "      <td>0.021630</td>\n",
              "      <td>0.021630</td>\n",
              "      <td>0.043591</td>\n",
              "      <td>0.016536</td>\n",
              "      <td>0.018050</td>\n",
              "      <td>0.030187</td>\n",
              "      <td>1.028900e-02</td>\n",
              "      <td>0.018050</td>\n",
              "    </tr>\n",
              "    <tr>\n",
              "      <th>4</th>\n",
              "      <td>0.015827</td>\n",
              "      <td>0.006520</td>\n",
              "      <td>0.011513</td>\n",
              "      <td>0.011438</td>\n",
              "      <td>0.000000</td>\n",
              "      <td>0.007125</td>\n",
              "      <td>0.027587</td>\n",
              "      <td>0.021789</td>\n",
              "      <td>0.008436</td>\n",
              "      <td>0.012128</td>\n",
              "      <td>...</td>\n",
              "      <td>0.034596</td>\n",
              "      <td>0.015815</td>\n",
              "      <td>0.008621</td>\n",
              "      <td>0.017241</td>\n",
              "      <td>0.025511</td>\n",
              "      <td>0.011513</td>\n",
              "      <td>0.014663</td>\n",
              "      <td>0.015583</td>\n",
              "      <td>3.756706e-03</td>\n",
              "      <td>0.014663</td>\n",
              "    </tr>\n",
              "    <tr>\n",
              "      <th>...</th>\n",
              "      <td>...</td>\n",
              "      <td>...</td>\n",
              "      <td>...</td>\n",
              "      <td>...</td>\n",
              "      <td>...</td>\n",
              "      <td>...</td>\n",
              "      <td>...</td>\n",
              "      <td>...</td>\n",
              "      <td>...</td>\n",
              "      <td>...</td>\n",
              "      <td>...</td>\n",
              "      <td>...</td>\n",
              "      <td>...</td>\n",
              "      <td>...</td>\n",
              "      <td>...</td>\n",
              "      <td>...</td>\n",
              "      <td>...</td>\n",
              "      <td>...</td>\n",
              "      <td>...</td>\n",
              "      <td>...</td>\n",
              "      <td>...</td>\n",
              "    </tr>\n",
              "    <tr>\n",
              "      <th>2977</th>\n",
              "      <td>0.038945</td>\n",
              "      <td>0.010785</td>\n",
              "      <td>0.000000</td>\n",
              "      <td>0.016536</td>\n",
              "      <td>0.011513</td>\n",
              "      <td>0.008478</td>\n",
              "      <td>0.038122</td>\n",
              "      <td>0.009505</td>\n",
              "      <td>0.018376</td>\n",
              "      <td>0.021043</td>\n",
              "      <td>...</td>\n",
              "      <td>0.021836</td>\n",
              "      <td>0.019694</td>\n",
              "      <td>0.011513</td>\n",
              "      <td>0.011513</td>\n",
              "      <td>0.018915</td>\n",
              "      <td>0.000000</td>\n",
              "      <td>0.029275</td>\n",
              "      <td>0.026332</td>\n",
              "      <td>1.153902e-02</td>\n",
              "      <td>0.020030</td>\n",
              "    </tr>\n",
              "    <tr>\n",
              "      <th>2978</th>\n",
              "      <td>0.005318</td>\n",
              "      <td>0.007692</td>\n",
              "      <td>0.029275</td>\n",
              "      <td>0.018050</td>\n",
              "      <td>0.014663</td>\n",
              "      <td>0.018689</td>\n",
              "      <td>0.026871</td>\n",
              "      <td>0.034339</td>\n",
              "      <td>0.003403</td>\n",
              "      <td>0.011479</td>\n",
              "      <td>...</td>\n",
              "      <td>0.048837</td>\n",
              "      <td>0.017695</td>\n",
              "      <td>0.014663</td>\n",
              "      <td>0.014663</td>\n",
              "      <td>0.036057</td>\n",
              "      <td>0.029275</td>\n",
              "      <td>0.000000</td>\n",
              "      <td>0.006697</td>\n",
              "      <td>1.147927e-02</td>\n",
              "      <td>0.007692</td>\n",
              "    </tr>\n",
              "    <tr>\n",
              "      <th>2979</th>\n",
              "      <td>0.005706</td>\n",
              "      <td>0.006697</td>\n",
              "      <td>0.026332</td>\n",
              "      <td>0.030187</td>\n",
              "      <td>0.015583</td>\n",
              "      <td>0.013821</td>\n",
              "      <td>0.017178</td>\n",
              "      <td>0.024151</td>\n",
              "      <td>0.004957</td>\n",
              "      <td>0.007793</td>\n",
              "      <td>...</td>\n",
              "      <td>0.039112</td>\n",
              "      <td>0.020072</td>\n",
              "      <td>0.008125</td>\n",
              "      <td>0.008125</td>\n",
              "      <td>0.021774</td>\n",
              "      <td>0.026332</td>\n",
              "      <td>0.006697</td>\n",
              "      <td>0.000000</td>\n",
              "      <td>1.503567e-02</td>\n",
              "      <td>0.006697</td>\n",
              "    </tr>\n",
              "    <tr>\n",
              "      <th>2980</th>\n",
              "      <td>0.017508</td>\n",
              "      <td>0.003571</td>\n",
              "      <td>0.011539</td>\n",
              "      <td>0.010289</td>\n",
              "      <td>0.003757</td>\n",
              "      <td>0.009008</td>\n",
              "      <td>0.018263</td>\n",
              "      <td>0.024357</td>\n",
              "      <td>0.006251</td>\n",
              "      <td>0.016260</td>\n",
              "      <td>...</td>\n",
              "      <td>0.042308</td>\n",
              "      <td>0.008163</td>\n",
              "      <td>0.012128</td>\n",
              "      <td>0.012128</td>\n",
              "      <td>0.026863</td>\n",
              "      <td>0.011539</td>\n",
              "      <td>0.011479</td>\n",
              "      <td>0.015036</td>\n",
              "      <td>1.110223e-16</td>\n",
              "      <td>0.011479</td>\n",
              "    </tr>\n",
              "    <tr>\n",
              "      <th>2981</th>\n",
              "      <td>0.011820</td>\n",
              "      <td>0.007692</td>\n",
              "      <td>0.020030</td>\n",
              "      <td>0.018050</td>\n",
              "      <td>0.014663</td>\n",
              "      <td>0.010005</td>\n",
              "      <td>0.017776</td>\n",
              "      <td>0.017689</td>\n",
              "      <td>0.003403</td>\n",
              "      <td>0.003571</td>\n",
              "      <td>...</td>\n",
              "      <td>0.029225</td>\n",
              "      <td>0.017695</td>\n",
              "      <td>0.006520</td>\n",
              "      <td>0.006520</td>\n",
              "      <td>0.018689</td>\n",
              "      <td>0.020030</td>\n",
              "      <td>0.007692</td>\n",
              "      <td>0.006697</td>\n",
              "      <td>1.147927e-02</td>\n",
              "      <td>0.000000</td>\n",
              "    </tr>\n",
              "  </tbody>\n",
              "</table>\n",
              "<p>2982 rows × 2982 columns</p>\n",
              "</div>\n",
              "      <button class=\"colab-df-convert\" onclick=\"convertToInteractive('df-9d871984-1106-4a59-972d-2586ca59a274')\"\n",
              "              title=\"Convert this dataframe to an interactive table.\"\n",
              "              style=\"display:none;\">\n",
              "        \n",
              "  <svg xmlns=\"http://www.w3.org/2000/svg\" height=\"24px\"viewBox=\"0 0 24 24\"\n",
              "       width=\"24px\">\n",
              "    <path d=\"M0 0h24v24H0V0z\" fill=\"none\"/>\n",
              "    <path d=\"M18.56 5.44l.94 2.06.94-2.06 2.06-.94-2.06-.94-.94-2.06-.94 2.06-2.06.94zm-11 1L8.5 8.5l.94-2.06 2.06-.94-2.06-.94L8.5 2.5l-.94 2.06-2.06.94zm10 10l.94 2.06.94-2.06 2.06-.94-2.06-.94-.94-2.06-.94 2.06-2.06.94z\"/><path d=\"M17.41 7.96l-1.37-1.37c-.4-.4-.92-.59-1.43-.59-.52 0-1.04.2-1.43.59L10.3 9.45l-7.72 7.72c-.78.78-.78 2.05 0 2.83L4 21.41c.39.39.9.59 1.41.59.51 0 1.02-.2 1.41-.59l7.78-7.78 2.81-2.81c.8-.78.8-2.07 0-2.86zM5.41 20L4 18.59l7.72-7.72 1.47 1.35L5.41 20z\"/>\n",
              "  </svg>\n",
              "      </button>\n",
              "      \n",
              "  <style>\n",
              "    .colab-df-container {\n",
              "      display:flex;\n",
              "      flex-wrap:wrap;\n",
              "      gap: 12px;\n",
              "    }\n",
              "\n",
              "    .colab-df-convert {\n",
              "      background-color: #E8F0FE;\n",
              "      border: none;\n",
              "      border-radius: 50%;\n",
              "      cursor: pointer;\n",
              "      display: none;\n",
              "      fill: #1967D2;\n",
              "      height: 32px;\n",
              "      padding: 0 0 0 0;\n",
              "      width: 32px;\n",
              "    }\n",
              "\n",
              "    .colab-df-convert:hover {\n",
              "      background-color: #E2EBFA;\n",
              "      box-shadow: 0px 1px 2px rgba(60, 64, 67, 0.3), 0px 1px 3px 1px rgba(60, 64, 67, 0.15);\n",
              "      fill: #174EA6;\n",
              "    }\n",
              "\n",
              "    [theme=dark] .colab-df-convert {\n",
              "      background-color: #3B4455;\n",
              "      fill: #D2E3FC;\n",
              "    }\n",
              "\n",
              "    [theme=dark] .colab-df-convert:hover {\n",
              "      background-color: #434B5C;\n",
              "      box-shadow: 0px 1px 3px 1px rgba(0, 0, 0, 0.15);\n",
              "      filter: drop-shadow(0px 1px 2px rgba(0, 0, 0, 0.3));\n",
              "      fill: #FFFFFF;\n",
              "    }\n",
              "  </style>\n",
              "\n",
              "      <script>\n",
              "        const buttonEl =\n",
              "          document.querySelector('#df-9d871984-1106-4a59-972d-2586ca59a274 button.colab-df-convert');\n",
              "        buttonEl.style.display =\n",
              "          google.colab.kernel.accessAllowed ? 'block' : 'none';\n",
              "\n",
              "        async function convertToInteractive(key) {\n",
              "          const element = document.querySelector('#df-9d871984-1106-4a59-972d-2586ca59a274');\n",
              "          const dataTable =\n",
              "            await google.colab.kernel.invokeFunction('convertToInteractive',\n",
              "                                                     [key], {});\n",
              "          if (!dataTable) return;\n",
              "\n",
              "          const docLinkHtml = 'Like what you see? Visit the ' +\n",
              "            '<a target=\"_blank\" href=https://colab.research.google.com/notebooks/data_table.ipynb>data table notebook</a>'\n",
              "            + ' to learn more about interactive tables.';\n",
              "          element.innerHTML = '';\n",
              "          dataTable['output_type'] = 'display_data';\n",
              "          await google.colab.output.renderOutput(dataTable, element);\n",
              "          const docLink = document.createElement('div');\n",
              "          docLink.innerHTML = docLinkHtml;\n",
              "          element.appendChild(docLink);\n",
              "        }\n",
              "      </script>\n",
              "    </div>\n",
              "  </div>\n",
              "  "
            ]
          },
          "metadata": {},
          "execution_count": 12
        }
      ]
    },
    {
      "cell_type": "code",
      "source": [
        "# taking average of the hamming distance matrix\n",
        "y = np.average(X1)\n",
        "y"
      ],
      "metadata": {
        "id": "UQs3yiDPlop3",
        "colab": {
          "base_uri": "https://localhost:8080/"
        },
        "outputId": "9e74f647-309e-410c-f28d-58e09fee4480"
      },
      "execution_count": 13,
      "outputs": [
        {
          "output_type": "execute_result",
          "data": {
            "text/plain": [
              "0.01856620671593297"
            ]
          },
          "metadata": {},
          "execution_count": 13
        }
      ]
    },
    {
      "cell_type": "code",
      "source": [
        "adjmat_df=X1.copy()"
      ],
      "metadata": {
        "id": "o2zLWcNflosv"
      },
      "execution_count": 14,
      "outputs": []
    },
    {
      "cell_type": "code",
      "source": [
        "# setting threshold value as mean of hamming matrix\n",
        "adjmat_df[adjmat_df < y]=0\n",
        "adjmat_df[adjmat_df >= y]=1"
      ],
      "metadata": {
        "id": "ctydp1FtloyL"
      },
      "execution_count": 15,
      "outputs": []
    },
    {
      "cell_type": "code",
      "source": [
        "# adjacency matrix\n",
        "adjmat_df"
      ],
      "metadata": {
        "colab": {
          "base_uri": "https://localhost:8080/",
          "height": 424
        },
        "id": "96zM2mImivyQ",
        "outputId": "335975c4-6ad4-417a-e5da-a0f8345830b2"
      },
      "execution_count": 16,
      "outputs": [
        {
          "output_type": "execute_result",
          "data": {
            "text/plain": [
              "      0     1     2     3     4     5     6     7     8     9     ...  2972  \\\n",
              "0      0.0   0.0   1.0   1.0   0.0   1.0   1.0   1.0   0.0   0.0  ...   1.0   \n",
              "1      0.0   0.0   0.0   0.0   0.0   0.0   0.0   0.0   0.0   0.0  ...   1.0   \n",
              "2      1.0   0.0   0.0   0.0   0.0   0.0   1.0   0.0   0.0   1.0  ...   1.0   \n",
              "3      1.0   0.0   0.0   0.0   0.0   0.0   1.0   1.0   0.0   1.0  ...   1.0   \n",
              "4      0.0   0.0   0.0   0.0   0.0   0.0   1.0   1.0   0.0   0.0  ...   1.0   \n",
              "...    ...   ...   ...   ...   ...   ...   ...   ...   ...   ...  ...   ...   \n",
              "2977   1.0   0.0   0.0   0.0   0.0   0.0   1.0   0.0   0.0   1.0  ...   1.0   \n",
              "2978   0.0   0.0   1.0   0.0   0.0   1.0   1.0   1.0   0.0   0.0  ...   1.0   \n",
              "2979   0.0   0.0   1.0   1.0   0.0   0.0   0.0   1.0   0.0   0.0  ...   1.0   \n",
              "2980   0.0   0.0   0.0   0.0   0.0   0.0   0.0   1.0   0.0   0.0  ...   1.0   \n",
              "2981   0.0   0.0   1.0   0.0   0.0   0.0   0.0   0.0   0.0   0.0  ...   1.0   \n",
              "\n",
              "      2973  2974  2975  2976  2977  2978  2979  2980  2981  \n",
              "0      1.0   0.0   1.0   1.0   1.0   0.0   0.0   0.0   0.0  \n",
              "1      0.0   0.0   0.0   1.0   0.0   0.0   0.0   0.0   0.0  \n",
              "2      1.0   0.0   0.0   1.0   0.0   1.0   1.0   0.0   1.0  \n",
              "3      1.0   1.0   1.0   1.0   0.0   0.0   1.0   0.0   0.0  \n",
              "4      0.0   0.0   0.0   1.0   0.0   0.0   0.0   0.0   0.0  \n",
              "...    ...   ...   ...   ...   ...   ...   ...   ...   ...  \n",
              "2977   1.0   0.0   0.0   1.0   0.0   1.0   1.0   0.0   1.0  \n",
              "2978   0.0   0.0   0.0   1.0   1.0   0.0   0.0   0.0   0.0  \n",
              "2979   1.0   0.0   0.0   1.0   1.0   0.0   0.0   0.0   0.0  \n",
              "2980   0.0   0.0   0.0   1.0   0.0   0.0   0.0   0.0   0.0  \n",
              "2981   0.0   0.0   0.0   1.0   1.0   0.0   0.0   0.0   0.0  \n",
              "\n",
              "[2982 rows x 2982 columns]"
            ],
            "text/html": [
              "\n",
              "  <div id=\"df-d2c52b2c-d4eb-41f8-bba0-6abd60f5b012\">\n",
              "    <div class=\"colab-df-container\">\n",
              "      <div>\n",
              "<style scoped>\n",
              "    .dataframe tbody tr th:only-of-type {\n",
              "        vertical-align: middle;\n",
              "    }\n",
              "\n",
              "    .dataframe tbody tr th {\n",
              "        vertical-align: top;\n",
              "    }\n",
              "\n",
              "    .dataframe thead th {\n",
              "        text-align: right;\n",
              "    }\n",
              "</style>\n",
              "<table border=\"1\" class=\"dataframe\">\n",
              "  <thead>\n",
              "    <tr style=\"text-align: right;\">\n",
              "      <th></th>\n",
              "      <th>0</th>\n",
              "      <th>1</th>\n",
              "      <th>2</th>\n",
              "      <th>3</th>\n",
              "      <th>4</th>\n",
              "      <th>5</th>\n",
              "      <th>6</th>\n",
              "      <th>7</th>\n",
              "      <th>8</th>\n",
              "      <th>9</th>\n",
              "      <th>...</th>\n",
              "      <th>2972</th>\n",
              "      <th>2973</th>\n",
              "      <th>2974</th>\n",
              "      <th>2975</th>\n",
              "      <th>2976</th>\n",
              "      <th>2977</th>\n",
              "      <th>2978</th>\n",
              "      <th>2979</th>\n",
              "      <th>2980</th>\n",
              "      <th>2981</th>\n",
              "    </tr>\n",
              "  </thead>\n",
              "  <tbody>\n",
              "    <tr>\n",
              "      <th>0</th>\n",
              "      <td>0.0</td>\n",
              "      <td>0.0</td>\n",
              "      <td>1.0</td>\n",
              "      <td>1.0</td>\n",
              "      <td>0.0</td>\n",
              "      <td>1.0</td>\n",
              "      <td>1.0</td>\n",
              "      <td>1.0</td>\n",
              "      <td>0.0</td>\n",
              "      <td>0.0</td>\n",
              "      <td>...</td>\n",
              "      <td>1.0</td>\n",
              "      <td>1.0</td>\n",
              "      <td>0.0</td>\n",
              "      <td>1.0</td>\n",
              "      <td>1.0</td>\n",
              "      <td>1.0</td>\n",
              "      <td>0.0</td>\n",
              "      <td>0.0</td>\n",
              "      <td>0.0</td>\n",
              "      <td>0.0</td>\n",
              "    </tr>\n",
              "    <tr>\n",
              "      <th>1</th>\n",
              "      <td>0.0</td>\n",
              "      <td>0.0</td>\n",
              "      <td>0.0</td>\n",
              "      <td>0.0</td>\n",
              "      <td>0.0</td>\n",
              "      <td>0.0</td>\n",
              "      <td>0.0</td>\n",
              "      <td>0.0</td>\n",
              "      <td>0.0</td>\n",
              "      <td>0.0</td>\n",
              "      <td>...</td>\n",
              "      <td>1.0</td>\n",
              "      <td>0.0</td>\n",
              "      <td>0.0</td>\n",
              "      <td>0.0</td>\n",
              "      <td>1.0</td>\n",
              "      <td>0.0</td>\n",
              "      <td>0.0</td>\n",
              "      <td>0.0</td>\n",
              "      <td>0.0</td>\n",
              "      <td>0.0</td>\n",
              "    </tr>\n",
              "    <tr>\n",
              "      <th>2</th>\n",
              "      <td>1.0</td>\n",
              "      <td>0.0</td>\n",
              "      <td>0.0</td>\n",
              "      <td>0.0</td>\n",
              "      <td>0.0</td>\n",
              "      <td>0.0</td>\n",
              "      <td>1.0</td>\n",
              "      <td>0.0</td>\n",
              "      <td>0.0</td>\n",
              "      <td>1.0</td>\n",
              "      <td>...</td>\n",
              "      <td>1.0</td>\n",
              "      <td>1.0</td>\n",
              "      <td>0.0</td>\n",
              "      <td>0.0</td>\n",
              "      <td>1.0</td>\n",
              "      <td>0.0</td>\n",
              "      <td>1.0</td>\n",
              "      <td>1.0</td>\n",
              "      <td>0.0</td>\n",
              "      <td>1.0</td>\n",
              "    </tr>\n",
              "    <tr>\n",
              "      <th>3</th>\n",
              "      <td>1.0</td>\n",
              "      <td>0.0</td>\n",
              "      <td>0.0</td>\n",
              "      <td>0.0</td>\n",
              "      <td>0.0</td>\n",
              "      <td>0.0</td>\n",
              "      <td>1.0</td>\n",
              "      <td>1.0</td>\n",
              "      <td>0.0</td>\n",
              "      <td>1.0</td>\n",
              "      <td>...</td>\n",
              "      <td>1.0</td>\n",
              "      <td>1.0</td>\n",
              "      <td>1.0</td>\n",
              "      <td>1.0</td>\n",
              "      <td>1.0</td>\n",
              "      <td>0.0</td>\n",
              "      <td>0.0</td>\n",
              "      <td>1.0</td>\n",
              "      <td>0.0</td>\n",
              "      <td>0.0</td>\n",
              "    </tr>\n",
              "    <tr>\n",
              "      <th>4</th>\n",
              "      <td>0.0</td>\n",
              "      <td>0.0</td>\n",
              "      <td>0.0</td>\n",
              "      <td>0.0</td>\n",
              "      <td>0.0</td>\n",
              "      <td>0.0</td>\n",
              "      <td>1.0</td>\n",
              "      <td>1.0</td>\n",
              "      <td>0.0</td>\n",
              "      <td>0.0</td>\n",
              "      <td>...</td>\n",
              "      <td>1.0</td>\n",
              "      <td>0.0</td>\n",
              "      <td>0.0</td>\n",
              "      <td>0.0</td>\n",
              "      <td>1.0</td>\n",
              "      <td>0.0</td>\n",
              "      <td>0.0</td>\n",
              "      <td>0.0</td>\n",
              "      <td>0.0</td>\n",
              "      <td>0.0</td>\n",
              "    </tr>\n",
              "    <tr>\n",
              "      <th>...</th>\n",
              "      <td>...</td>\n",
              "      <td>...</td>\n",
              "      <td>...</td>\n",
              "      <td>...</td>\n",
              "      <td>...</td>\n",
              "      <td>...</td>\n",
              "      <td>...</td>\n",
              "      <td>...</td>\n",
              "      <td>...</td>\n",
              "      <td>...</td>\n",
              "      <td>...</td>\n",
              "      <td>...</td>\n",
              "      <td>...</td>\n",
              "      <td>...</td>\n",
              "      <td>...</td>\n",
              "      <td>...</td>\n",
              "      <td>...</td>\n",
              "      <td>...</td>\n",
              "      <td>...</td>\n",
              "      <td>...</td>\n",
              "      <td>...</td>\n",
              "    </tr>\n",
              "    <tr>\n",
              "      <th>2977</th>\n",
              "      <td>1.0</td>\n",
              "      <td>0.0</td>\n",
              "      <td>0.0</td>\n",
              "      <td>0.0</td>\n",
              "      <td>0.0</td>\n",
              "      <td>0.0</td>\n",
              "      <td>1.0</td>\n",
              "      <td>0.0</td>\n",
              "      <td>0.0</td>\n",
              "      <td>1.0</td>\n",
              "      <td>...</td>\n",
              "      <td>1.0</td>\n",
              "      <td>1.0</td>\n",
              "      <td>0.0</td>\n",
              "      <td>0.0</td>\n",
              "      <td>1.0</td>\n",
              "      <td>0.0</td>\n",
              "      <td>1.0</td>\n",
              "      <td>1.0</td>\n",
              "      <td>0.0</td>\n",
              "      <td>1.0</td>\n",
              "    </tr>\n",
              "    <tr>\n",
              "      <th>2978</th>\n",
              "      <td>0.0</td>\n",
              "      <td>0.0</td>\n",
              "      <td>1.0</td>\n",
              "      <td>0.0</td>\n",
              "      <td>0.0</td>\n",
              "      <td>1.0</td>\n",
              "      <td>1.0</td>\n",
              "      <td>1.0</td>\n",
              "      <td>0.0</td>\n",
              "      <td>0.0</td>\n",
              "      <td>...</td>\n",
              "      <td>1.0</td>\n",
              "      <td>0.0</td>\n",
              "      <td>0.0</td>\n",
              "      <td>0.0</td>\n",
              "      <td>1.0</td>\n",
              "      <td>1.0</td>\n",
              "      <td>0.0</td>\n",
              "      <td>0.0</td>\n",
              "      <td>0.0</td>\n",
              "      <td>0.0</td>\n",
              "    </tr>\n",
              "    <tr>\n",
              "      <th>2979</th>\n",
              "      <td>0.0</td>\n",
              "      <td>0.0</td>\n",
              "      <td>1.0</td>\n",
              "      <td>1.0</td>\n",
              "      <td>0.0</td>\n",
              "      <td>0.0</td>\n",
              "      <td>0.0</td>\n",
              "      <td>1.0</td>\n",
              "      <td>0.0</td>\n",
              "      <td>0.0</td>\n",
              "      <td>...</td>\n",
              "      <td>1.0</td>\n",
              "      <td>1.0</td>\n",
              "      <td>0.0</td>\n",
              "      <td>0.0</td>\n",
              "      <td>1.0</td>\n",
              "      <td>1.0</td>\n",
              "      <td>0.0</td>\n",
              "      <td>0.0</td>\n",
              "      <td>0.0</td>\n",
              "      <td>0.0</td>\n",
              "    </tr>\n",
              "    <tr>\n",
              "      <th>2980</th>\n",
              "      <td>0.0</td>\n",
              "      <td>0.0</td>\n",
              "      <td>0.0</td>\n",
              "      <td>0.0</td>\n",
              "      <td>0.0</td>\n",
              "      <td>0.0</td>\n",
              "      <td>0.0</td>\n",
              "      <td>1.0</td>\n",
              "      <td>0.0</td>\n",
              "      <td>0.0</td>\n",
              "      <td>...</td>\n",
              "      <td>1.0</td>\n",
              "      <td>0.0</td>\n",
              "      <td>0.0</td>\n",
              "      <td>0.0</td>\n",
              "      <td>1.0</td>\n",
              "      <td>0.0</td>\n",
              "      <td>0.0</td>\n",
              "      <td>0.0</td>\n",
              "      <td>0.0</td>\n",
              "      <td>0.0</td>\n",
              "    </tr>\n",
              "    <tr>\n",
              "      <th>2981</th>\n",
              "      <td>0.0</td>\n",
              "      <td>0.0</td>\n",
              "      <td>1.0</td>\n",
              "      <td>0.0</td>\n",
              "      <td>0.0</td>\n",
              "      <td>0.0</td>\n",
              "      <td>0.0</td>\n",
              "      <td>0.0</td>\n",
              "      <td>0.0</td>\n",
              "      <td>0.0</td>\n",
              "      <td>...</td>\n",
              "      <td>1.0</td>\n",
              "      <td>0.0</td>\n",
              "      <td>0.0</td>\n",
              "      <td>0.0</td>\n",
              "      <td>1.0</td>\n",
              "      <td>1.0</td>\n",
              "      <td>0.0</td>\n",
              "      <td>0.0</td>\n",
              "      <td>0.0</td>\n",
              "      <td>0.0</td>\n",
              "    </tr>\n",
              "  </tbody>\n",
              "</table>\n",
              "<p>2982 rows × 2982 columns</p>\n",
              "</div>\n",
              "      <button class=\"colab-df-convert\" onclick=\"convertToInteractive('df-d2c52b2c-d4eb-41f8-bba0-6abd60f5b012')\"\n",
              "              title=\"Convert this dataframe to an interactive table.\"\n",
              "              style=\"display:none;\">\n",
              "        \n",
              "  <svg xmlns=\"http://www.w3.org/2000/svg\" height=\"24px\"viewBox=\"0 0 24 24\"\n",
              "       width=\"24px\">\n",
              "    <path d=\"M0 0h24v24H0V0z\" fill=\"none\"/>\n",
              "    <path d=\"M18.56 5.44l.94 2.06.94-2.06 2.06-.94-2.06-.94-.94-2.06-.94 2.06-2.06.94zm-11 1L8.5 8.5l.94-2.06 2.06-.94-2.06-.94L8.5 2.5l-.94 2.06-2.06.94zm10 10l.94 2.06.94-2.06 2.06-.94-2.06-.94-.94-2.06-.94 2.06-2.06.94z\"/><path d=\"M17.41 7.96l-1.37-1.37c-.4-.4-.92-.59-1.43-.59-.52 0-1.04.2-1.43.59L10.3 9.45l-7.72 7.72c-.78.78-.78 2.05 0 2.83L4 21.41c.39.39.9.59 1.41.59.51 0 1.02-.2 1.41-.59l7.78-7.78 2.81-2.81c.8-.78.8-2.07 0-2.86zM5.41 20L4 18.59l7.72-7.72 1.47 1.35L5.41 20z\"/>\n",
              "  </svg>\n",
              "      </button>\n",
              "      \n",
              "  <style>\n",
              "    .colab-df-container {\n",
              "      display:flex;\n",
              "      flex-wrap:wrap;\n",
              "      gap: 12px;\n",
              "    }\n",
              "\n",
              "    .colab-df-convert {\n",
              "      background-color: #E8F0FE;\n",
              "      border: none;\n",
              "      border-radius: 50%;\n",
              "      cursor: pointer;\n",
              "      display: none;\n",
              "      fill: #1967D2;\n",
              "      height: 32px;\n",
              "      padding: 0 0 0 0;\n",
              "      width: 32px;\n",
              "    }\n",
              "\n",
              "    .colab-df-convert:hover {\n",
              "      background-color: #E2EBFA;\n",
              "      box-shadow: 0px 1px 2px rgba(60, 64, 67, 0.3), 0px 1px 3px 1px rgba(60, 64, 67, 0.15);\n",
              "      fill: #174EA6;\n",
              "    }\n",
              "\n",
              "    [theme=dark] .colab-df-convert {\n",
              "      background-color: #3B4455;\n",
              "      fill: #D2E3FC;\n",
              "    }\n",
              "\n",
              "    [theme=dark] .colab-df-convert:hover {\n",
              "      background-color: #434B5C;\n",
              "      box-shadow: 0px 1px 3px 1px rgba(0, 0, 0, 0.15);\n",
              "      filter: drop-shadow(0px 1px 2px rgba(0, 0, 0, 0.3));\n",
              "      fill: #FFFFFF;\n",
              "    }\n",
              "  </style>\n",
              "\n",
              "      <script>\n",
              "        const buttonEl =\n",
              "          document.querySelector('#df-d2c52b2c-d4eb-41f8-bba0-6abd60f5b012 button.colab-df-convert');\n",
              "        buttonEl.style.display =\n",
              "          google.colab.kernel.accessAllowed ? 'block' : 'none';\n",
              "\n",
              "        async function convertToInteractive(key) {\n",
              "          const element = document.querySelector('#df-d2c52b2c-d4eb-41f8-bba0-6abd60f5b012');\n",
              "          const dataTable =\n",
              "            await google.colab.kernel.invokeFunction('convertToInteractive',\n",
              "                                                     [key], {});\n",
              "          if (!dataTable) return;\n",
              "\n",
              "          const docLinkHtml = 'Like what you see? Visit the ' +\n",
              "            '<a target=\"_blank\" href=https://colab.research.google.com/notebooks/data_table.ipynb>data table notebook</a>'\n",
              "            + ' to learn more about interactive tables.';\n",
              "          element.innerHTML = '';\n",
              "          dataTable['output_type'] = 'display_data';\n",
              "          await google.colab.output.renderOutput(dataTable, element);\n",
              "          const docLink = document.createElement('div');\n",
              "          docLink.innerHTML = docLinkHtml;\n",
              "          element.appendChild(docLink);\n",
              "        }\n",
              "      </script>\n",
              "    </div>\n",
              "  </div>\n",
              "  "
            ]
          },
          "metadata": {},
          "execution_count": 16
        }
      ]
    },
    {
      "cell_type": "code",
      "source": [
        "G = nx.from_numpy_matrix(np.array(adjmat_df))\n",
        "G"
      ],
      "metadata": {
        "colab": {
          "base_uri": "https://localhost:8080/"
        },
        "id": "TTd5fl42ivz8",
        "outputId": "f454ca3f-67a0-41dd-c9e0-bb0c48d4e109"
      },
      "execution_count": 17,
      "outputs": [
        {
          "output_type": "execute_result",
          "data": {
            "text/plain": [
              "<networkx.classes.graph.Graph at 0x7f05703f9df0>"
            ]
          },
          "metadata": {},
          "execution_count": 17
        }
      ]
    },
    {
      "cell_type": "code",
      "source": [
        "A=nx.to_numpy_matrix(G)\n",
        "##Creating graph from adjacency matrix\n",
        "H=nx.from_numpy_matrix(A)"
      ],
      "metadata": {
        "id": "vm_vIlpNiv4S"
      },
      "execution_count": 18,
      "outputs": []
    },
    {
      "cell_type": "code",
      "source": [
        "A=nx.to_numpy_matrix(G)\n",
        "A"
      ],
      "metadata": {
        "id": "4TcQLOQHY38Q",
        "colab": {
          "base_uri": "https://localhost:8080/"
        },
        "outputId": "cf0b664c-777c-4176-a615-3f6344502b7f"
      },
      "execution_count": 19,
      "outputs": [
        {
          "output_type": "execute_result",
          "data": {
            "text/plain": [
              "matrix([[0., 0., 1., ..., 0., 0., 0.],\n",
              "        [0., 0., 0., ..., 0., 0., 0.],\n",
              "        [1., 0., 0., ..., 1., 0., 1.],\n",
              "        ...,\n",
              "        [0., 0., 1., ..., 0., 0., 0.],\n",
              "        [0., 0., 0., ..., 0., 0., 0.],\n",
              "        [0., 0., 1., ..., 0., 0., 0.]])"
            ]
          },
          "metadata": {},
          "execution_count": 19
        }
      ]
    },
    {
      "cell_type": "code",
      "source": [
        "H=nx.from_numpy_matrix(A)\n",
        "H"
      ],
      "metadata": {
        "id": "CilPFK_MY6UL",
        "colab": {
          "base_uri": "https://localhost:8080/"
        },
        "outputId": "5b6d09ae-33fd-4559-bdbd-aaf0448062b1"
      },
      "execution_count": 20,
      "outputs": [
        {
          "output_type": "execute_result",
          "data": {
            "text/plain": [
              "<networkx.classes.graph.Graph at 0x7f05703b6970>"
            ]
          },
          "metadata": {},
          "execution_count": 20
        }
      ]
    },
    {
      "cell_type": "markdown",
      "source": [
        "### Construct a graph using stellargraph"
      ],
      "metadata": {
        "id": "qIxeFMjSi6KT"
      }
    },
    {
      "cell_type": "code",
      "source": [
        "square_feature_dataframe = StellarGraph.from_networkx(H, node_features=adjmat_df)\n",
        "print(square_feature_dataframe.info())"
      ],
      "metadata": {
        "id": "LiD0zna5tFfp",
        "colab": {
          "base_uri": "https://localhost:8080/"
        },
        "outputId": "1a23ae4a-2ba9-4b71-990e-71c153fbc390"
      },
      "execution_count": 21,
      "outputs": [
        {
          "output_type": "stream",
          "name": "stdout",
          "text": [
            "StellarGraph: Undirected multigraph\n",
            " Nodes: 2982, Edges: 1793526\n",
            "\n",
            " Node types:\n",
            "  default: [2982]\n",
            "    Features: float32 vector, length 2982\n",
            "    Edge types: default-default->default\n",
            "\n",
            " Edge types:\n",
            "    default-default->default: [1793526]\n",
            "        Weights: all 1 (default)\n",
            "        Features: none\n"
          ]
        }
      ]
    },
    {
      "cell_type": "code",
      "source": [
        "from stellargraph.mapper import (\n",
        "    CorruptedGenerator,\n",
        "    FullBatchNodeGenerator,\n",
        "    GraphSAGENodeGenerator,\n",
        "    HinSAGENodeGenerator,\n",
        "    ClusterNodeGenerator,\n",
        ")\n",
        "from stellargraph import StellarGraph\n",
        "from stellargraph.layer import GCN, DeepGraphInfomax, GraphSAGE, GAT, APPNP, HinSAGE\n",
        "\n",
        "from stellargraph import datasets\n",
        "from stellargraph.utils import plot_history\n",
        "\n",
        "import pandas as pd\n",
        "from matplotlib import pyplot as plt\n",
        "from sklearn import model_selection\n",
        "from sklearn.linear_model import LogisticRegression\n",
        "from sklearn.manifold import TSNE\n",
        "from IPython.display import display, HTML\n",
        "\n",
        "from tensorflow.keras.optimizers import Adam\n",
        "from tensorflow.keras.callbacks import EarlyStopping\n",
        "import tensorflow as tf\n",
        "from tensorflow.keras import Model"
      ],
      "metadata": {
        "id": "zFYxEqBOl_i5"
      },
      "execution_count": 22,
      "outputs": []
    },
    {
      "cell_type": "markdown",
      "source": [
        "### Creating the GAT model in Keras\n",
        "To feed data from the graph to the Keras model we need a generator. Since GAT is a full-batch model, we use the FullBatchNodeGenerator class to feed node features and graph adjacency matrix to the model."
      ],
      "metadata": {
        "id": "H9aQSiSctplt"
      }
    },
    {
      "cell_type": "code",
      "source": [
        "generator = FullBatchNodeGenerator(square_feature_dataframe, method=\"gat\")\n",
        "generator "
      ],
      "metadata": {
        "id": "OCoCgvF4bk3T",
        "colab": {
          "base_uri": "https://localhost:8080/"
        },
        "outputId": "14309dbd-abc9-4f71-e85a-168b3f254443"
      },
      "execution_count": 23,
      "outputs": [
        {
          "output_type": "execute_result",
          "data": {
            "text/plain": [
              "<stellargraph.mapper.full_batch_generators.FullBatchNodeGenerator at 0x7f0570464a90>"
            ]
          },
          "metadata": {},
          "execution_count": 23
        }
      ]
    },
    {
      "cell_type": "markdown",
      "source": [
        "### Converting label to numeric arrays\n",
        "For our categorical target, we will use one-hot vectors that will be fed into a soft-max Keras layer during training."
      ],
      "metadata": {
        "id": "ulifQr0atb7B"
      }
    },
    {
      "cell_type": "code",
      "source": [
        "target_encoding = preprocessing.LabelBinarizer()"
      ],
      "metadata": {
        "id": "IpWCWxSPrvN_"
      },
      "execution_count": 24,
      "outputs": []
    },
    {
      "cell_type": "code",
      "source": [
        "target = target_encoding.fit_transform(df['CLASS'])"
      ],
      "metadata": {
        "id": "jk5XE11LYqVj"
      },
      "execution_count": 25,
      "outputs": []
    },
    {
      "cell_type": "code",
      "source": [
        "target"
      ],
      "metadata": {
        "colab": {
          "base_uri": "https://localhost:8080/"
        },
        "id": "rUwtBppwc5jc",
        "outputId": "6c71c9c3-e628-4609-9bde-eee19ed656fc"
      },
      "execution_count": 26,
      "outputs": [
        {
          "output_type": "execute_result",
          "data": {
            "text/plain": [
              "array([[1],\n",
              "       [1],\n",
              "       [0],\n",
              "       ...,\n",
              "       [1],\n",
              "       [0],\n",
              "       [1]])"
            ]
          },
          "metadata": {},
          "execution_count": 26
        }
      ]
    },
    {
      "cell_type": "markdown",
      "source": [
        "### For training we map only the training nodes returned from our splitter and the target values."
      ],
      "metadata": {
        "id": "PyZ7cEXut3jd"
      }
    },
    {
      "cell_type": "code",
      "source": [
        "gen = generator.flow(df['CLASS'].index, target)\n",
        "gen"
      ],
      "metadata": {
        "colab": {
          "base_uri": "https://localhost:8080/"
        },
        "id": "gMqlu91DYeup",
        "outputId": "6e5f6e0c-4c57-4891-f621-fef19e830a0b"
      },
      "execution_count": 27,
      "outputs": [
        {
          "output_type": "execute_result",
          "data": {
            "text/plain": [
              "<stellargraph.mapper.sequences.SparseFullBatchSequence at 0x7f0570493940>"
            ]
          },
          "metadata": {},
          "execution_count": 27
        }
      ]
    },
    {
      "cell_type": "code",
      "source": [
        "target.shape[1]"
      ],
      "metadata": {
        "colab": {
          "base_uri": "https://localhost:8080/"
        },
        "id": "emXmqsDTdEfp",
        "outputId": "1ad88ad1-c6bd-4cb7-a97f-9310a25254c2"
      },
      "execution_count": 28,
      "outputs": [
        {
          "output_type": "execute_result",
          "data": {
            "text/plain": [
              "1"
            ]
          },
          "metadata": {},
          "execution_count": 28
        }
      ]
    },
    {
      "cell_type": "code",
      "source": [
        "df['CLASS'].shape"
      ],
      "metadata": {
        "colab": {
          "base_uri": "https://localhost:8080/"
        },
        "id": "Fo8NmizPW0JQ",
        "outputId": "79ed3035-65ea-474c-dc63-b6ebc938f4dc"
      },
      "execution_count": 29,
      "outputs": [
        {
          "output_type": "execute_result",
          "data": {
            "text/plain": [
              "(2982,)"
            ]
          },
          "metadata": {},
          "execution_count": 29
        }
      ]
    },
    {
      "cell_type": "code",
      "source": [
        "df['CLASS'].astype"
      ],
      "metadata": {
        "colab": {
          "base_uri": "https://localhost:8080/"
        },
        "id": "cyDUeBxqXlyO",
        "outputId": "b2e5b8fc-9279-4471-cec2-dc31b59e2dbc"
      },
      "execution_count": 30,
      "outputs": [
        {
          "output_type": "execute_result",
          "data": {
            "text/plain": [
              "<bound method NDFrame.astype of 0       1\n",
              "1       1\n",
              "2       0\n",
              "3       0\n",
              "4       1\n",
              "       ..\n",
              "2977    1\n",
              "2978    1\n",
              "2979    1\n",
              "2980    0\n",
              "2981    1\n",
              "Name: CLASS, Length: 2982, dtype: int64>"
            ]
          },
          "metadata": {},
          "execution_count": 30
        }
      ]
    },
    {
      "cell_type": "markdown",
      "source": [
        "### Build a GAT model"
      ],
      "metadata": {
        "id": "U9nngyYpuHSO"
      }
    },
    {
      "cell_type": "code",
      "source": [
        "gat = GAT(\n",
        "    layer_sizes=[4, target.shape[1]],\n",
        "    activations=[\"elu\", \"softmax\"],\n",
        "    attn_heads=8,\n",
        "    generator=generator,\n",
        "    in_dropout=0.5,\n",
        "    attn_dropout=0.5,\n",
        "    normalize=None,\n",
        ")"
      ],
      "metadata": {
        "id": "aJOyDRMvr8Wx"
      },
      "execution_count": 31,
      "outputs": []
    },
    {
      "cell_type": "markdown",
      "source": [
        "### The input and output tensors of the GAT model for node prediction, via GAT.in_out_tensors() method"
      ],
      "metadata": {
        "id": "RggkO-qFuSvt"
      }
    },
    {
      "cell_type": "code",
      "source": [
        "x_inp, predictions = gat.in_out_tensors()"
      ],
      "metadata": {
        "id": "MA-G0ACpr8bC"
      },
      "execution_count": 32,
      "outputs": []
    },
    {
      "cell_type": "code",
      "source": [
        "x_inp"
      ],
      "metadata": {
        "id": "HZgBvXLH-f1t",
        "colab": {
          "base_uri": "https://localhost:8080/"
        },
        "outputId": "38ef8b87-a875-4cba-cff7-8efa0b3b2ad9"
      },
      "execution_count": 33,
      "outputs": [
        {
          "output_type": "execute_result",
          "data": {
            "text/plain": [
              "[<KerasTensor: shape=(1, 2982, 2982) dtype=float32 (created by layer 'input_1')>,\n",
              " <KerasTensor: shape=(1, None) dtype=int32 (created by layer 'input_2')>,\n",
              " <KerasTensor: shape=(1, None, 2) dtype=int64 (created by layer 'input_3')>,\n",
              " <KerasTensor: shape=(1, None) dtype=float32 (created by layer 'input_4')>]"
            ]
          },
          "metadata": {},
          "execution_count": 33
        }
      ]
    },
    {
      "cell_type": "code",
      "source": [
        "predictions"
      ],
      "metadata": {
        "id": "nabDDtxz-0YI",
        "colab": {
          "base_uri": "https://localhost:8080/"
        },
        "outputId": "a25a4dec-46b5-40ed-b8be-df046f9c2d17"
      },
      "execution_count": 34,
      "outputs": [
        {
          "output_type": "execute_result",
          "data": {
            "text/plain": [
              "<KerasTensor: shape=(1, None, 1) dtype=float32 (created by layer 'lambda')>"
            ]
          },
          "metadata": {},
          "execution_count": 34
        }
      ]
    },
    {
      "cell_type": "markdown",
      "source": [
        "### Training the model"
      ],
      "metadata": {
        "id": "2UBg3Cx8ub_t"
      }
    },
    {
      "cell_type": "code",
      "source": [
        "model = Model(inputs=x_inp, outputs=predictions)"
      ],
      "metadata": {
        "id": "B-nGgvXwr8cy"
      },
      "execution_count": 35,
      "outputs": []
    },
    {
      "cell_type": "code",
      "source": [
        "model"
      ],
      "metadata": {
        "id": "YM-cQ0gH-291",
        "colab": {
          "base_uri": "https://localhost:8080/"
        },
        "outputId": "d5748034-e37c-46d3-cd1f-3d20889d6bff"
      },
      "execution_count": 36,
      "outputs": [
        {
          "output_type": "execute_result",
          "data": {
            "text/plain": [
              "<keras.engine.functional.Functional at 0x7f0528f2e0d0>"
            ]
          },
          "metadata": {},
          "execution_count": 36
        }
      ]
    },
    {
      "cell_type": "markdown",
      "source": [
        "### Node embeddings"
      ],
      "metadata": {
        "id": "4OL3FOnLuqiz"
      }
    },
    {
      "cell_type": "code",
      "source": [
        "all_nodes = df['CLASS'].index\n",
        "all_gen = generator.flow(all_nodes)"
      ],
      "metadata": {
        "id": "EIw7rhptsJ1z"
      },
      "execution_count": 37,
      "outputs": []
    },
    {
      "cell_type": "code",
      "source": [
        "all_nodes"
      ],
      "metadata": {
        "colab": {
          "base_uri": "https://localhost:8080/"
        },
        "id": "JfKh6L8eA-uE",
        "outputId": "9edbd487-a8cb-4325-9e36-1fbc29c6f92c"
      },
      "execution_count": 38,
      "outputs": [
        {
          "output_type": "execute_result",
          "data": {
            "text/plain": [
              "RangeIndex(start=0, stop=2982, step=1)"
            ]
          },
          "metadata": {},
          "execution_count": 38
        }
      ]
    },
    {
      "cell_type": "code",
      "source": [
        "all_gen"
      ],
      "metadata": {
        "colab": {
          "base_uri": "https://localhost:8080/"
        },
        "id": "d4DdRWgxBDQ9",
        "outputId": "45503f1a-f5f1-4357-81e7-9780256fc73a"
      },
      "execution_count": 39,
      "outputs": [
        {
          "output_type": "execute_result",
          "data": {
            "text/plain": [
              "<stellargraph.mapper.sequences.SparseFullBatchSequence at 0x7f0547b6d4f0>"
            ]
          },
          "metadata": {},
          "execution_count": 39
        }
      ]
    },
    {
      "cell_type": "code",
      "source": [
        "emb_layer = next(l for l in model.layers if l.name.startswith(\"graph_attention\"))\n",
        "print(\n",
        "    \"Embedding layer: {}, output shape {}\".format(emb_layer.name, emb_layer.output_shape)\n",
        ")"
      ],
      "metadata": {
        "id": "uijVoenOsJ6F",
        "colab": {
          "base_uri": "https://localhost:8080/"
        },
        "outputId": "57d2c007-3f55-4678-f356-394adeb2e256"
      },
      "execution_count": 40,
      "outputs": [
        {
          "output_type": "stream",
          "name": "stdout",
          "text": [
            "Embedding layer: graph_attention_sparse, output shape (1, 2982, 32)\n"
          ]
        }
      ]
    },
    {
      "cell_type": "code",
      "source": [
        "emb_layer"
      ],
      "metadata": {
        "colab": {
          "base_uri": "https://localhost:8080/"
        },
        "id": "hpCJz9ahA8HZ",
        "outputId": "d0f1a23d-4d38-4a42-a8f7-085aa457143f"
      },
      "execution_count": 41,
      "outputs": [
        {
          "output_type": "execute_result",
          "data": {
            "text/plain": [
              "<stellargraph.layer.graph_attention.GraphAttentionSparse at 0x7f05dc0761f0>"
            ]
          },
          "metadata": {},
          "execution_count": 41
        }
      ]
    },
    {
      "cell_type": "code",
      "source": [
        "embedding_model = Model(inputs=x_inp, outputs=emb_layer.output)"
      ],
      "metadata": {
        "id": "deAE1SAlr8jo"
      },
      "execution_count": 42,
      "outputs": []
    },
    {
      "cell_type": "code",
      "source": [
        "emb = embedding_model.predict(all_gen)\n",
        "emb.shape"
      ],
      "metadata": {
        "id": "YdLTZZjEvKlw",
        "colab": {
          "base_uri": "https://localhost:8080/"
        },
        "outputId": "e39feb78-ef15-424e-b16f-6caa3d106688"
      },
      "execution_count": 43,
      "outputs": [
        {
          "output_type": "stream",
          "name": "stdout",
          "text": [
            "1/1 [==============================] - 4s 4s/step\n"
          ]
        },
        {
          "output_type": "execute_result",
          "data": {
            "text/plain": [
              "(1, 2982, 32)"
            ]
          },
          "metadata": {},
          "execution_count": 43
        }
      ]
    },
    {
      "cell_type": "code",
      "source": [
        "emb"
      ],
      "metadata": {
        "id": "RFK2I0dtvKnz",
        "colab": {
          "base_uri": "https://localhost:8080/"
        },
        "outputId": "61f0db75-d92d-4081-d120-015ccd057311"
      },
      "execution_count": 44,
      "outputs": [
        {
          "output_type": "execute_result",
          "data": {
            "text/plain": [
              "array([[[-0.38527673,  0.7153157 , -0.9036149 , ...,  0.7272412 ,\n",
              "         -0.55312836,  0.22020592],\n",
              "        [-0.64035845,  0.74972385, -0.91031325, ...,  1.1608593 ,\n",
              "         -0.73762417,  0.20866662],\n",
              "        [-0.6473155 ,  0.8373362 , -0.8501607 , ...,  0.13752405,\n",
              "         -0.22161078,  0.24726176],\n",
              "        ...,\n",
              "        [-0.45787203,  0.70361954, -0.91637975, ...,  0.94050956,\n",
              "         -0.63040173,  0.4087095 ],\n",
              "        [-0.6883161 ,  0.6834643 , -0.9079898 , ...,  0.8884238 ,\n",
              "         -0.6615547 , -0.00774807],\n",
              "        [-0.5273545 ,  0.8289879 , -0.9106792 , ...,  1.0198805 ,\n",
              "         -0.66448426,  0.19411992]]], dtype=float32)"
            ]
          },
          "metadata": {},
          "execution_count": 44
        }
      ]
    },
    {
      "cell_type": "code",
      "source": [
        " w = emb.reshape(2982, 32)\n",
        " w"
      ],
      "metadata": {
        "id": "jSbH2OkH3Tkr",
        "colab": {
          "base_uri": "https://localhost:8080/"
        },
        "outputId": "1afdff01-e84f-4f5d-f860-b8c34d53d9f4"
      },
      "execution_count": 45,
      "outputs": [
        {
          "output_type": "execute_result",
          "data": {
            "text/plain": [
              "array([[-0.38527673,  0.7153157 , -0.9036149 , ...,  0.7272412 ,\n",
              "        -0.55312836,  0.22020592],\n",
              "       [-0.64035845,  0.74972385, -0.91031325, ...,  1.1608593 ,\n",
              "        -0.73762417,  0.20866662],\n",
              "       [-0.6473155 ,  0.8373362 , -0.8501607 , ...,  0.13752405,\n",
              "        -0.22161078,  0.24726176],\n",
              "       ...,\n",
              "       [-0.45787203,  0.70361954, -0.91637975, ...,  0.94050956,\n",
              "        -0.63040173,  0.4087095 ],\n",
              "       [-0.6883161 ,  0.6834643 , -0.9079898 , ...,  0.8884238 ,\n",
              "        -0.6615547 , -0.00774807],\n",
              "       [-0.5273545 ,  0.8289879 , -0.9106792 , ...,  1.0198805 ,\n",
              "        -0.66448426,  0.19411992]], dtype=float32)"
            ]
          },
          "metadata": {},
          "execution_count": 45
        }
      ]
    },
    {
      "cell_type": "code",
      "source": [
        "node_emb = pd.DataFrame(w)\n",
        "node_emb"
      ],
      "metadata": {
        "id": "y370irl93Tml",
        "colab": {
          "base_uri": "https://localhost:8080/",
          "height": 488
        },
        "outputId": "1888bf1c-28f2-4345-9377-0b22ec1f84c0"
      },
      "execution_count": 46,
      "outputs": [
        {
          "output_type": "execute_result",
          "data": {
            "text/plain": [
              "            0         1         2         3         4         5         6   \\\n",
              "0    -0.385277  0.715316 -0.903615  0.569597  0.909326 -0.480350  0.475065   \n",
              "1    -0.640358  0.749724 -0.910313  0.686850  1.114133 -0.356935  0.788133   \n",
              "2    -0.647316  0.837336 -0.850161  0.681651  0.988778 -0.215474  0.255723   \n",
              "3    -0.608834  0.732547 -0.804777  0.554463  0.863906 -0.189742  0.245152   \n",
              "4    -0.659649  0.760624 -0.893684  0.631897  0.917104 -0.302396  0.654995   \n",
              "...        ...       ...       ...       ...       ...       ...       ...   \n",
              "2977 -0.647316  0.837336 -0.850161  0.681651  0.988778 -0.215474  0.255723   \n",
              "2978 -0.399966  0.615459 -0.883519  0.576336  0.942799 -0.358130  0.683987   \n",
              "2979 -0.457872  0.703620 -0.916380  0.609820  1.026346 -0.505827  0.731779   \n",
              "2980 -0.688316  0.683464 -0.907990  0.609243  0.993373 -0.345146  0.805562   \n",
              "2981 -0.527354  0.828988 -0.910679  0.583083  1.017251 -0.394150  0.870265   \n",
              "\n",
              "            7         8         9   ...        22        23        24  \\\n",
              "0    -0.019441  0.418944 -0.123706  ... -0.044206 -0.804639 -0.452501   \n",
              "1    -0.531714 -0.031345  0.336387  ... -0.040397 -0.860080 -0.401332   \n",
              "2    -0.216033  0.283634  0.167947  ...  0.047163 -0.673583 -0.304413   \n",
              "3    -0.108997  0.356811  0.020870  ...  0.060307 -0.641565 -0.319507   \n",
              "4    -0.399514  0.248018 -0.049401  ...  0.060611 -0.750389 -0.442866   \n",
              "...        ...       ...       ...  ...       ...       ...       ...   \n",
              "2977 -0.216033  0.283634  0.167947  ...  0.047163 -0.673583 -0.304413   \n",
              "2978 -0.330077  0.406368 -0.014734  ... -0.079929 -0.803864 -0.570279   \n",
              "2979 -0.271467  0.422501 -0.043889  ... -0.007538 -0.828837 -0.513248   \n",
              "2980 -0.460633  0.015701  0.135131  ...  0.100457 -0.830017 -0.555280   \n",
              "2981 -0.326930  0.367518  0.168474  ... -0.045983 -0.809443 -0.623229   \n",
              "\n",
              "            25        26        27        28        29        30        31  \n",
              "0    -0.267746  0.036515  1.109712  0.807389  0.727241 -0.553128  0.220206  \n",
              "1    -0.566356  0.075470  2.273831  1.206020  1.160859 -0.737624  0.208667  \n",
              "2     0.049260  0.138724  0.610933  0.632354  0.137524 -0.221611  0.247262  \n",
              "3     0.006202  0.187010  0.604423  0.662682  0.254368 -0.304812  0.137939  \n",
              "4    -0.217587  0.173289  1.165948  0.865764  0.612923 -0.465146  0.184582  \n",
              "...        ...       ...       ...       ...       ...       ...       ...  \n",
              "2977  0.049260  0.138724  0.610933  0.632354  0.137524 -0.221611  0.247262  \n",
              "2978 -0.290033  0.077163  1.054254  0.930060  0.877765 -0.569388  0.242267  \n",
              "2979 -0.318615 -0.106112  1.358014  0.941849  0.940510 -0.630402  0.408709  \n",
              "2980 -0.403823  0.242766  1.490108  1.113169  0.888424 -0.661555 -0.007748  \n",
              "2981 -0.276926  0.094541  1.158194  1.037291  1.019881 -0.664484  0.194120  \n",
              "\n",
              "[2982 rows x 32 columns]"
            ],
            "text/html": [
              "\n",
              "  <div id=\"df-8ce25a19-524e-467d-a7bf-69c17a80fc71\">\n",
              "    <div class=\"colab-df-container\">\n",
              "      <div>\n",
              "<style scoped>\n",
              "    .dataframe tbody tr th:only-of-type {\n",
              "        vertical-align: middle;\n",
              "    }\n",
              "\n",
              "    .dataframe tbody tr th {\n",
              "        vertical-align: top;\n",
              "    }\n",
              "\n",
              "    .dataframe thead th {\n",
              "        text-align: right;\n",
              "    }\n",
              "</style>\n",
              "<table border=\"1\" class=\"dataframe\">\n",
              "  <thead>\n",
              "    <tr style=\"text-align: right;\">\n",
              "      <th></th>\n",
              "      <th>0</th>\n",
              "      <th>1</th>\n",
              "      <th>2</th>\n",
              "      <th>3</th>\n",
              "      <th>4</th>\n",
              "      <th>5</th>\n",
              "      <th>6</th>\n",
              "      <th>7</th>\n",
              "      <th>8</th>\n",
              "      <th>9</th>\n",
              "      <th>...</th>\n",
              "      <th>22</th>\n",
              "      <th>23</th>\n",
              "      <th>24</th>\n",
              "      <th>25</th>\n",
              "      <th>26</th>\n",
              "      <th>27</th>\n",
              "      <th>28</th>\n",
              "      <th>29</th>\n",
              "      <th>30</th>\n",
              "      <th>31</th>\n",
              "    </tr>\n",
              "  </thead>\n",
              "  <tbody>\n",
              "    <tr>\n",
              "      <th>0</th>\n",
              "      <td>-0.385277</td>\n",
              "      <td>0.715316</td>\n",
              "      <td>-0.903615</td>\n",
              "      <td>0.569597</td>\n",
              "      <td>0.909326</td>\n",
              "      <td>-0.480350</td>\n",
              "      <td>0.475065</td>\n",
              "      <td>-0.019441</td>\n",
              "      <td>0.418944</td>\n",
              "      <td>-0.123706</td>\n",
              "      <td>...</td>\n",
              "      <td>-0.044206</td>\n",
              "      <td>-0.804639</td>\n",
              "      <td>-0.452501</td>\n",
              "      <td>-0.267746</td>\n",
              "      <td>0.036515</td>\n",
              "      <td>1.109712</td>\n",
              "      <td>0.807389</td>\n",
              "      <td>0.727241</td>\n",
              "      <td>-0.553128</td>\n",
              "      <td>0.220206</td>\n",
              "    </tr>\n",
              "    <tr>\n",
              "      <th>1</th>\n",
              "      <td>-0.640358</td>\n",
              "      <td>0.749724</td>\n",
              "      <td>-0.910313</td>\n",
              "      <td>0.686850</td>\n",
              "      <td>1.114133</td>\n",
              "      <td>-0.356935</td>\n",
              "      <td>0.788133</td>\n",
              "      <td>-0.531714</td>\n",
              "      <td>-0.031345</td>\n",
              "      <td>0.336387</td>\n",
              "      <td>...</td>\n",
              "      <td>-0.040397</td>\n",
              "      <td>-0.860080</td>\n",
              "      <td>-0.401332</td>\n",
              "      <td>-0.566356</td>\n",
              "      <td>0.075470</td>\n",
              "      <td>2.273831</td>\n",
              "      <td>1.206020</td>\n",
              "      <td>1.160859</td>\n",
              "      <td>-0.737624</td>\n",
              "      <td>0.208667</td>\n",
              "    </tr>\n",
              "    <tr>\n",
              "      <th>2</th>\n",
              "      <td>-0.647316</td>\n",
              "      <td>0.837336</td>\n",
              "      <td>-0.850161</td>\n",
              "      <td>0.681651</td>\n",
              "      <td>0.988778</td>\n",
              "      <td>-0.215474</td>\n",
              "      <td>0.255723</td>\n",
              "      <td>-0.216033</td>\n",
              "      <td>0.283634</td>\n",
              "      <td>0.167947</td>\n",
              "      <td>...</td>\n",
              "      <td>0.047163</td>\n",
              "      <td>-0.673583</td>\n",
              "      <td>-0.304413</td>\n",
              "      <td>0.049260</td>\n",
              "      <td>0.138724</td>\n",
              "      <td>0.610933</td>\n",
              "      <td>0.632354</td>\n",
              "      <td>0.137524</td>\n",
              "      <td>-0.221611</td>\n",
              "      <td>0.247262</td>\n",
              "    </tr>\n",
              "    <tr>\n",
              "      <th>3</th>\n",
              "      <td>-0.608834</td>\n",
              "      <td>0.732547</td>\n",
              "      <td>-0.804777</td>\n",
              "      <td>0.554463</td>\n",
              "      <td>0.863906</td>\n",
              "      <td>-0.189742</td>\n",
              "      <td>0.245152</td>\n",
              "      <td>-0.108997</td>\n",
              "      <td>0.356811</td>\n",
              "      <td>0.020870</td>\n",
              "      <td>...</td>\n",
              "      <td>0.060307</td>\n",
              "      <td>-0.641565</td>\n",
              "      <td>-0.319507</td>\n",
              "      <td>0.006202</td>\n",
              "      <td>0.187010</td>\n",
              "      <td>0.604423</td>\n",
              "      <td>0.662682</td>\n",
              "      <td>0.254368</td>\n",
              "      <td>-0.304812</td>\n",
              "      <td>0.137939</td>\n",
              "    </tr>\n",
              "    <tr>\n",
              "      <th>4</th>\n",
              "      <td>-0.659649</td>\n",
              "      <td>0.760624</td>\n",
              "      <td>-0.893684</td>\n",
              "      <td>0.631897</td>\n",
              "      <td>0.917104</td>\n",
              "      <td>-0.302396</td>\n",
              "      <td>0.654995</td>\n",
              "      <td>-0.399514</td>\n",
              "      <td>0.248018</td>\n",
              "      <td>-0.049401</td>\n",
              "      <td>...</td>\n",
              "      <td>0.060611</td>\n",
              "      <td>-0.750389</td>\n",
              "      <td>-0.442866</td>\n",
              "      <td>-0.217587</td>\n",
              "      <td>0.173289</td>\n",
              "      <td>1.165948</td>\n",
              "      <td>0.865764</td>\n",
              "      <td>0.612923</td>\n",
              "      <td>-0.465146</td>\n",
              "      <td>0.184582</td>\n",
              "    </tr>\n",
              "    <tr>\n",
              "      <th>...</th>\n",
              "      <td>...</td>\n",
              "      <td>...</td>\n",
              "      <td>...</td>\n",
              "      <td>...</td>\n",
              "      <td>...</td>\n",
              "      <td>...</td>\n",
              "      <td>...</td>\n",
              "      <td>...</td>\n",
              "      <td>...</td>\n",
              "      <td>...</td>\n",
              "      <td>...</td>\n",
              "      <td>...</td>\n",
              "      <td>...</td>\n",
              "      <td>...</td>\n",
              "      <td>...</td>\n",
              "      <td>...</td>\n",
              "      <td>...</td>\n",
              "      <td>...</td>\n",
              "      <td>...</td>\n",
              "      <td>...</td>\n",
              "      <td>...</td>\n",
              "    </tr>\n",
              "    <tr>\n",
              "      <th>2977</th>\n",
              "      <td>-0.647316</td>\n",
              "      <td>0.837336</td>\n",
              "      <td>-0.850161</td>\n",
              "      <td>0.681651</td>\n",
              "      <td>0.988778</td>\n",
              "      <td>-0.215474</td>\n",
              "      <td>0.255723</td>\n",
              "      <td>-0.216033</td>\n",
              "      <td>0.283634</td>\n",
              "      <td>0.167947</td>\n",
              "      <td>...</td>\n",
              "      <td>0.047163</td>\n",
              "      <td>-0.673583</td>\n",
              "      <td>-0.304413</td>\n",
              "      <td>0.049260</td>\n",
              "      <td>0.138724</td>\n",
              "      <td>0.610933</td>\n",
              "      <td>0.632354</td>\n",
              "      <td>0.137524</td>\n",
              "      <td>-0.221611</td>\n",
              "      <td>0.247262</td>\n",
              "    </tr>\n",
              "    <tr>\n",
              "      <th>2978</th>\n",
              "      <td>-0.399966</td>\n",
              "      <td>0.615459</td>\n",
              "      <td>-0.883519</td>\n",
              "      <td>0.576336</td>\n",
              "      <td>0.942799</td>\n",
              "      <td>-0.358130</td>\n",
              "      <td>0.683987</td>\n",
              "      <td>-0.330077</td>\n",
              "      <td>0.406368</td>\n",
              "      <td>-0.014734</td>\n",
              "      <td>...</td>\n",
              "      <td>-0.079929</td>\n",
              "      <td>-0.803864</td>\n",
              "      <td>-0.570279</td>\n",
              "      <td>-0.290033</td>\n",
              "      <td>0.077163</td>\n",
              "      <td>1.054254</td>\n",
              "      <td>0.930060</td>\n",
              "      <td>0.877765</td>\n",
              "      <td>-0.569388</td>\n",
              "      <td>0.242267</td>\n",
              "    </tr>\n",
              "    <tr>\n",
              "      <th>2979</th>\n",
              "      <td>-0.457872</td>\n",
              "      <td>0.703620</td>\n",
              "      <td>-0.916380</td>\n",
              "      <td>0.609820</td>\n",
              "      <td>1.026346</td>\n",
              "      <td>-0.505827</td>\n",
              "      <td>0.731779</td>\n",
              "      <td>-0.271467</td>\n",
              "      <td>0.422501</td>\n",
              "      <td>-0.043889</td>\n",
              "      <td>...</td>\n",
              "      <td>-0.007538</td>\n",
              "      <td>-0.828837</td>\n",
              "      <td>-0.513248</td>\n",
              "      <td>-0.318615</td>\n",
              "      <td>-0.106112</td>\n",
              "      <td>1.358014</td>\n",
              "      <td>0.941849</td>\n",
              "      <td>0.940510</td>\n",
              "      <td>-0.630402</td>\n",
              "      <td>0.408709</td>\n",
              "    </tr>\n",
              "    <tr>\n",
              "      <th>2980</th>\n",
              "      <td>-0.688316</td>\n",
              "      <td>0.683464</td>\n",
              "      <td>-0.907990</td>\n",
              "      <td>0.609243</td>\n",
              "      <td>0.993373</td>\n",
              "      <td>-0.345146</td>\n",
              "      <td>0.805562</td>\n",
              "      <td>-0.460633</td>\n",
              "      <td>0.015701</td>\n",
              "      <td>0.135131</td>\n",
              "      <td>...</td>\n",
              "      <td>0.100457</td>\n",
              "      <td>-0.830017</td>\n",
              "      <td>-0.555280</td>\n",
              "      <td>-0.403823</td>\n",
              "      <td>0.242766</td>\n",
              "      <td>1.490108</td>\n",
              "      <td>1.113169</td>\n",
              "      <td>0.888424</td>\n",
              "      <td>-0.661555</td>\n",
              "      <td>-0.007748</td>\n",
              "    </tr>\n",
              "    <tr>\n",
              "      <th>2981</th>\n",
              "      <td>-0.527354</td>\n",
              "      <td>0.828988</td>\n",
              "      <td>-0.910679</td>\n",
              "      <td>0.583083</td>\n",
              "      <td>1.017251</td>\n",
              "      <td>-0.394150</td>\n",
              "      <td>0.870265</td>\n",
              "      <td>-0.326930</td>\n",
              "      <td>0.367518</td>\n",
              "      <td>0.168474</td>\n",
              "      <td>...</td>\n",
              "      <td>-0.045983</td>\n",
              "      <td>-0.809443</td>\n",
              "      <td>-0.623229</td>\n",
              "      <td>-0.276926</td>\n",
              "      <td>0.094541</td>\n",
              "      <td>1.158194</td>\n",
              "      <td>1.037291</td>\n",
              "      <td>1.019881</td>\n",
              "      <td>-0.664484</td>\n",
              "      <td>0.194120</td>\n",
              "    </tr>\n",
              "  </tbody>\n",
              "</table>\n",
              "<p>2982 rows × 32 columns</p>\n",
              "</div>\n",
              "      <button class=\"colab-df-convert\" onclick=\"convertToInteractive('df-8ce25a19-524e-467d-a7bf-69c17a80fc71')\"\n",
              "              title=\"Convert this dataframe to an interactive table.\"\n",
              "              style=\"display:none;\">\n",
              "        \n",
              "  <svg xmlns=\"http://www.w3.org/2000/svg\" height=\"24px\"viewBox=\"0 0 24 24\"\n",
              "       width=\"24px\">\n",
              "    <path d=\"M0 0h24v24H0V0z\" fill=\"none\"/>\n",
              "    <path d=\"M18.56 5.44l.94 2.06.94-2.06 2.06-.94-2.06-.94-.94-2.06-.94 2.06-2.06.94zm-11 1L8.5 8.5l.94-2.06 2.06-.94-2.06-.94L8.5 2.5l-.94 2.06-2.06.94zm10 10l.94 2.06.94-2.06 2.06-.94-2.06-.94-.94-2.06-.94 2.06-2.06.94z\"/><path d=\"M17.41 7.96l-1.37-1.37c-.4-.4-.92-.59-1.43-.59-.52 0-1.04.2-1.43.59L10.3 9.45l-7.72 7.72c-.78.78-.78 2.05 0 2.83L4 21.41c.39.39.9.59 1.41.59.51 0 1.02-.2 1.41-.59l7.78-7.78 2.81-2.81c.8-.78.8-2.07 0-2.86zM5.41 20L4 18.59l7.72-7.72 1.47 1.35L5.41 20z\"/>\n",
              "  </svg>\n",
              "      </button>\n",
              "      \n",
              "  <style>\n",
              "    .colab-df-container {\n",
              "      display:flex;\n",
              "      flex-wrap:wrap;\n",
              "      gap: 12px;\n",
              "    }\n",
              "\n",
              "    .colab-df-convert {\n",
              "      background-color: #E8F0FE;\n",
              "      border: none;\n",
              "      border-radius: 50%;\n",
              "      cursor: pointer;\n",
              "      display: none;\n",
              "      fill: #1967D2;\n",
              "      height: 32px;\n",
              "      padding: 0 0 0 0;\n",
              "      width: 32px;\n",
              "    }\n",
              "\n",
              "    .colab-df-convert:hover {\n",
              "      background-color: #E2EBFA;\n",
              "      box-shadow: 0px 1px 2px rgba(60, 64, 67, 0.3), 0px 1px 3px 1px rgba(60, 64, 67, 0.15);\n",
              "      fill: #174EA6;\n",
              "    }\n",
              "\n",
              "    [theme=dark] .colab-df-convert {\n",
              "      background-color: #3B4455;\n",
              "      fill: #D2E3FC;\n",
              "    }\n",
              "\n",
              "    [theme=dark] .colab-df-convert:hover {\n",
              "      background-color: #434B5C;\n",
              "      box-shadow: 0px 1px 3px 1px rgba(0, 0, 0, 0.15);\n",
              "      filter: drop-shadow(0px 1px 2px rgba(0, 0, 0, 0.3));\n",
              "      fill: #FFFFFF;\n",
              "    }\n",
              "  </style>\n",
              "\n",
              "      <script>\n",
              "        const buttonEl =\n",
              "          document.querySelector('#df-8ce25a19-524e-467d-a7bf-69c17a80fc71 button.colab-df-convert');\n",
              "        buttonEl.style.display =\n",
              "          google.colab.kernel.accessAllowed ? 'block' : 'none';\n",
              "\n",
              "        async function convertToInteractive(key) {\n",
              "          const element = document.querySelector('#df-8ce25a19-524e-467d-a7bf-69c17a80fc71');\n",
              "          const dataTable =\n",
              "            await google.colab.kernel.invokeFunction('convertToInteractive',\n",
              "                                                     [key], {});\n",
              "          if (!dataTable) return;\n",
              "\n",
              "          const docLinkHtml = 'Like what you see? Visit the ' +\n",
              "            '<a target=\"_blank\" href=https://colab.research.google.com/notebooks/data_table.ipynb>data table notebook</a>'\n",
              "            + ' to learn more about interactive tables.';\n",
              "          element.innerHTML = '';\n",
              "          dataTable['output_type'] = 'display_data';\n",
              "          await google.colab.output.renderOutput(dataTable, element);\n",
              "          const docLink = document.createElement('div');\n",
              "          docLink.innerHTML = docLinkHtml;\n",
              "          element.appendChild(docLink);\n",
              "        }\n",
              "      </script>\n",
              "    </div>\n",
              "  </div>\n",
              "  "
            ]
          },
          "metadata": {},
          "execution_count": 46
        }
      ]
    },
    {
      "cell_type": "code",
      "source": [
        "node_emb['Class']=node_Class"
      ],
      "metadata": {
        "id": "WRUybyHK3TrB"
      },
      "execution_count": 47,
      "outputs": []
    },
    {
      "cell_type": "code",
      "source": [
        "node_emb"
      ],
      "metadata": {
        "id": "B5C1BTjy3Ts1",
        "colab": {
          "base_uri": "https://localhost:8080/",
          "height": 488
        },
        "outputId": "4fae70a2-d1c9-4aa1-e1c5-791b961f5d96"
      },
      "execution_count": 48,
      "outputs": [
        {
          "output_type": "execute_result",
          "data": {
            "text/plain": [
              "             0         1         2         3         4         5         6  \\\n",
              "0    -0.385277  0.715316 -0.903615  0.569597  0.909326 -0.480350  0.475065   \n",
              "1    -0.640358  0.749724 -0.910313  0.686850  1.114133 -0.356935  0.788133   \n",
              "2    -0.647316  0.837336 -0.850161  0.681651  0.988778 -0.215474  0.255723   \n",
              "3    -0.608834  0.732547 -0.804777  0.554463  0.863906 -0.189742  0.245152   \n",
              "4    -0.659649  0.760624 -0.893684  0.631897  0.917104 -0.302396  0.654995   \n",
              "...        ...       ...       ...       ...       ...       ...       ...   \n",
              "2977 -0.647316  0.837336 -0.850161  0.681651  0.988778 -0.215474  0.255723   \n",
              "2978 -0.399966  0.615459 -0.883519  0.576336  0.942799 -0.358130  0.683987   \n",
              "2979 -0.457872  0.703620 -0.916380  0.609820  1.026346 -0.505827  0.731779   \n",
              "2980 -0.688316  0.683464 -0.907990  0.609243  0.993373 -0.345146  0.805562   \n",
              "2981 -0.527354  0.828988 -0.910679  0.583083  1.017251 -0.394150  0.870265   \n",
              "\n",
              "             7         8         9  ...        23        24        25  \\\n",
              "0    -0.019441  0.418944 -0.123706  ... -0.804639 -0.452501 -0.267746   \n",
              "1    -0.531714 -0.031345  0.336387  ... -0.860080 -0.401332 -0.566356   \n",
              "2    -0.216033  0.283634  0.167947  ... -0.673583 -0.304413  0.049260   \n",
              "3    -0.108997  0.356811  0.020870  ... -0.641565 -0.319507  0.006202   \n",
              "4    -0.399514  0.248018 -0.049401  ... -0.750389 -0.442866 -0.217587   \n",
              "...        ...       ...       ...  ...       ...       ...       ...   \n",
              "2977 -0.216033  0.283634  0.167947  ... -0.673583 -0.304413  0.049260   \n",
              "2978 -0.330077  0.406368 -0.014734  ... -0.803864 -0.570279 -0.290033   \n",
              "2979 -0.271467  0.422501 -0.043889  ... -0.828837 -0.513248 -0.318615   \n",
              "2980 -0.460633  0.015701  0.135131  ... -0.830017 -0.555280 -0.403823   \n",
              "2981 -0.326930  0.367518  0.168474  ... -0.809443 -0.623229 -0.276926   \n",
              "\n",
              "            26        27        28        29        30        31  Class  \n",
              "0     0.036515  1.109712  0.807389  0.727241 -0.553128  0.220206      1  \n",
              "1     0.075470  2.273831  1.206020  1.160859 -0.737624  0.208667      1  \n",
              "2     0.138724  0.610933  0.632354  0.137524 -0.221611  0.247262      0  \n",
              "3     0.187010  0.604423  0.662682  0.254368 -0.304812  0.137939      0  \n",
              "4     0.173289  1.165948  0.865764  0.612923 -0.465146  0.184582      1  \n",
              "...        ...       ...       ...       ...       ...       ...    ...  \n",
              "2977  0.138724  0.610933  0.632354  0.137524 -0.221611  0.247262      1  \n",
              "2978  0.077163  1.054254  0.930060  0.877765 -0.569388  0.242267      1  \n",
              "2979 -0.106112  1.358014  0.941849  0.940510 -0.630402  0.408709      1  \n",
              "2980  0.242766  1.490108  1.113169  0.888424 -0.661555 -0.007748      0  \n",
              "2981  0.094541  1.158194  1.037291  1.019881 -0.664484  0.194120      1  \n",
              "\n",
              "[2982 rows x 33 columns]"
            ],
            "text/html": [
              "\n",
              "  <div id=\"df-127a66a3-9d16-4baa-9cdd-924d5cfdef13\">\n",
              "    <div class=\"colab-df-container\">\n",
              "      <div>\n",
              "<style scoped>\n",
              "    .dataframe tbody tr th:only-of-type {\n",
              "        vertical-align: middle;\n",
              "    }\n",
              "\n",
              "    .dataframe tbody tr th {\n",
              "        vertical-align: top;\n",
              "    }\n",
              "\n",
              "    .dataframe thead th {\n",
              "        text-align: right;\n",
              "    }\n",
              "</style>\n",
              "<table border=\"1\" class=\"dataframe\">\n",
              "  <thead>\n",
              "    <tr style=\"text-align: right;\">\n",
              "      <th></th>\n",
              "      <th>0</th>\n",
              "      <th>1</th>\n",
              "      <th>2</th>\n",
              "      <th>3</th>\n",
              "      <th>4</th>\n",
              "      <th>5</th>\n",
              "      <th>6</th>\n",
              "      <th>7</th>\n",
              "      <th>8</th>\n",
              "      <th>9</th>\n",
              "      <th>...</th>\n",
              "      <th>23</th>\n",
              "      <th>24</th>\n",
              "      <th>25</th>\n",
              "      <th>26</th>\n",
              "      <th>27</th>\n",
              "      <th>28</th>\n",
              "      <th>29</th>\n",
              "      <th>30</th>\n",
              "      <th>31</th>\n",
              "      <th>Class</th>\n",
              "    </tr>\n",
              "  </thead>\n",
              "  <tbody>\n",
              "    <tr>\n",
              "      <th>0</th>\n",
              "      <td>-0.385277</td>\n",
              "      <td>0.715316</td>\n",
              "      <td>-0.903615</td>\n",
              "      <td>0.569597</td>\n",
              "      <td>0.909326</td>\n",
              "      <td>-0.480350</td>\n",
              "      <td>0.475065</td>\n",
              "      <td>-0.019441</td>\n",
              "      <td>0.418944</td>\n",
              "      <td>-0.123706</td>\n",
              "      <td>...</td>\n",
              "      <td>-0.804639</td>\n",
              "      <td>-0.452501</td>\n",
              "      <td>-0.267746</td>\n",
              "      <td>0.036515</td>\n",
              "      <td>1.109712</td>\n",
              "      <td>0.807389</td>\n",
              "      <td>0.727241</td>\n",
              "      <td>-0.553128</td>\n",
              "      <td>0.220206</td>\n",
              "      <td>1</td>\n",
              "    </tr>\n",
              "    <tr>\n",
              "      <th>1</th>\n",
              "      <td>-0.640358</td>\n",
              "      <td>0.749724</td>\n",
              "      <td>-0.910313</td>\n",
              "      <td>0.686850</td>\n",
              "      <td>1.114133</td>\n",
              "      <td>-0.356935</td>\n",
              "      <td>0.788133</td>\n",
              "      <td>-0.531714</td>\n",
              "      <td>-0.031345</td>\n",
              "      <td>0.336387</td>\n",
              "      <td>...</td>\n",
              "      <td>-0.860080</td>\n",
              "      <td>-0.401332</td>\n",
              "      <td>-0.566356</td>\n",
              "      <td>0.075470</td>\n",
              "      <td>2.273831</td>\n",
              "      <td>1.206020</td>\n",
              "      <td>1.160859</td>\n",
              "      <td>-0.737624</td>\n",
              "      <td>0.208667</td>\n",
              "      <td>1</td>\n",
              "    </tr>\n",
              "    <tr>\n",
              "      <th>2</th>\n",
              "      <td>-0.647316</td>\n",
              "      <td>0.837336</td>\n",
              "      <td>-0.850161</td>\n",
              "      <td>0.681651</td>\n",
              "      <td>0.988778</td>\n",
              "      <td>-0.215474</td>\n",
              "      <td>0.255723</td>\n",
              "      <td>-0.216033</td>\n",
              "      <td>0.283634</td>\n",
              "      <td>0.167947</td>\n",
              "      <td>...</td>\n",
              "      <td>-0.673583</td>\n",
              "      <td>-0.304413</td>\n",
              "      <td>0.049260</td>\n",
              "      <td>0.138724</td>\n",
              "      <td>0.610933</td>\n",
              "      <td>0.632354</td>\n",
              "      <td>0.137524</td>\n",
              "      <td>-0.221611</td>\n",
              "      <td>0.247262</td>\n",
              "      <td>0</td>\n",
              "    </tr>\n",
              "    <tr>\n",
              "      <th>3</th>\n",
              "      <td>-0.608834</td>\n",
              "      <td>0.732547</td>\n",
              "      <td>-0.804777</td>\n",
              "      <td>0.554463</td>\n",
              "      <td>0.863906</td>\n",
              "      <td>-0.189742</td>\n",
              "      <td>0.245152</td>\n",
              "      <td>-0.108997</td>\n",
              "      <td>0.356811</td>\n",
              "      <td>0.020870</td>\n",
              "      <td>...</td>\n",
              "      <td>-0.641565</td>\n",
              "      <td>-0.319507</td>\n",
              "      <td>0.006202</td>\n",
              "      <td>0.187010</td>\n",
              "      <td>0.604423</td>\n",
              "      <td>0.662682</td>\n",
              "      <td>0.254368</td>\n",
              "      <td>-0.304812</td>\n",
              "      <td>0.137939</td>\n",
              "      <td>0</td>\n",
              "    </tr>\n",
              "    <tr>\n",
              "      <th>4</th>\n",
              "      <td>-0.659649</td>\n",
              "      <td>0.760624</td>\n",
              "      <td>-0.893684</td>\n",
              "      <td>0.631897</td>\n",
              "      <td>0.917104</td>\n",
              "      <td>-0.302396</td>\n",
              "      <td>0.654995</td>\n",
              "      <td>-0.399514</td>\n",
              "      <td>0.248018</td>\n",
              "      <td>-0.049401</td>\n",
              "      <td>...</td>\n",
              "      <td>-0.750389</td>\n",
              "      <td>-0.442866</td>\n",
              "      <td>-0.217587</td>\n",
              "      <td>0.173289</td>\n",
              "      <td>1.165948</td>\n",
              "      <td>0.865764</td>\n",
              "      <td>0.612923</td>\n",
              "      <td>-0.465146</td>\n",
              "      <td>0.184582</td>\n",
              "      <td>1</td>\n",
              "    </tr>\n",
              "    <tr>\n",
              "      <th>...</th>\n",
              "      <td>...</td>\n",
              "      <td>...</td>\n",
              "      <td>...</td>\n",
              "      <td>...</td>\n",
              "      <td>...</td>\n",
              "      <td>...</td>\n",
              "      <td>...</td>\n",
              "      <td>...</td>\n",
              "      <td>...</td>\n",
              "      <td>...</td>\n",
              "      <td>...</td>\n",
              "      <td>...</td>\n",
              "      <td>...</td>\n",
              "      <td>...</td>\n",
              "      <td>...</td>\n",
              "      <td>...</td>\n",
              "      <td>...</td>\n",
              "      <td>...</td>\n",
              "      <td>...</td>\n",
              "      <td>...</td>\n",
              "      <td>...</td>\n",
              "    </tr>\n",
              "    <tr>\n",
              "      <th>2977</th>\n",
              "      <td>-0.647316</td>\n",
              "      <td>0.837336</td>\n",
              "      <td>-0.850161</td>\n",
              "      <td>0.681651</td>\n",
              "      <td>0.988778</td>\n",
              "      <td>-0.215474</td>\n",
              "      <td>0.255723</td>\n",
              "      <td>-0.216033</td>\n",
              "      <td>0.283634</td>\n",
              "      <td>0.167947</td>\n",
              "      <td>...</td>\n",
              "      <td>-0.673583</td>\n",
              "      <td>-0.304413</td>\n",
              "      <td>0.049260</td>\n",
              "      <td>0.138724</td>\n",
              "      <td>0.610933</td>\n",
              "      <td>0.632354</td>\n",
              "      <td>0.137524</td>\n",
              "      <td>-0.221611</td>\n",
              "      <td>0.247262</td>\n",
              "      <td>1</td>\n",
              "    </tr>\n",
              "    <tr>\n",
              "      <th>2978</th>\n",
              "      <td>-0.399966</td>\n",
              "      <td>0.615459</td>\n",
              "      <td>-0.883519</td>\n",
              "      <td>0.576336</td>\n",
              "      <td>0.942799</td>\n",
              "      <td>-0.358130</td>\n",
              "      <td>0.683987</td>\n",
              "      <td>-0.330077</td>\n",
              "      <td>0.406368</td>\n",
              "      <td>-0.014734</td>\n",
              "      <td>...</td>\n",
              "      <td>-0.803864</td>\n",
              "      <td>-0.570279</td>\n",
              "      <td>-0.290033</td>\n",
              "      <td>0.077163</td>\n",
              "      <td>1.054254</td>\n",
              "      <td>0.930060</td>\n",
              "      <td>0.877765</td>\n",
              "      <td>-0.569388</td>\n",
              "      <td>0.242267</td>\n",
              "      <td>1</td>\n",
              "    </tr>\n",
              "    <tr>\n",
              "      <th>2979</th>\n",
              "      <td>-0.457872</td>\n",
              "      <td>0.703620</td>\n",
              "      <td>-0.916380</td>\n",
              "      <td>0.609820</td>\n",
              "      <td>1.026346</td>\n",
              "      <td>-0.505827</td>\n",
              "      <td>0.731779</td>\n",
              "      <td>-0.271467</td>\n",
              "      <td>0.422501</td>\n",
              "      <td>-0.043889</td>\n",
              "      <td>...</td>\n",
              "      <td>-0.828837</td>\n",
              "      <td>-0.513248</td>\n",
              "      <td>-0.318615</td>\n",
              "      <td>-0.106112</td>\n",
              "      <td>1.358014</td>\n",
              "      <td>0.941849</td>\n",
              "      <td>0.940510</td>\n",
              "      <td>-0.630402</td>\n",
              "      <td>0.408709</td>\n",
              "      <td>1</td>\n",
              "    </tr>\n",
              "    <tr>\n",
              "      <th>2980</th>\n",
              "      <td>-0.688316</td>\n",
              "      <td>0.683464</td>\n",
              "      <td>-0.907990</td>\n",
              "      <td>0.609243</td>\n",
              "      <td>0.993373</td>\n",
              "      <td>-0.345146</td>\n",
              "      <td>0.805562</td>\n",
              "      <td>-0.460633</td>\n",
              "      <td>0.015701</td>\n",
              "      <td>0.135131</td>\n",
              "      <td>...</td>\n",
              "      <td>-0.830017</td>\n",
              "      <td>-0.555280</td>\n",
              "      <td>-0.403823</td>\n",
              "      <td>0.242766</td>\n",
              "      <td>1.490108</td>\n",
              "      <td>1.113169</td>\n",
              "      <td>0.888424</td>\n",
              "      <td>-0.661555</td>\n",
              "      <td>-0.007748</td>\n",
              "      <td>0</td>\n",
              "    </tr>\n",
              "    <tr>\n",
              "      <th>2981</th>\n",
              "      <td>-0.527354</td>\n",
              "      <td>0.828988</td>\n",
              "      <td>-0.910679</td>\n",
              "      <td>0.583083</td>\n",
              "      <td>1.017251</td>\n",
              "      <td>-0.394150</td>\n",
              "      <td>0.870265</td>\n",
              "      <td>-0.326930</td>\n",
              "      <td>0.367518</td>\n",
              "      <td>0.168474</td>\n",
              "      <td>...</td>\n",
              "      <td>-0.809443</td>\n",
              "      <td>-0.623229</td>\n",
              "      <td>-0.276926</td>\n",
              "      <td>0.094541</td>\n",
              "      <td>1.158194</td>\n",
              "      <td>1.037291</td>\n",
              "      <td>1.019881</td>\n",
              "      <td>-0.664484</td>\n",
              "      <td>0.194120</td>\n",
              "      <td>1</td>\n",
              "    </tr>\n",
              "  </tbody>\n",
              "</table>\n",
              "<p>2982 rows × 33 columns</p>\n",
              "</div>\n",
              "      <button class=\"colab-df-convert\" onclick=\"convertToInteractive('df-127a66a3-9d16-4baa-9cdd-924d5cfdef13')\"\n",
              "              title=\"Convert this dataframe to an interactive table.\"\n",
              "              style=\"display:none;\">\n",
              "        \n",
              "  <svg xmlns=\"http://www.w3.org/2000/svg\" height=\"24px\"viewBox=\"0 0 24 24\"\n",
              "       width=\"24px\">\n",
              "    <path d=\"M0 0h24v24H0V0z\" fill=\"none\"/>\n",
              "    <path d=\"M18.56 5.44l.94 2.06.94-2.06 2.06-.94-2.06-.94-.94-2.06-.94 2.06-2.06.94zm-11 1L8.5 8.5l.94-2.06 2.06-.94-2.06-.94L8.5 2.5l-.94 2.06-2.06.94zm10 10l.94 2.06.94-2.06 2.06-.94-2.06-.94-.94-2.06-.94 2.06-2.06.94z\"/><path d=\"M17.41 7.96l-1.37-1.37c-.4-.4-.92-.59-1.43-.59-.52 0-1.04.2-1.43.59L10.3 9.45l-7.72 7.72c-.78.78-.78 2.05 0 2.83L4 21.41c.39.39.9.59 1.41.59.51 0 1.02-.2 1.41-.59l7.78-7.78 2.81-2.81c.8-.78.8-2.07 0-2.86zM5.41 20L4 18.59l7.72-7.72 1.47 1.35L5.41 20z\"/>\n",
              "  </svg>\n",
              "      </button>\n",
              "      \n",
              "  <style>\n",
              "    .colab-df-container {\n",
              "      display:flex;\n",
              "      flex-wrap:wrap;\n",
              "      gap: 12px;\n",
              "    }\n",
              "\n",
              "    .colab-df-convert {\n",
              "      background-color: #E8F0FE;\n",
              "      border: none;\n",
              "      border-radius: 50%;\n",
              "      cursor: pointer;\n",
              "      display: none;\n",
              "      fill: #1967D2;\n",
              "      height: 32px;\n",
              "      padding: 0 0 0 0;\n",
              "      width: 32px;\n",
              "    }\n",
              "\n",
              "    .colab-df-convert:hover {\n",
              "      background-color: #E2EBFA;\n",
              "      box-shadow: 0px 1px 2px rgba(60, 64, 67, 0.3), 0px 1px 3px 1px rgba(60, 64, 67, 0.15);\n",
              "      fill: #174EA6;\n",
              "    }\n",
              "\n",
              "    [theme=dark] .colab-df-convert {\n",
              "      background-color: #3B4455;\n",
              "      fill: #D2E3FC;\n",
              "    }\n",
              "\n",
              "    [theme=dark] .colab-df-convert:hover {\n",
              "      background-color: #434B5C;\n",
              "      box-shadow: 0px 1px 3px 1px rgba(0, 0, 0, 0.15);\n",
              "      filter: drop-shadow(0px 1px 2px rgba(0, 0, 0, 0.3));\n",
              "      fill: #FFFFFF;\n",
              "    }\n",
              "  </style>\n",
              "\n",
              "      <script>\n",
              "        const buttonEl =\n",
              "          document.querySelector('#df-127a66a3-9d16-4baa-9cdd-924d5cfdef13 button.colab-df-convert');\n",
              "        buttonEl.style.display =\n",
              "          google.colab.kernel.accessAllowed ? 'block' : 'none';\n",
              "\n",
              "        async function convertToInteractive(key) {\n",
              "          const element = document.querySelector('#df-127a66a3-9d16-4baa-9cdd-924d5cfdef13');\n",
              "          const dataTable =\n",
              "            await google.colab.kernel.invokeFunction('convertToInteractive',\n",
              "                                                     [key], {});\n",
              "          if (!dataTable) return;\n",
              "\n",
              "          const docLinkHtml = 'Like what you see? Visit the ' +\n",
              "            '<a target=\"_blank\" href=https://colab.research.google.com/notebooks/data_table.ipynb>data table notebook</a>'\n",
              "            + ' to learn more about interactive tables.';\n",
              "          element.innerHTML = '';\n",
              "          dataTable['output_type'] = 'display_data';\n",
              "          await google.colab.output.renderOutput(dataTable, element);\n",
              "          const docLink = document.createElement('div');\n",
              "          docLink.innerHTML = docLinkHtml;\n",
              "          element.appendChild(docLink);\n",
              "        }\n",
              "      </script>\n",
              "    </div>\n",
              "  </div>\n",
              "  "
            ]
          },
          "metadata": {},
          "execution_count": 48
        }
      ]
    },
    {
      "cell_type": "code",
      "source": [
        "X=node_emb.drop(['Class'],axis=1)\n",
        "Y=node_emb['Class']"
      ],
      "metadata": {
        "id": "mmPL8GPh3Tw7"
      },
      "execution_count": 49,
      "outputs": []
    },
    {
      "cell_type": "markdown",
      "source": [
        "### Model Building"
      ],
      "metadata": {
        "id": "CfYbEucpuvBS"
      }
    },
    {
      "cell_type": "markdown",
      "source": [
        "### 10 FOLD CROSS VALIDATION"
      ],
      "metadata": {
        "id": "pDp4tTyru2zu"
      }
    },
    {
      "cell_type": "code",
      "source": [
        "from sklearn.model_selection import train_test_split\n",
        "from sklearn import tree\n",
        "from sklearn.metrics import classification_report,accuracy_score\n",
        "from sklearn import preprocessing\n",
        "from sklearn.linear_model import LogisticRegression\n",
        "from sklearn.linear_model import LinearRegression\n",
        "from sklearn.svm import SVC\n",
        "from sklearn.svm import LinearSVC\n",
        "from sklearn import metrics\n",
        "\n",
        "from sklearn.ensemble import RandomForestClassifier\n",
        "from sklearn.tree import DecisionTreeClassifier\n",
        "from sklearn.naive_bayes import MultinomialNB\n",
        "from sklearn.svm import LinearSVC\n",
        "from xgboost import XGBClassifier\n",
        "from xgboost import XGBRegressor\n",
        "from sklearn.metrics import confusion_matrix, recall_score, precision_score,f1_score\n",
        "import seaborn as sns\n",
        "from sklearn.model_selection import KFold\n",
        "from sklearn.model_selection import StratifiedKFold\n",
        "from sklearn.model_selection import cross_val_score"
      ],
      "metadata": {
        "id": "fCjkteb06NdW"
      },
      "execution_count": 50,
      "outputs": []
    },
    {
      "cell_type": "code",
      "source": [
        "from sklearn.svm import LinearSVC\n",
        "models = LinearSVC()\n",
        "folds = StratifiedKFold(n_splits=10, shuffle=True, random_state=1)\n",
        "y_pred = []\n",
        "y_exp = []\n",
        "\n",
        "for train_index, test_index in folds.split(X, Y):\n",
        "    x_train, x_test = X.iloc[train_index], X.iloc[test_index]\n",
        "    y_train, y_test = Y[train_index], Y[test_index]\n",
        "    models.fit(x_train, y_train)\n",
        "    # store result from classification\n",
        "    y_pred.extend(models.predict(x_test))\n",
        "    # store expected result for this specific fold\n",
        "    y_exp.extend(y_test)\n",
        "\n",
        "print(\"Accuracy: \",  accuracy_score(y_exp, y_pred))\n",
        "print(classification_report(y_exp, y_pred))\n",
        "print(\"Confusion matrix: \", confusion_matrix(y_exp, y_pred))"
      ],
      "metadata": {
        "id": "5XAFPDrT6NfZ",
        "colab": {
          "base_uri": "https://localhost:8080/"
        },
        "outputId": "da87dfb9-acea-421f-b3e6-35b6288fc4c7"
      },
      "execution_count": 51,
      "outputs": [
        {
          "output_type": "stream",
          "name": "stdout",
          "text": [
            "Accuracy:  0.7126089872568746\n",
            "              precision    recall  f1-score   support\n",
            "\n",
            "           0       0.70      0.56      0.62      1253\n",
            "           1       0.72      0.82      0.77      1729\n",
            "\n",
            "    accuracy                           0.71      2982\n",
            "   macro avg       0.71      0.69      0.69      2982\n",
            "weighted avg       0.71      0.71      0.71      2982\n",
            "\n",
            "Confusion matrix:  [[ 703  550]\n",
            " [ 307 1422]]\n"
          ]
        }
      ]
    },
    {
      "cell_type": "code",
      "source": [
        "from sklearn.linear_model import LogisticRegression\n",
        "lr = LogisticRegression(max_iter=10000) \n",
        "folds = StratifiedKFold(n_splits=10, shuffle=True, random_state=1)\n",
        "y_pred = []\n",
        "y_exp = []\n",
        "\n",
        "for train_index, test_index in folds.split(X, Y):\n",
        "    x_train, x_test = X.iloc[train_index], X.iloc[test_index]\n",
        "    y_train, y_test = Y[train_index], Y[test_index]\n",
        "    lr.fit(x_train, y_train)\n",
        "    # store result from classification\n",
        "    y_pred.extend(lr.predict(x_test))\n",
        "    # store expected result for this specific fold\n",
        "    y_exp.extend(y_test)\n",
        "\n",
        "print(\"Accuracy: \",  accuracy_score(y_exp, y_pred))\n",
        "print(classification_report(y_exp, y_pred))\n",
        "print(\"Confusion matrix: \", confusion_matrix(y_exp, y_pred))"
      ],
      "metadata": {
        "id": "yZ5ysiym6NjE",
        "colab": {
          "base_uri": "https://localhost:8080/"
        },
        "outputId": "409c9b14-1dfc-405f-813b-9fc4d3f0911f"
      },
      "execution_count": 52,
      "outputs": [
        {
          "output_type": "stream",
          "name": "stdout",
          "text": [
            "Accuracy:  0.6713615023474179\n",
            "              precision    recall  f1-score   support\n",
            "\n",
            "           0       0.65      0.47      0.55      1253\n",
            "           1       0.68      0.82      0.74      1729\n",
            "\n",
            "    accuracy                           0.67      2982\n",
            "   macro avg       0.67      0.64      0.64      2982\n",
            "weighted avg       0.67      0.67      0.66      2982\n",
            "\n",
            "Confusion matrix:  [[ 589  664]\n",
            " [ 316 1413]]\n"
          ]
        }
      ]
    },
    {
      "cell_type": "code",
      "source": [
        "from sklearn.ensemble import RandomForestClassifier, GradientBoostingClassifier, AdaBoostClassifier\n",
        "rf = RandomForestClassifier(n_estimators=300)\n",
        "folds = StratifiedKFold(n_splits=10, shuffle=True, random_state=1)\n",
        "y_pred = []\n",
        "y_exp = []\n",
        "\n",
        "for train_index, test_index in folds.split(X, Y):\n",
        "    x_train, x_test = X.iloc[train_index], X.iloc[test_index]\n",
        "    y_train, y_test = Y[train_index], Y[test_index]\n",
        "    rf.fit(x_train, y_train)\n",
        "    # store result from classification\n",
        "    y_pred.extend(rf.predict(x_test))\n",
        "    # store expected result for this specific fold\n",
        "    y_exp.extend(y_test)\n",
        "\n",
        "print(\"Accuracy: \",  accuracy_score(y_exp, y_pred))\n",
        "print(classification_report(y_exp, y_pred))\n",
        "print(\"Confusion matrix: \", confusion_matrix(y_exp, y_pred))"
      ],
      "metadata": {
        "id": "giwpzkbF6Nk3",
        "colab": {
          "base_uri": "https://localhost:8080/"
        },
        "outputId": "531dbfad-f893-400c-8a41-2bc9acfbac93"
      },
      "execution_count": 53,
      "outputs": [
        {
          "output_type": "stream",
          "name": "stdout",
          "text": [
            "Accuracy:  0.9071093226022804\n",
            "              precision    recall  f1-score   support\n",
            "\n",
            "           0       0.91      0.87      0.89      1253\n",
            "           1       0.91      0.94      0.92      1729\n",
            "\n",
            "    accuracy                           0.91      2982\n",
            "   macro avg       0.91      0.90      0.90      2982\n",
            "weighted avg       0.91      0.91      0.91      2982\n",
            "\n",
            "Confusion matrix:  [[1086  167]\n",
            " [ 110 1619]]\n"
          ]
        }
      ]
    },
    {
      "cell_type": "code",
      "source": [
        "gbc = GradientBoostingClassifier(n_estimators=300)\n",
        "folds = StratifiedKFold(n_splits=10, shuffle=True, random_state=7)\n",
        "y_pred = []\n",
        "y_exp = []\n",
        "\n",
        "for train_index, test_index in folds.split(X, Y):\n",
        "    x_train, x_test = X.iloc[train_index], X.iloc[test_index]\n",
        "    y_train, y_test = Y[train_index], Y[test_index]\n",
        "    gbc.fit(x_train, y_train)\n",
        "    # store result from classification\n",
        "    y_pred.extend(gbc.predict(x_test))\n",
        "    # store expected result for this specific fold\n",
        "    y_exp.extend(y_test)\n",
        "\n",
        "print(\"Accuracy: \",  accuracy_score(y_exp, y_pred))\n",
        "print(classification_report(y_exp, y_pred))\n",
        "print(\"Confusion matrix: \", confusion_matrix(y_exp, y_pred))"
      ],
      "metadata": {
        "id": "LcC17kWy6Noi",
        "colab": {
          "base_uri": "https://localhost:8080/"
        },
        "outputId": "aac6188c-615a-4517-f92b-9d3fc4c15c19"
      },
      "execution_count": 54,
      "outputs": [
        {
          "output_type": "stream",
          "name": "stdout",
          "text": [
            "Accuracy:  0.903420523138833\n",
            "              precision    recall  f1-score   support\n",
            "\n",
            "           0       0.91      0.86      0.88      1253\n",
            "           1       0.90      0.93      0.92      1729\n",
            "\n",
            "    accuracy                           0.90      2982\n",
            "   macro avg       0.90      0.90      0.90      2982\n",
            "weighted avg       0.90      0.90      0.90      2982\n",
            "\n",
            "Confusion matrix:  [[1078  175]\n",
            " [ 113 1616]]\n"
          ]
        }
      ]
    },
    {
      "cell_type": "code",
      "source": [
        "import xgboost as xgb\n",
        "xgbc = xgb.XGBClassifier(base_score=0.5, booster='gbtree', colsample_bylevel=1,\n",
        "              colsample_bynode=1, colsample_bytree=1, \n",
        "              gamma=0,  importance_type='gain',\n",
        "              interaction_constraints='', learning_rate=0.300000012,\n",
        "              max_delta_step=0, max_depth=6, min_child_weight=1, \n",
        "             n_estimators=200, n_jobs=16,\n",
        "              num_parallel_tree=1, random_state=0,\n",
        "              reg_alpha=0, reg_lambda=1, subsample=1,\n",
        "              tree_method='exact', use_label_encoder=False\n",
        "              )\n",
        "folds = StratifiedKFold(n_splits=10, shuffle=True, random_state=1)\n",
        "y_pred = []\n",
        "y_exp = []\n",
        "\n",
        "for train_index, test_index in folds.split(X, Y):\n",
        "    x_train, x_test = X.iloc[train_index], X.iloc[test_index]\n",
        "    y_train, y_test = Y[train_index], Y[test_index]\n",
        "    xgbc.fit(x_train, y_train)\n",
        "    # store result from classification\n",
        "    y_pred.extend(xgbc.predict(x_test))\n",
        "    # store expected result for this specific fold\n",
        "    y_exp.extend(y_test)\n",
        "\n",
        "print(\"Accuracy: \",  accuracy_score(y_exp, y_pred))\n",
        "print(classification_report(y_exp, y_pred))\n",
        "print(\"Confusion matrix: \", confusion_matrix(y_exp, y_pred))"
      ],
      "metadata": {
        "id": "dp0PwprI6NqX",
        "colab": {
          "base_uri": "https://localhost:8080/"
        },
        "outputId": "efd509bd-33ed-469f-eae1-0ad8dee30c5d"
      },
      "execution_count": 55,
      "outputs": [
        {
          "output_type": "stream",
          "name": "stdout",
          "text": [
            "Accuracy:  0.9004024144869215\n",
            "              precision    recall  f1-score   support\n",
            "\n",
            "           0       0.90      0.86      0.88      1253\n",
            "           1       0.90      0.93      0.92      1729\n",
            "\n",
            "    accuracy                           0.90      2982\n",
            "   macro avg       0.90      0.90      0.90      2982\n",
            "weighted avg       0.90      0.90      0.90      2982\n",
            "\n",
            "Confusion matrix:  [[1082  171]\n",
            " [ 126 1603]]\n"
          ]
        }
      ]
    },
    {
      "cell_type": "code",
      "source": [
        "import lightgbm as lgb\n",
        "lgb = lgb.LGBMClassifier(boosting_type='gbdt', class_weight=None, colsample_bytree=1.0,\n",
        "               importance_type='split', learning_rate=0.1, max_depth=-1,\n",
        "               min_child_samples=20, min_child_weight=0.001, min_split_gain=0.0,\n",
        "               n_estimators=400, n_jobs=-1, num_leaves=31, objective=None,\n",
        "               random_state=None, reg_alpha=0.0, reg_lambda=0.0, silent=True,\n",
        "               subsample=1.0, subsample_for_bin=200000, subsample_freq=0)\n",
        "folds = StratifiedKFold(n_splits=10, shuffle=True, random_state=1)\n",
        "y_pred = []\n",
        "y_exp = []\n",
        "\n",
        "for train_index, test_index in folds.split(X, Y):\n",
        "    x_train, x_test = X.iloc[train_index], X.iloc[test_index]\n",
        "    y_train, y_test = Y[train_index], Y[test_index]\n",
        "    lgb.fit(x_train, y_train)\n",
        "    # store result from classification\n",
        "    y_pred.extend(lgb.predict(x_test))\n",
        "    # store expected result for this specific fold\n",
        "    y_exp.extend(y_test)\n",
        "\n",
        "print(\"Accuracy: \",  accuracy_score(y_exp, y_pred))\n",
        "print(classification_report(y_exp, y_pred))\n",
        "print(\"Confusion matrix: \", confusion_matrix(y_exp, y_pred))"
      ],
      "metadata": {
        "id": "zTIpux2h9rKs",
        "colab": {
          "base_uri": "https://localhost:8080/"
        },
        "outputId": "03662137-3834-4648-e922-a429ce7deef6"
      },
      "execution_count": 56,
      "outputs": [
        {
          "output_type": "stream",
          "name": "stdout",
          "text": [
            "Accuracy:  0.8839704896042925\n",
            "              precision    recall  f1-score   support\n",
            "\n",
            "           0       0.87      0.85      0.86      1253\n",
            "           1       0.89      0.91      0.90      1729\n",
            "\n",
            "    accuracy                           0.88      2982\n",
            "   macro avg       0.88      0.88      0.88      2982\n",
            "weighted avg       0.88      0.88      0.88      2982\n",
            "\n",
            "Confusion matrix:  [[1069  184]\n",
            " [ 162 1567]]\n"
          ]
        }
      ]
    },
    {
      "cell_type": "markdown",
      "source": [
        "### TRAIN TEST SPLIT"
      ],
      "metadata": {
        "id": "czyqqS1Zu7KG"
      }
    },
    {
      "cell_type": "code",
      "source": [
        "from sklearn.model_selection import train_test_split\n",
        "x_train, x_test, y_train, y_test = train_test_split(X, Y, test_size=0.2, random_state=7, stratify=Y)"
      ],
      "metadata": {
        "id": "gF9BFlP96Nuk"
      },
      "execution_count": 57,
      "outputs": []
    },
    {
      "cell_type": "code",
      "source": [
        "from sklearn.linear_model import PassiveAggressiveClassifier\n",
        "pa=PassiveAggressiveClassifier(max_iter=1000, random_state=7, tol=1e-3)\n",
        "pa.fit(x_train, y_train)\n",
        "y_pred=pa.predict(x_test)\n",
        "from sklearn.metrics import confusion_matrix, classification_report, accuracy_score\n",
        "print(confusion_matrix(y_test, y_pred))\n",
        "print(classification_report(y_test, y_pred))\n",
        "print('accuracy_score: ', accuracy_score(y_test, y_pred))"
      ],
      "metadata": {
        "id": "bTQM1ya87E4c",
        "colab": {
          "base_uri": "https://localhost:8080/"
        },
        "outputId": "652659f7-97a7-4560-9bf7-31a6d23e087b"
      },
      "execution_count": 58,
      "outputs": [
        {
          "output_type": "stream",
          "name": "stdout",
          "text": [
            "[[245   6]\n",
            " [283  63]]\n",
            "              precision    recall  f1-score   support\n",
            "\n",
            "           0       0.46      0.98      0.63       251\n",
            "           1       0.91      0.18      0.30       346\n",
            "\n",
            "    accuracy                           0.52       597\n",
            "   macro avg       0.69      0.58      0.47       597\n",
            "weighted avg       0.72      0.52      0.44       597\n",
            "\n",
            "accuracy_score:  0.5159128978224455\n"
          ]
        }
      ]
    },
    {
      "cell_type": "code",
      "source": [
        "from sklearn.svm import LinearSVC\n",
        "lsvm = LinearSVC()\n",
        "lsvm.fit(x_train, y_train)\n",
        "y_pred=lsvm.predict(x_test)\n",
        "from sklearn.metrics import confusion_matrix, classification_report, accuracy_score\n",
        "print(confusion_matrix(y_test, y_pred))\n",
        "print(classification_report(y_test, y_pred))\n",
        "print('accuracy_score: ', accuracy_score(y_test, y_pred))"
      ],
      "metadata": {
        "id": "toH7prvx7E6T",
        "colab": {
          "base_uri": "https://localhost:8080/"
        },
        "outputId": "6647b10f-fefd-4407-edb2-a0bca5cc9f8b"
      },
      "execution_count": 59,
      "outputs": [
        {
          "output_type": "stream",
          "name": "stdout",
          "text": [
            "[[136 115]\n",
            " [ 60 286]]\n",
            "              precision    recall  f1-score   support\n",
            "\n",
            "           0       0.69      0.54      0.61       251\n",
            "           1       0.71      0.83      0.77       346\n",
            "\n",
            "    accuracy                           0.71       597\n",
            "   macro avg       0.70      0.68      0.69       597\n",
            "weighted avg       0.71      0.71      0.70       597\n",
            "\n",
            "accuracy_score:  0.7068676716917923\n"
          ]
        }
      ]
    },
    {
      "cell_type": "code",
      "source": [
        "rf = RandomForestClassifier(n_estimators=300)\n",
        "rf.fit(x_train, y_train)\n",
        "y_pred=rf.predict(x_test)\n",
        "from sklearn.metrics import confusion_matrix, classification_report, accuracy_score\n",
        "print(confusion_matrix(y_test, y_pred))\n",
        "print(classification_report(y_test, y_pred))\n",
        "print('accuracy_score: ', accuracy_score(y_test, y_pred))"
      ],
      "metadata": {
        "id": "o4QoG5DX7E99",
        "colab": {
          "base_uri": "https://localhost:8080/"
        },
        "outputId": "ee4f497e-f97d-43a2-cf09-16888717f7c7"
      },
      "execution_count": 60,
      "outputs": [
        {
          "output_type": "stream",
          "name": "stdout",
          "text": [
            "[[221  30]\n",
            " [ 24 322]]\n",
            "              precision    recall  f1-score   support\n",
            "\n",
            "           0       0.90      0.88      0.89       251\n",
            "           1       0.91      0.93      0.92       346\n",
            "\n",
            "    accuracy                           0.91       597\n",
            "   macro avg       0.91      0.91      0.91       597\n",
            "weighted avg       0.91      0.91      0.91       597\n",
            "\n",
            "accuracy_score:  0.9095477386934674\n"
          ]
        }
      ]
    },
    {
      "cell_type": "code",
      "source": [
        "xgbc = xgb.XGBClassifier(base_score=0.5, booster='gbtree', colsample_bylevel=1,\n",
        "              colsample_bynode=1, colsample_bytree=1, \n",
        "              gamma=0,  importance_type='gain',\n",
        "              interaction_constraints='', learning_rate=0.300000012,\n",
        "              max_delta_step=0, max_depth=6, min_child_weight=1, \n",
        "             n_estimators=200, n_jobs=16,\n",
        "              num_parallel_tree=1, random_state=0,\n",
        "              reg_alpha=0, reg_lambda=1, subsample=1,\n",
        "              tree_method='exact', use_label_encoder=False\n",
        "              )\n",
        "xgbc.fit(x_train, y_train)\n",
        "y_pred=xgbc.predict(x_test)\n",
        "from sklearn.metrics import confusion_matrix, classification_report, accuracy_score\n",
        "print(confusion_matrix(y_test, y_pred))\n",
        "print(classification_report(y_test, y_pred))\n",
        "print('accuracy_score: ', accuracy_score(y_test, y_pred))"
      ],
      "metadata": {
        "id": "mXpQnMTA7FAN",
        "colab": {
          "base_uri": "https://localhost:8080/"
        },
        "outputId": "429ec66b-5c30-4a4e-b764-0c2d9a06deb1"
      },
      "execution_count": 61,
      "outputs": [
        {
          "output_type": "stream",
          "name": "stdout",
          "text": [
            "[[219  32]\n",
            " [ 23 323]]\n",
            "              precision    recall  f1-score   support\n",
            "\n",
            "           0       0.90      0.87      0.89       251\n",
            "           1       0.91      0.93      0.92       346\n",
            "\n",
            "    accuracy                           0.91       597\n",
            "   macro avg       0.91      0.90      0.90       597\n",
            "weighted avg       0.91      0.91      0.91       597\n",
            "\n",
            "accuracy_score:  0.9078726968174204\n"
          ]
        }
      ]
    },
    {
      "cell_type": "code",
      "source": [
        "gbc = GradientBoostingClassifier(n_estimators=300)\n",
        "gbc.fit(x_train, y_train)\n",
        "y_pred=gbc.predict(x_test)\n",
        "from sklearn.metrics import confusion_matrix, classification_report, accuracy_score\n",
        "print(confusion_matrix(y_test, y_pred))\n",
        "print(classification_report(y_test, y_pred))\n",
        "print('accuracy_score: ', accuracy_score(y_test, y_pred))"
      ],
      "metadata": {
        "colab": {
          "base_uri": "https://localhost:8080/"
        },
        "id": "sp4V5qsxJM5l",
        "outputId": "0c58118c-96bd-45b6-f660-4c89713d9af4"
      },
      "execution_count": 62,
      "outputs": [
        {
          "output_type": "stream",
          "name": "stdout",
          "text": [
            "[[216  35]\n",
            " [ 25 321]]\n",
            "              precision    recall  f1-score   support\n",
            "\n",
            "           0       0.90      0.86      0.88       251\n",
            "           1       0.90      0.93      0.91       346\n",
            "\n",
            "    accuracy                           0.90       597\n",
            "   macro avg       0.90      0.89      0.90       597\n",
            "weighted avg       0.90      0.90      0.90       597\n",
            "\n",
            "accuracy_score:  0.8994974874371859\n"
          ]
        }
      ]
    },
    {
      "cell_type": "code",
      "source": [
        "log = LogisticRegression(max_iter=10000) \n",
        "log.fit(x_train, y_train)\n",
        "y_pred=log.predict(x_test)\n",
        "from sklearn.metrics import confusion_matrix, classification_report, accuracy_score\n",
        "print(confusion_matrix(y_test, y_pred))\n",
        "print(classification_report(y_test, y_pred))\n",
        "print('accuracy_score: ', accuracy_score(y_test, y_pred))"
      ],
      "metadata": {
        "id": "5fPnDeiw7FEK",
        "colab": {
          "base_uri": "https://localhost:8080/"
        },
        "outputId": "bbcf4665-92b3-47a1-e206-7c58d2774528"
      },
      "execution_count": 63,
      "outputs": [
        {
          "output_type": "stream",
          "name": "stdout",
          "text": [
            "[[111 140]\n",
            " [ 54 292]]\n",
            "              precision    recall  f1-score   support\n",
            "\n",
            "           0       0.67      0.44      0.53       251\n",
            "           1       0.68      0.84      0.75       346\n",
            "\n",
            "    accuracy                           0.68       597\n",
            "   macro avg       0.67      0.64      0.64       597\n",
            "weighted avg       0.67      0.68      0.66       597\n",
            "\n",
            "accuracy_score:  0.6750418760469011\n"
          ]
        }
      ]
    },
    {
      "cell_type": "code",
      "source": [
        "import lightgbm as lgb\n",
        "lgb = lgb.LGBMClassifier(boosting_type='gbdt', class_weight=None, colsample_bytree=1.0,\n",
        "               importance_type='split', learning_rate=0.1, max_depth=-1,\n",
        "               min_child_samples=20, min_child_weight=0.001, min_split_gain=0.0,\n",
        "               n_estimators=400, n_jobs=-1, num_leaves=31, objective=None,\n",
        "               random_state=None, reg_alpha=0.0, reg_lambda=0.0, silent=True,\n",
        "               subsample=1.0, subsample_for_bin=200000, subsample_freq=0)\n",
        "lgb.fit(x_train, y_train)\n",
        "y_pred=lgb.predict(x_test)\n",
        "from sklearn.metrics import confusion_matrix, classification_report, accuracy_score\n",
        "print(confusion_matrix(y_test, y_pred))\n",
        "print(classification_report(y_test, y_pred))\n",
        "print('accuracy_score: ', accuracy_score(y_test, y_pred))"
      ],
      "metadata": {
        "id": "zIwbJ5Bl990y",
        "colab": {
          "base_uri": "https://localhost:8080/"
        },
        "outputId": "e36c3fa8-3c2a-43cb-fb8b-2ca9390dcaa6"
      },
      "execution_count": 64,
      "outputs": [
        {
          "output_type": "stream",
          "name": "stdout",
          "text": [
            "[[215  36]\n",
            " [ 30 316]]\n",
            "              precision    recall  f1-score   support\n",
            "\n",
            "           0       0.88      0.86      0.87       251\n",
            "           1       0.90      0.91      0.91       346\n",
            "\n",
            "    accuracy                           0.89       597\n",
            "   macro avg       0.89      0.88      0.89       597\n",
            "weighted avg       0.89      0.89      0.89       597\n",
            "\n",
            "accuracy_score:  0.8894472361809045\n"
          ]
        }
      ]
    }
  ]
}